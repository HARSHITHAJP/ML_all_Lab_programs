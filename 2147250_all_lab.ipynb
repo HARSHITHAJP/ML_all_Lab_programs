{
  "cells": [
    {
      "cell_type": "markdown",
      "source": [
        "**DATASET DESCRIPTION**\n",
        "\n",
        "\n",
        "**Dataset name : Austin Weather**\n",
        "\n",
        "Dataset description :\n",
        "The dataset is derived from Kaggle’s repository.\n",
        "The forecasts are generated from Austin KATT station’s proprietary forecasting system that leverages their vast amount of neighborhood weather data that they get from their community.\n",
        " \n",
        "Dataset Attributes:\n",
        "The dataset has 21 attributes. Each tells a measure used to display as the weather forecast\n",
        "Attributes\n",
        "Description\n",
        "Date\n",
        "(YYYY-MM-DD)  \n",
        "Dates are from 2013-12-21 to 2017-07-31\n",
        "<br>\n",
        "TempHighF\n",
        " (High temperature, in Fahrenheit)\n",
        " <br>\n",
        "TempAvgF\n",
        "(Average temperature, in Fahrenheit)\n",
        "<br>\n",
        "TempLowF\n",
        "(Low temperature, in Fahrenheit)\n",
        "<br>\n",
        "DewPointHighF\n",
        "(High dew point, in Fahrenheit)\n",
        "<br>\n",
        "DewPointAvgF\n",
        " (Average dew point, in Fahrenheit)\n",
        " <br>\n",
        "DewPointLowF\n",
        " (Low dew point, in Fahrenheit)\n",
        " <br>\n",
        "HumidityHighPercent\n",
        " (High humidity, as a percentage)\n",
        " <br>\n",
        "HumidityAvgPercent \n",
        " (Average humidity, as a percentage)\n",
        " <br>\n",
        "HumidityLowPercent \n",
        "(Low humidity, as a percentage)\n",
        "<br>\n",
        "SeaLevelPressureHighInches\n",
        "(High sea level pressure, in inches)\n",
        "<br>\n",
        "SeaLevelPressureAvgInches\n",
        "(Average sea level pressure, in inches)\n",
        "<br>\n",
        "SeaLevelPressureLowInches\n",
        "(Low sea level pressure, in inches)\n",
        "<br>\n",
        "VisibilityHighMiles\n",
        " (High visibility, in miles)\n",
        " <br>\n",
        "VisibilityAvgMiles\n",
        "(Average visibility, in miles)\n",
        "<br>\n",
        "VisibilityLowMiles\n",
        " (Low visibility, in miles)\n",
        " <br>\n",
        "WindHighMPH\n",
        " (High wind speed, in miles per hour)\n",
        " <br>\n",
        "WindAvgMPH\n",
        "(Average wind speed, in miles per hour)\n",
        "<br>\n",
        "WindGustMPH\n",
        " (Highest wind speed gust, in miles per hour)\n",
        " <br>\n",
        "PrecipitationSumInches\n",
        "Total precipitation, in inches) ('T' if Trace)\n",
        "<br>\n",
        "Events\n",
        "(Adverse weather events. ' ' if None)(Nan)\n",
        "<br>\n",
        "\n",
        "class attribute:\n",
        "'Events'\n",
        "\n",
        "Dataset Sample:\n",
        "Dataset has 1320 samples collected by Austin KATT station.\n"
      ],
      "metadata": {
        "id": "Dxg-EUHCj9_q"
      }
    },
    {
      "cell_type": "code",
      "execution_count": null,
      "metadata": {
        "colab": {
          "base_uri": "https://localhost:8080/",
          "height": 74
        },
        "id": "qiuymUu2rOGl",
        "outputId": "08e13dbd-32e3-401f-80ea-360c80c2d15e"
      },
      "outputs": [
        {
          "output_type": "display_data",
          "data": {
            "text/plain": [
              "<IPython.core.display.HTML object>"
            ],
            "text/html": [
              "\n",
              "     <input type=\"file\" id=\"files-03b6b3c9-660a-4030-95e7-01a52c55943e\" name=\"files[]\" multiple disabled\n",
              "        style=\"border:none\" />\n",
              "     <output id=\"result-03b6b3c9-660a-4030-95e7-01a52c55943e\">\n",
              "      Upload widget is only available when the cell has been executed in the\n",
              "      current browser session. Please rerun this cell to enable.\n",
              "      </output>\n",
              "      <script>// Copyright 2017 Google LLC\n",
              "//\n",
              "// Licensed under the Apache License, Version 2.0 (the \"License\");\n",
              "// you may not use this file except in compliance with the License.\n",
              "// You may obtain a copy of the License at\n",
              "//\n",
              "//      http://www.apache.org/licenses/LICENSE-2.0\n",
              "//\n",
              "// Unless required by applicable law or agreed to in writing, software\n",
              "// distributed under the License is distributed on an \"AS IS\" BASIS,\n",
              "// WITHOUT WARRANTIES OR CONDITIONS OF ANY KIND, either express or implied.\n",
              "// See the License for the specific language governing permissions and\n",
              "// limitations under the License.\n",
              "\n",
              "/**\n",
              " * @fileoverview Helpers for google.colab Python module.\n",
              " */\n",
              "(function(scope) {\n",
              "function span(text, styleAttributes = {}) {\n",
              "  const element = document.createElement('span');\n",
              "  element.textContent = text;\n",
              "  for (const key of Object.keys(styleAttributes)) {\n",
              "    element.style[key] = styleAttributes[key];\n",
              "  }\n",
              "  return element;\n",
              "}\n",
              "\n",
              "// Max number of bytes which will be uploaded at a time.\n",
              "const MAX_PAYLOAD_SIZE = 100 * 1024;\n",
              "\n",
              "function _uploadFiles(inputId, outputId) {\n",
              "  const steps = uploadFilesStep(inputId, outputId);\n",
              "  const outputElement = document.getElementById(outputId);\n",
              "  // Cache steps on the outputElement to make it available for the next call\n",
              "  // to uploadFilesContinue from Python.\n",
              "  outputElement.steps = steps;\n",
              "\n",
              "  return _uploadFilesContinue(outputId);\n",
              "}\n",
              "\n",
              "// This is roughly an async generator (not supported in the browser yet),\n",
              "// where there are multiple asynchronous steps and the Python side is going\n",
              "// to poll for completion of each step.\n",
              "// This uses a Promise to block the python side on completion of each step,\n",
              "// then passes the result of the previous step as the input to the next step.\n",
              "function _uploadFilesContinue(outputId) {\n",
              "  const outputElement = document.getElementById(outputId);\n",
              "  const steps = outputElement.steps;\n",
              "\n",
              "  const next = steps.next(outputElement.lastPromiseValue);\n",
              "  return Promise.resolve(next.value.promise).then((value) => {\n",
              "    // Cache the last promise value to make it available to the next\n",
              "    // step of the generator.\n",
              "    outputElement.lastPromiseValue = value;\n",
              "    return next.value.response;\n",
              "  });\n",
              "}\n",
              "\n",
              "/**\n",
              " * Generator function which is called between each async step of the upload\n",
              " * process.\n",
              " * @param {string} inputId Element ID of the input file picker element.\n",
              " * @param {string} outputId Element ID of the output display.\n",
              " * @return {!Iterable<!Object>} Iterable of next steps.\n",
              " */\n",
              "function* uploadFilesStep(inputId, outputId) {\n",
              "  const inputElement = document.getElementById(inputId);\n",
              "  inputElement.disabled = false;\n",
              "\n",
              "  const outputElement = document.getElementById(outputId);\n",
              "  outputElement.innerHTML = '';\n",
              "\n",
              "  const pickedPromise = new Promise((resolve) => {\n",
              "    inputElement.addEventListener('change', (e) => {\n",
              "      resolve(e.target.files);\n",
              "    });\n",
              "  });\n",
              "\n",
              "  const cancel = document.createElement('button');\n",
              "  inputElement.parentElement.appendChild(cancel);\n",
              "  cancel.textContent = 'Cancel upload';\n",
              "  const cancelPromise = new Promise((resolve) => {\n",
              "    cancel.onclick = () => {\n",
              "      resolve(null);\n",
              "    };\n",
              "  });\n",
              "\n",
              "  // Wait for the user to pick the files.\n",
              "  const files = yield {\n",
              "    promise: Promise.race([pickedPromise, cancelPromise]),\n",
              "    response: {\n",
              "      action: 'starting',\n",
              "    }\n",
              "  };\n",
              "\n",
              "  cancel.remove();\n",
              "\n",
              "  // Disable the input element since further picks are not allowed.\n",
              "  inputElement.disabled = true;\n",
              "\n",
              "  if (!files) {\n",
              "    return {\n",
              "      response: {\n",
              "        action: 'complete',\n",
              "      }\n",
              "    };\n",
              "  }\n",
              "\n",
              "  for (const file of files) {\n",
              "    const li = document.createElement('li');\n",
              "    li.append(span(file.name, {fontWeight: 'bold'}));\n",
              "    li.append(span(\n",
              "        `(${file.type || 'n/a'}) - ${file.size} bytes, ` +\n",
              "        `last modified: ${\n",
              "            file.lastModifiedDate ? file.lastModifiedDate.toLocaleDateString() :\n",
              "                                    'n/a'} - `));\n",
              "    const percent = span('0% done');\n",
              "    li.appendChild(percent);\n",
              "\n",
              "    outputElement.appendChild(li);\n",
              "\n",
              "    const fileDataPromise = new Promise((resolve) => {\n",
              "      const reader = new FileReader();\n",
              "      reader.onload = (e) => {\n",
              "        resolve(e.target.result);\n",
              "      };\n",
              "      reader.readAsArrayBuffer(file);\n",
              "    });\n",
              "    // Wait for the data to be ready.\n",
              "    let fileData = yield {\n",
              "      promise: fileDataPromise,\n",
              "      response: {\n",
              "        action: 'continue',\n",
              "      }\n",
              "    };\n",
              "\n",
              "    // Use a chunked sending to avoid message size limits. See b/62115660.\n",
              "    let position = 0;\n",
              "    do {\n",
              "      const length = Math.min(fileData.byteLength - position, MAX_PAYLOAD_SIZE);\n",
              "      const chunk = new Uint8Array(fileData, position, length);\n",
              "      position += length;\n",
              "\n",
              "      const base64 = btoa(String.fromCharCode.apply(null, chunk));\n",
              "      yield {\n",
              "        response: {\n",
              "          action: 'append',\n",
              "          file: file.name,\n",
              "          data: base64,\n",
              "        },\n",
              "      };\n",
              "\n",
              "      let percentDone = fileData.byteLength === 0 ?\n",
              "          100 :\n",
              "          Math.round((position / fileData.byteLength) * 100);\n",
              "      percent.textContent = `${percentDone}% done`;\n",
              "\n",
              "    } while (position < fileData.byteLength);\n",
              "  }\n",
              "\n",
              "  // All done.\n",
              "  yield {\n",
              "    response: {\n",
              "      action: 'complete',\n",
              "    }\n",
              "  };\n",
              "}\n",
              "\n",
              "scope.google = scope.google || {};\n",
              "scope.google.colab = scope.google.colab || {};\n",
              "scope.google.colab._files = {\n",
              "  _uploadFiles,\n",
              "  _uploadFilesContinue,\n",
              "};\n",
              "})(self);\n",
              "</script> "
            ]
          },
          "metadata": {}
        },
        {
          "output_type": "stream",
          "name": "stdout",
          "text": [
            "Saving austin_weather_preprocessed_2147250.csv to austin_weather_preprocessed_2147250 (3).csv\n"
          ]
        }
      ],
      "source": [
        "from google.colab import files\n",
        " \n",
        "uploaded = files.upload()"
      ]
    },
    {
      "cell_type": "code",
      "execution_count": null,
      "metadata": {
        "colab": {
          "base_uri": "https://localhost:8080/"
        },
        "id": "NVacLnoarTsp",
        "outputId": "6fe3f4c3-62bb-4d96-aa15-0b81b45db5a1"
      },
      "outputs": [
        {
          "output_type": "stream",
          "name": "stdout",
          "text": [
            "|    | Date       |   TempHighF |   TempAvgF |   TempLowF |   DewPointHighF |   DewPointAvgF |   DewPointLowF |   HumidityHighPercent |   HumidityAvgPercent |   HumidityLowPercent |   SeaLevelPressureHighInches |   SeaLevelPressureAvgInches |   SeaLevelPressureLowInches |   VisibilityHighMiles |   VisibilityAvgMiles |   VisibilityLowMiles |   WindHighMPH |   WindAvgMPH |   WindGustMPH |   PrecipitationSumInches | Events              |\n",
            "|---:|:-----------|------------:|-----------:|-----------:|----------------:|---------------:|---------------:|----------------------:|---------------------:|---------------------:|-----------------------------:|----------------------------:|----------------------------:|----------------------:|---------------------:|---------------------:|--------------:|-------------:|--------------:|-------------------------:|:--------------------|\n",
            "|  0 | 2013-12-21 |          74 |         60 |         45 |              67 |             49 |             43 |                    93 |                   75 |                   57 |                           29 |                          29 |                          29 |                    10 |                    7 |                    2 |            20 |            4 |            31 |                        0 | Rain , Thunderstorm |\n",
            "|  1 | 2013-12-22 |          56 |         48 |         39 |              43 |             36 |             28 |                    93 |                   68 |                   43 |                           30 |                          30 |                          29 |                    10 |                   10 |                    5 |            16 |            6 |            25 |                        0 | nan                 |\n",
            "|  2 | 2013-12-23 |          58 |         45 |         32 |              31 |             27 |             23 |                    76 |                   52 |                   27 |                           30 |                          30 |                          30 |                    10 |                   10 |                   10 |             8 |            3 |            12 |                        0 | nan                 |\n",
            "|  3 | 2013-12-24 |          61 |         46 |         31 |              36 |             28 |             21 |                    89 |                   56 |                   22 |                           30 |                          30 |                          30 |                    10 |                   10 |                    7 |            12 |            4 |            20 |                        0 | nan                 |\n",
            "|  4 | 2013-12-25 |          58 |         50 |         41 |              44 |             40 |             36 |                    86 |                   71 |                   56 |                           30 |                          30 |                          30 |                    10 |                   10 |                    7 |            10 |            2 |            16 |                        0 | nan                 |\n"
          ]
        },
        {
          "output_type": "execute_result",
          "data": {
            "text/plain": [
              "Index(['Date', 'TempHighF', 'TempAvgF', 'TempLowF', 'DewPointHighF',\n",
              "       'DewPointAvgF', 'DewPointLowF', 'HumidityHighPercent',\n",
              "       'HumidityAvgPercent', 'HumidityLowPercent',\n",
              "       'SeaLevelPressureHighInches', 'SeaLevelPressureAvgInches',\n",
              "       'SeaLevelPressureLowInches', 'VisibilityHighMiles',\n",
              "       'VisibilityAvgMiles', 'VisibilityLowMiles', 'WindHighMPH', 'WindAvgMPH',\n",
              "       'WindGustMPH', 'PrecipitationSumInches', 'Events'],\n",
              "      dtype='object')"
            ]
          },
          "metadata": {},
          "execution_count": 365
        }
      ],
      "source": [
        "import pandas as pd\n",
        "import io\n",
        "import seaborn as sns\n",
        "import matplotlib.pyplot as plt\n",
        "import numpy as np\n",
        "from sklearn.cluster import KMeans\n",
        "%matplotlib inline\n",
        "import warnings\n",
        "from sklearn.preprocessing import LabelEncoder\n",
        "labelencoder = LabelEncoder()\n",
        "\n",
        "warnings.filterwarnings('ignore')\n",
        "\n",
        "df = pd.read_csv(io.BytesIO(uploaded['austin_weather_preprocessed_2147250.csv']))\n",
        "print(df.head().to_markdown())\n",
        "\n",
        "df.columns"
      ]
    },
    {
      "cell_type": "code",
      "execution_count": null,
      "metadata": {
        "colab": {
          "base_uri": "https://localhost:8080/",
          "height": 427
        },
        "id": "oO_w743bsFFn",
        "outputId": "f8f76b15-c14d-459d-a011-ab50182c489d"
      },
      "outputs": [
        {
          "output_type": "execute_result",
          "data": {
            "text/plain": [
              "Index(['TempHighF', 'TempAvgF', 'TempLowF', 'DewPointHighF', 'DewPointAvgF',\n",
              "       'DewPointLowF', 'HumidityHighPercent', 'HumidityAvgPercent',\n",
              "       'HumidityLowPercent', 'SeaLevelPressureHighInches',\n",
              "       'SeaLevelPressureAvgInches', 'SeaLevelPressureLowInches',\n",
              "       'VisibilityHighMiles', 'VisibilityAvgMiles', 'VisibilityLowMiles',\n",
              "       'WindHighMPH', 'WindAvgMPH', 'WindGustMPH', 'PrecipitationSumInches',\n",
              "       'Events'],\n",
              "      dtype='object')"
            ]
          },
          "metadata": {},
          "execution_count": 366
        },
        {
          "output_type": "display_data",
          "data": {
            "text/plain": [
              "<Figure size 432x288 with 20 Axes>"
            ],
            "image/png": "[encoded data removed]"
          },
          "metadata": {
            "needs_background": "light"
          }
        }
      ],
      "source": [
        "#Drop the columns with the non numerical values.\n",
        "df1 = df\n",
        "num_df = df1.drop(['Date'], axis=1)\n",
        "\n",
        "num_df.columns\n",
        "num_df.hist()\n",
        "num_df['Events']=labelencoder.fit_transform(num_df['Events'])\n",
        "# Bring the class attribute as the last column\n",
        "\n",
        "temp_series = num_df.pop('Events')\n",
        "num_df['Events'] = temp_series\n",
        "num_df.columns"
      ]
    },
    {
      "cell_type": "code",
      "execution_count": null,
      "metadata": {
        "colab": {
          "base_uri": "https://localhost:8080/",
          "height": 386
        },
        "id": "2AUfXyhzsH2Y",
        "outputId": "b0cd6119-400a-4ef1-cf34-62df9fedbb23"
      },
      "outputs": [
        {
          "output_type": "execute_result",
          "data": {
            "text/plain": [
              "         Date  TempHighF  TempAvgF  TempLowF  DewPointHighF  DewPointAvgF  \\\n",
              "0  2013-12-21         74        60        45             67            49   \n",
              "1  2013-12-22         56        48        39             43            36   \n",
              "2  2013-12-23         58        45        32             31            27   \n",
              "3  2013-12-24         61        46        31             36            28   \n",
              "4  2013-12-25         58        50        41             44            40   \n",
              "\n",
              "   DewPointLowF  HumidityHighPercent  HumidityAvgPercent  HumidityLowPercent  \\\n",
              "0            43                   93                  75                  57   \n",
              "1            28                   93                  68                  43   \n",
              "2            23                   76                  52                  27   \n",
              "3            21                   89                  56                  22   \n",
              "4            36                   86                  71                  56   \n",
              "\n",
              "   ...  SeaLevelPressureAvgInches  SeaLevelPressureLowInches  \\\n",
              "0  ...                         29                         29   \n",
              "1  ...                         30                         29   \n",
              "2  ...                         30                         30   \n",
              "3  ...                         30                         30   \n",
              "4  ...                         30                         30   \n",
              "\n",
              "   VisibilityHighMiles  VisibilityAvgMiles  VisibilityLowMiles  WindHighMPH  \\\n",
              "0                   10                   7                   2           20   \n",
              "1                   10                  10                   5           16   \n",
              "2                   10                  10                  10            8   \n",
              "3                   10                  10                   7           12   \n",
              "4                   10                  10                   7           10   \n",
              "\n",
              "   WindAvgMPH  WindGustMPH  PrecipitationSumInches               Events  \n",
              "0           4           31                       0  Rain , Thunderstorm  \n",
              "1           6           25                       0                  NaN  \n",
              "2           3           12                       0                  NaN  \n",
              "3           4           20                       0                  NaN  \n",
              "4           2           16                       0                  NaN  \n",
              "\n",
              "[5 rows x 21 columns]"
            ],
            "text/html": [
              "\n",
              "  <div id=\"df-851c745d-59ad-4539-b023-494d22f354ae\">\n",
              "    <div class=\"colab-df-container\">\n",
              "      <div>\n",
              "<style scoped>\n",
              "    .dataframe tbody tr th:only-of-type {\n",
              "        vertical-align: middle;\n",
              "    }\n",
              "\n",
              "    .dataframe tbody tr th {\n",
              "        vertical-align: top;\n",
              "    }\n",
              "\n",
              "    .dataframe thead th {\n",
              "        text-align: right;\n",
              "    }\n",
              "</style>\n",
              "<table border=\"1\" class=\"dataframe\">\n",
              "  <thead>\n",
              "    <tr style=\"text-align: right;\">\n",
              "      <th></th>\n",
              "      <th>Date</th>\n",
              "      <th>TempHighF</th>\n",
              "      <th>TempAvgF</th>\n",
              "      <th>TempLowF</th>\n",
              "      <th>DewPointHighF</th>\n",
              "      <th>DewPointAvgF</th>\n",
              "      <th>DewPointLowF</th>\n",
              "      <th>HumidityHighPercent</th>\n",
              "      <th>HumidityAvgPercent</th>\n",
              "      <th>HumidityLowPercent</th>\n",
              "      <th>...</th>\n",
              "      <th>SeaLevelPressureAvgInches</th>\n",
              "      <th>SeaLevelPressureLowInches</th>\n",
              "      <th>VisibilityHighMiles</th>\n",
              "      <th>VisibilityAvgMiles</th>\n",
              "      <th>VisibilityLowMiles</th>\n",
              "      <th>WindHighMPH</th>\n",
              "      <th>WindAvgMPH</th>\n",
              "      <th>WindGustMPH</th>\n",
              "      <th>PrecipitationSumInches</th>\n",
              "      <th>Events</th>\n",
              "    </tr>\n",
              "  </thead>\n",
              "  <tbody>\n",
              "    <tr>\n",
              "      <th>0</th>\n",
              "      <td>2013-12-21</td>\n",
              "      <td>74</td>\n",
              "      <td>60</td>\n",
              "      <td>45</td>\n",
              "      <td>67</td>\n",
              "      <td>49</td>\n",
              "      <td>43</td>\n",
              "      <td>93</td>\n",
              "      <td>75</td>\n",
              "      <td>57</td>\n",
              "      <td>...</td>\n",
              "      <td>29</td>\n",
              "      <td>29</td>\n",
              "      <td>10</td>\n",
              "      <td>7</td>\n",
              "      <td>2</td>\n",
              "      <td>20</td>\n",
              "      <td>4</td>\n",
              "      <td>31</td>\n",
              "      <td>0</td>\n",
              "      <td>Rain , Thunderstorm</td>\n",
              "    </tr>\n",
              "    <tr>\n",
              "      <th>1</th>\n",
              "      <td>2013-12-22</td>\n",
              "      <td>56</td>\n",
              "      <td>48</td>\n",
              "      <td>39</td>\n",
              "      <td>43</td>\n",
              "      <td>36</td>\n",
              "      <td>28</td>\n",
              "      <td>93</td>\n",
              "      <td>68</td>\n",
              "      <td>43</td>\n",
              "      <td>...</td>\n",
              "      <td>30</td>\n",
              "      <td>29</td>\n",
              "      <td>10</td>\n",
              "      <td>10</td>\n",
              "      <td>5</td>\n",
              "      <td>16</td>\n",
              "      <td>6</td>\n",
              "      <td>25</td>\n",
              "      <td>0</td>\n",
              "      <td>NaN</td>\n",
              "    </tr>\n",
              "    <tr>\n",
              "      <th>2</th>\n",
              "      <td>2013-12-23</td>\n",
              "      <td>58</td>\n",
              "      <td>45</td>\n",
              "      <td>32</td>\n",
              "      <td>31</td>\n",
              "      <td>27</td>\n",
              "      <td>23</td>\n",
              "      <td>76</td>\n",
              "      <td>52</td>\n",
              "      <td>27</td>\n",
              "      <td>...</td>\n",
              "      <td>30</td>\n",
              "      <td>30</td>\n",
              "      <td>10</td>\n",
              "      <td>10</td>\n",
              "      <td>10</td>\n",
              "      <td>8</td>\n",
              "      <td>3</td>\n",
              "      <td>12</td>\n",
              "      <td>0</td>\n",
              "      <td>NaN</td>\n",
              "    </tr>\n",
              "    <tr>\n",
              "      <th>3</th>\n",
              "      <td>2013-12-24</td>\n",
              "      <td>61</td>\n",
              "      <td>46</td>\n",
              "      <td>31</td>\n",
              "      <td>36</td>\n",
              "      <td>28</td>\n",
              "      <td>21</td>\n",
              "      <td>89</td>\n",
              "      <td>56</td>\n",
              "      <td>22</td>\n",
              "      <td>...</td>\n",
              "      <td>30</td>\n",
              "      <td>30</td>\n",
              "      <td>10</td>\n",
              "      <td>10</td>\n",
              "      <td>7</td>\n",
              "      <td>12</td>\n",
              "      <td>4</td>\n",
              "      <td>20</td>\n",
              "      <td>0</td>\n",
              "      <td>NaN</td>\n",
              "    </tr>\n",
              "    <tr>\n",
              "      <th>4</th>\n",
              "      <td>2013-12-25</td>\n",
              "      <td>58</td>\n",
              "      <td>50</td>\n",
              "      <td>41</td>\n",
              "      <td>44</td>\n",
              "      <td>40</td>\n",
              "      <td>36</td>\n",
              "      <td>86</td>\n",
              "      <td>71</td>\n",
              "      <td>56</td>\n",
              "      <td>...</td>\n",
              "      <td>30</td>\n",
              "      <td>30</td>\n",
              "      <td>10</td>\n",
              "      <td>10</td>\n",
              "      <td>7</td>\n",
              "      <td>10</td>\n",
              "      <td>2</td>\n",
              "      <td>16</td>\n",
              "      <td>0</td>\n",
              "      <td>NaN</td>\n",
              "    </tr>\n",
              "  </tbody>\n",
              "</table>\n",
              "<p>5 rows × 21 columns</p>\n",
              "</div>\n",
              "      <button class=\"colab-df-convert\" onclick=\"convertToInteractive('df-851c745d-59ad-4539-b023-494d22f354ae')\"\n",
              "              title=\"Convert this dataframe to an interactive table.\"\n",
              "              style=\"display:none;\">\n",
              "        \n",
              "  <svg xmlns=\"http://www.w3.org/2000/svg\" height=\"24px\"viewBox=\"0 0 24 24\"\n",
              "       width=\"24px\">\n",
              "    <path d=\"M0 0h24v24H0V0z\" fill=\"none\"/>\n",
              "    <path d=\"M18.56 5.44l.94 2.06.94-2.06 2.06-.94-2.06-.94-.94-2.06-.94 2.06-2.06.94zm-11 1L8.5 8.5l.94-2.06 2.06-.94-2.06-.94L8.5 2.5l-.94 2.06-2.06.94zm10 10l.94 2.06.94-2.06 2.06-.94-2.06-.94-.94-2.06-.94 2.06-2.06.94z\"/><path d=\"M17.41 7.96l-1.37-1.37c-.4-.4-.92-.59-1.43-.59-.52 0-1.04.2-1.43.59L10.3 9.45l-7.72 7.72c-.78.78-.78 2.05 0 2.83L4 21.41c.39.39.9.59 1.41.59.51 0 1.02-.2 1.41-.59l7.78-7.78 2.81-2.81c.8-.78.8-2.07 0-2.86zM5.41 20L4 18.59l7.72-7.72 1.47 1.35L5.41 20z\"/>\n",
              "  </svg>\n",
              "      </button>\n",
              "      \n",
              "  <style>\n",
              "    .colab-df-container {\n",
              "      display:flex;\n",
              "      flex-wrap:wrap;\n",
              "      gap: 12px;\n",
              "    }\n",
              "\n",
              "    .colab-df-convert {\n",
              "      background-color: #E8F0FE;\n",
              "      border: none;\n",
              "      border-radius: 50%;\n",
              "      cursor: pointer;\n",
              "      display: none;\n",
              "      fill: #1967D2;\n",
              "      height: 32px;\n",
              "      padding: 0 0 0 0;\n",
              "      width: 32px;\n",
              "    }\n",
              "\n",
              "    .colab-df-convert:hover {\n",
              "      background-color: #E2EBFA;\n",
              "      box-shadow: 0px 1px 2px rgba(60, 64, 67, 0.3), 0px 1px 3px 1px rgba(60, 64, 67, 0.15);\n",
              "      fill: #174EA6;\n",
              "    }\n",
              "\n",
              "    [theme=dark] .colab-df-convert {\n",
              "      background-color: #3B4455;\n",
              "      fill: #D2E3FC;\n",
              "    }\n",
              "\n",
              "    [theme=dark] .colab-df-convert:hover {\n",
              "      background-color: #434B5C;\n",
              "      box-shadow: 0px 1px 3px 1px rgba(0, 0, 0, 0.15);\n",
              "      filter: drop-shadow(0px 1px 2px rgba(0, 0, 0, 0.3));\n",
              "      fill: #FFFFFF;\n",
              "    }\n",
              "  </style>\n",
              "\n",
              "      <script>\n",
              "        const buttonEl =\n",
              "          document.querySelector('#df-851c745d-59ad-4539-b023-494d22f354ae button.colab-df-convert');\n",
              "        buttonEl.style.display =\n",
              "          google.colab.kernel.accessAllowed ? 'block' : 'none';\n",
              "\n",
              "        async function convertToInteractive(key) {\n",
              "          const element = document.querySelector('#df-851c745d-59ad-4539-b023-494d22f354ae');\n",
              "          const dataTable =\n",
              "            await google.colab.kernel.invokeFunction('convertToInteractive',\n",
              "                                                     [key], {});\n",
              "          if (!dataTable) return;\n",
              "\n",
              "          const docLinkHtml = 'Like what you see? Visit the ' +\n",
              "            '<a target=\"_blank\" href=https://colab.research.google.com/notebooks/data_table.ipynb>data table notebook</a>'\n",
              "            + ' to learn more about interactive tables.';\n",
              "          element.innerHTML = '';\n",
              "          dataTable['output_type'] = 'display_data';\n",
              "          await google.colab.output.renderOutput(dataTable, element);\n",
              "          const docLink = document.createElement('div');\n",
              "          docLink.innerHTML = docLinkHtml;\n",
              "          element.appendChild(docLink);\n",
              "        }\n",
              "      </script>\n",
              "    </div>\n",
              "  </div>\n",
              "  "
            ]
          },
          "metadata": {},
          "execution_count": 367
        }
      ],
      "source": [
        "df.head()"
      ]
    },
    {
      "cell_type": "code",
      "execution_count": null,
      "metadata": {
        "colab": {
          "base_uri": "https://localhost:8080/",
          "height": 422
        },
        "id": "pulOjSgfsIX_",
        "outputId": "fe161131-c645-4fe1-ec7e-4f82096120d5"
      },
      "outputs": [
        {
          "output_type": "execute_result",
          "data": {
            "text/plain": [
              "<matplotlib.axes._subplots.AxesSubplot at 0x7f60a32cb490>"
            ]
          },
          "metadata": {},
          "execution_count": 368
        },
        {
          "output_type": "display_data",
          "data": {
            "text/plain": [
              "<Figure size 432x288 with 2 Axes>"
            ],
            "image/png": "[encoded data removed]"
          },
          "metadata": {
            "needs_background": "light"
          }
        }
      ],
      "source": [
        "sns.heatmap(df.isnull())"
      ]
    },
    {
      "cell_type": "markdown",
      "source": [
        "It is a heat map which is used here to depict null values in different color.\n",
        "If there are no null values then whole heatmap would be of one color.\n",
        "but here in 'Events' attribute there are few null values."
      ],
      "metadata": {
        "id": "rV_o220G7GQE"
      }
    },
    {
      "cell_type": "code",
      "execution_count": null,
      "metadata": {
        "colab": {
          "base_uri": "https://localhost:8080/",
          "height": 422
        },
        "id": "SEMZzn5ysKZW",
        "outputId": "516948f6-48e7-40ef-e717-7579b98793cd"
      },
      "outputs": [
        {
          "output_type": "execute_result",
          "data": {
            "text/plain": [
              "<matplotlib.axes._subplots.AxesSubplot at 0x7f60a4792090>"
            ]
          },
          "metadata": {},
          "execution_count": 369
        },
        {
          "output_type": "display_data",
          "data": {
            "text/plain": [
              "<Figure size 432x288 with 2 Axes>"
            ],
            "image/png": "[encoded data removed]"
          },
          "metadata": {
            "needs_background": "light"
          }
        }
      ],
      "source": [
        "df.fillna(0, inplace = True)\n",
        "sns.heatmap(df.isnull())"
      ]
    },
    {
      "cell_type": "markdown",
      "source": [
        "There are no null values hence whole heatmap is depicted in one color."
      ],
      "metadata": {
        "id": "e5C5W43e-XxV"
      }
    },
    {
      "cell_type": "code",
      "execution_count": null,
      "metadata": {
        "colab": {
          "base_uri": "https://localhost:8080/"
        },
        "id": "k3wPVXPFsOB4",
        "outputId": "df0b4c4a-5d0c-44ae-e535-f9c1d5f425c5"
      },
      "outputs": [
        {
          "output_type": "execute_result",
          "data": {
            "text/plain": [
              "Date                          1319\n",
              "TempHighF                       74\n",
              "TempAvgF                        64\n",
              "TempLowF                        61\n",
              "DewPointHighF                   64\n",
              "DewPointAvgF                    66\n",
              "DewPointLowF                    73\n",
              "HumidityHighPercent             58\n",
              "HumidityAvgPercent              69\n",
              "HumidityLowPercent              82\n",
              "SeaLevelPressureHighInches       3\n",
              "SeaLevelPressureAvgInches        3\n",
              "SeaLevelPressureLowInches        3\n",
              "VisibilityHighMiles              5\n",
              "VisibilityAvgMiles              10\n",
              "VisibilityLowMiles              11\n",
              "WindHighMPH                     22\n",
              "WindAvgMPH                      13\n",
              "WindGustMPH                     37\n",
              "PrecipitationSumInches           6\n",
              "Events                           9\n",
              "dtype: int64"
            ]
          },
          "metadata": {},
          "execution_count": 370
        }
      ],
      "source": [
        "df.nunique()"
      ]
    },
    {
      "cell_type": "code",
      "execution_count": null,
      "metadata": {
        "colab": {
          "base_uri": "https://localhost:8080/",
          "height": 664
        },
        "id": "Ket7AKmtsQYQ",
        "outputId": "4dbaddfa-8256-40e0-fd90-ace3f54f6518"
      },
      "outputs": [
        {
          "output_type": "execute_result",
          "data": {
            "text/plain": [
              "array([[<matplotlib.axes._subplots.AxesSubplot object at 0x7f60a1d77350>,\n",
              "        <matplotlib.axes._subplots.AxesSubplot object at 0x7f60a2c2e790>,\n",
              "        <matplotlib.axes._subplots.AxesSubplot object at 0x7f60a24ae890>,\n",
              "        <matplotlib.axes._subplots.AxesSubplot object at 0x7f60a4a9c8d0>],\n",
              "       [<matplotlib.axes._subplots.AxesSubplot object at 0x7f60a2734fd0>,\n",
              "        <matplotlib.axes._subplots.AxesSubplot object at 0x7f60a3783e90>,\n",
              "        <matplotlib.axes._subplots.AxesSubplot object at 0x7f60a377af90>,\n",
              "        <matplotlib.axes._subplots.AxesSubplot object at 0x7f60a1f599d0>],\n",
              "       [<matplotlib.axes._subplots.AxesSubplot object at 0x7f60a1f59a10>,\n",
              "        <matplotlib.axes._subplots.AxesSubplot object at 0x7f60a23bb050>,\n",
              "        <matplotlib.axes._subplots.AxesSubplot object at 0x7f60a1d6c950>,\n",
              "        <matplotlib.axes._subplots.AxesSubplot object at 0x7f60a19fde50>],\n",
              "       [<matplotlib.axes._subplots.AxesSubplot object at 0x7f60a1ba7390>,\n",
              "        <matplotlib.axes._subplots.AxesSubplot object at 0x7f60a1c7b890>,\n",
              "        <matplotlib.axes._subplots.AxesSubplot object at 0x7f60a1c5cd90>,\n",
              "        <matplotlib.axes._subplots.AxesSubplot object at 0x7f60a0ed52d0>],\n",
              "       [<matplotlib.axes._subplots.AxesSubplot object at 0x7f60a0f0d7d0>,\n",
              "        <matplotlib.axes._subplots.AxesSubplot object at 0x7f60a1a6bcd0>,\n",
              "        <matplotlib.axes._subplots.AxesSubplot object at 0x7f60a1aeb210>,\n",
              "        <matplotlib.axes._subplots.AxesSubplot object at 0x7f60a1b676d0>]],\n",
              "      dtype=object)"
            ]
          },
          "metadata": {},
          "execution_count": 371
        },
        {
          "output_type": "display_data",
          "data": {
            "text/plain": [
              "<Figure size 432x288 with 20 Axes>"
            ],
            "image/png": "[encoded data removed]"
          },
          "metadata": {
            "needs_background": "light"
          }
        }
      ],
      "source": [
        "num_df.columns\n",
        "num_df.hist()"
      ]
    },
    {
      "cell_type": "markdown",
      "source": [
        "We have plotted the histograms for all the relevant independent features along with the dependant feature.<br>\n",
        "This can be used to see the quantities or number of items for each feature.\n",
        "<br> example - IN 'Events' attribute more samples belong to EVENT 7"
      ],
      "metadata": {
        "id": "kDsvyNpP-8Cx"
      }
    },
    {
      "cell_type": "code",
      "source": [
        "df['Year'] = pd.DatetimeIndex(df['Date']).year\n",
        "df.head()"
      ],
      "metadata": {
        "id": "orwg7wO_y_6Y",
        "colab": {
          "base_uri": "https://localhost:8080/",
          "height": 386
        },
        "outputId": "a5d2ceff-41a8-4a30-d5f4-f2fbd4949446"
      },
      "execution_count": null,
      "outputs": [
        {
          "output_type": "execute_result",
          "data": {
            "text/plain": [
              "         Date  TempHighF  TempAvgF  TempLowF  DewPointHighF  DewPointAvgF  \\\n",
              "0  2013-12-21         74        60        45             67            49   \n",
              "1  2013-12-22         56        48        39             43            36   \n",
              "2  2013-12-23         58        45        32             31            27   \n",
              "3  2013-12-24         61        46        31             36            28   \n",
              "4  2013-12-25         58        50        41             44            40   \n",
              "\n",
              "   DewPointLowF  HumidityHighPercent  HumidityAvgPercent  HumidityLowPercent  \\\n",
              "0            43                   93                  75                  57   \n",
              "1            28                   93                  68                  43   \n",
              "2            23                   76                  52                  27   \n",
              "3            21                   89                  56                  22   \n",
              "4            36                   86                  71                  56   \n",
              "\n",
              "   ...  SeaLevelPressureLowInches  VisibilityHighMiles  VisibilityAvgMiles  \\\n",
              "0  ...                         29                   10                   7   \n",
              "1  ...                         29                   10                  10   \n",
              "2  ...                         30                   10                  10   \n",
              "3  ...                         30                   10                  10   \n",
              "4  ...                         30                   10                  10   \n",
              "\n",
              "   VisibilityLowMiles  WindHighMPH  WindAvgMPH  WindGustMPH  \\\n",
              "0                   2           20           4           31   \n",
              "1                   5           16           6           25   \n",
              "2                  10            8           3           12   \n",
              "3                   7           12           4           20   \n",
              "4                   7           10           2           16   \n",
              "\n",
              "   PrecipitationSumInches               Events  Year  \n",
              "0                       0  Rain , Thunderstorm  2013  \n",
              "1                       0                    0  2013  \n",
              "2                       0                    0  2013  \n",
              "3                       0                    0  2013  \n",
              "4                       0                    0  2013  \n",
              "\n",
              "[5 rows x 22 columns]"
            ],
            "text/html": [
              "\n",
              "  <div id=\"df-1983aacc-b461-4223-9140-ca342534e576\">\n",
              "    <div class=\"colab-df-container\">\n",
              "      <div>\n",
              "<style scoped>\n",
              "    .dataframe tbody tr th:only-of-type {\n",
              "        vertical-align: middle;\n",
              "    }\n",
              "\n",
              "    .dataframe tbody tr th {\n",
              "        vertical-align: top;\n",
              "    }\n",
              "\n",
              "    .dataframe thead th {\n",
              "        text-align: right;\n",
              "    }\n",
              "</style>\n",
              "<table border=\"1\" class=\"dataframe\">\n",
              "  <thead>\n",
              "    <tr style=\"text-align: right;\">\n",
              "      <th></th>\n",
              "      <th>Date</th>\n",
              "      <th>TempHighF</th>\n",
              "      <th>TempAvgF</th>\n",
              "      <th>TempLowF</th>\n",
              "      <th>DewPointHighF</th>\n",
              "      <th>DewPointAvgF</th>\n",
              "      <th>DewPointLowF</th>\n",
              "      <th>HumidityHighPercent</th>\n",
              "      <th>HumidityAvgPercent</th>\n",
              "      <th>HumidityLowPercent</th>\n",
              "      <th>...</th>\n",
              "      <th>SeaLevelPressureLowInches</th>\n",
              "      <th>VisibilityHighMiles</th>\n",
              "      <th>VisibilityAvgMiles</th>\n",
              "      <th>VisibilityLowMiles</th>\n",
              "      <th>WindHighMPH</th>\n",
              "      <th>WindAvgMPH</th>\n",
              "      <th>WindGustMPH</th>\n",
              "      <th>PrecipitationSumInches</th>\n",
              "      <th>Events</th>\n",
              "      <th>Year</th>\n",
              "    </tr>\n",
              "  </thead>\n",
              "  <tbody>\n",
              "    <tr>\n",
              "      <th>0</th>\n",
              "      <td>2013-12-21</td>\n",
              "      <td>74</td>\n",
              "      <td>60</td>\n",
              "      <td>45</td>\n",
              "      <td>67</td>\n",
              "      <td>49</td>\n",
              "      <td>43</td>\n",
              "      <td>93</td>\n",
              "      <td>75</td>\n",
              "      <td>57</td>\n",
              "      <td>...</td>\n",
              "      <td>29</td>\n",
              "      <td>10</td>\n",
              "      <td>7</td>\n",
              "      <td>2</td>\n",
              "      <td>20</td>\n",
              "      <td>4</td>\n",
              "      <td>31</td>\n",
              "      <td>0</td>\n",
              "      <td>Rain , Thunderstorm</td>\n",
              "      <td>2013</td>\n",
              "    </tr>\n",
              "    <tr>\n",
              "      <th>1</th>\n",
              "      <td>2013-12-22</td>\n",
              "      <td>56</td>\n",
              "      <td>48</td>\n",
              "      <td>39</td>\n",
              "      <td>43</td>\n",
              "      <td>36</td>\n",
              "      <td>28</td>\n",
              "      <td>93</td>\n",
              "      <td>68</td>\n",
              "      <td>43</td>\n",
              "      <td>...</td>\n",
              "      <td>29</td>\n",
              "      <td>10</td>\n",
              "      <td>10</td>\n",
              "      <td>5</td>\n",
              "      <td>16</td>\n",
              "      <td>6</td>\n",
              "      <td>25</td>\n",
              "      <td>0</td>\n",
              "      <td>0</td>\n",
              "      <td>2013</td>\n",
              "    </tr>\n",
              "    <tr>\n",
              "      <th>2</th>\n",
              "      <td>2013-12-23</td>\n",
              "      <td>58</td>\n",
              "      <td>45</td>\n",
              "      <td>32</td>\n",
              "      <td>31</td>\n",
              "      <td>27</td>\n",
              "      <td>23</td>\n",
              "      <td>76</td>\n",
              "      <td>52</td>\n",
              "      <td>27</td>\n",
              "      <td>...</td>\n",
              "      <td>30</td>\n",
              "      <td>10</td>\n",
              "      <td>10</td>\n",
              "      <td>10</td>\n",
              "      <td>8</td>\n",
              "      <td>3</td>\n",
              "      <td>12</td>\n",
              "      <td>0</td>\n",
              "      <td>0</td>\n",
              "      <td>2013</td>\n",
              "    </tr>\n",
              "    <tr>\n",
              "      <th>3</th>\n",
              "      <td>2013-12-24</td>\n",
              "      <td>61</td>\n",
              "      <td>46</td>\n",
              "      <td>31</td>\n",
              "      <td>36</td>\n",
              "      <td>28</td>\n",
              "      <td>21</td>\n",
              "      <td>89</td>\n",
              "      <td>56</td>\n",
              "      <td>22</td>\n",
              "      <td>...</td>\n",
              "      <td>30</td>\n",
              "      <td>10</td>\n",
              "      <td>10</td>\n",
              "      <td>7</td>\n",
              "      <td>12</td>\n",
              "      <td>4</td>\n",
              "      <td>20</td>\n",
              "      <td>0</td>\n",
              "      <td>0</td>\n",
              "      <td>2013</td>\n",
              "    </tr>\n",
              "    <tr>\n",
              "      <th>4</th>\n",
              "      <td>2013-12-25</td>\n",
              "      <td>58</td>\n",
              "      <td>50</td>\n",
              "      <td>41</td>\n",
              "      <td>44</td>\n",
              "      <td>40</td>\n",
              "      <td>36</td>\n",
              "      <td>86</td>\n",
              "      <td>71</td>\n",
              "      <td>56</td>\n",
              "      <td>...</td>\n",
              "      <td>30</td>\n",
              "      <td>10</td>\n",
              "      <td>10</td>\n",
              "      <td>7</td>\n",
              "      <td>10</td>\n",
              "      <td>2</td>\n",
              "      <td>16</td>\n",
              "      <td>0</td>\n",
              "      <td>0</td>\n",
              "      <td>2013</td>\n",
              "    </tr>\n",
              "  </tbody>\n",
              "</table>\n",
              "<p>5 rows × 22 columns</p>\n",
              "</div>\n",
              "      <button class=\"colab-df-convert\" onclick=\"convertToInteractive('df-1983aacc-b461-4223-9140-ca342534e576')\"\n",
              "              title=\"Convert this dataframe to an interactive table.\"\n",
              "              style=\"display:none;\">\n",
              "        \n",
              "  <svg xmlns=\"http://www.w3.org/2000/svg\" height=\"24px\"viewBox=\"0 0 24 24\"\n",
              "       width=\"24px\">\n",
              "    <path d=\"M0 0h24v24H0V0z\" fill=\"none\"/>\n",
              "    <path d=\"M18.56 5.44l.94 2.06.94-2.06 2.06-.94-2.06-.94-.94-2.06-.94 2.06-2.06.94zm-11 1L8.5 8.5l.94-2.06 2.06-.94-2.06-.94L8.5 2.5l-.94 2.06-2.06.94zm10 10l.94 2.06.94-2.06 2.06-.94-2.06-.94-.94-2.06-.94 2.06-2.06.94z\"/><path d=\"M17.41 7.96l-1.37-1.37c-.4-.4-.92-.59-1.43-.59-.52 0-1.04.2-1.43.59L10.3 9.45l-7.72 7.72c-.78.78-.78 2.05 0 2.83L4 21.41c.39.39.9.59 1.41.59.51 0 1.02-.2 1.41-.59l7.78-7.78 2.81-2.81c.8-.78.8-2.07 0-2.86zM5.41 20L4 18.59l7.72-7.72 1.47 1.35L5.41 20z\"/>\n",
              "  </svg>\n",
              "      </button>\n",
              "      \n",
              "  <style>\n",
              "    .colab-df-container {\n",
              "      display:flex;\n",
              "      flex-wrap:wrap;\n",
              "      gap: 12px;\n",
              "    }\n",
              "\n",
              "    .colab-df-convert {\n",
              "      background-color: #E8F0FE;\n",
              "      border: none;\n",
              "      border-radius: 50%;\n",
              "      cursor: pointer;\n",
              "      display: none;\n",
              "      fill: #1967D2;\n",
              "      height: 32px;\n",
              "      padding: 0 0 0 0;\n",
              "      width: 32px;\n",
              "    }\n",
              "\n",
              "    .colab-df-convert:hover {\n",
              "      background-color: #E2EBFA;\n",
              "      box-shadow: 0px 1px 2px rgba(60, 64, 67, 0.3), 0px 1px 3px 1px rgba(60, 64, 67, 0.15);\n",
              "      fill: #174EA6;\n",
              "    }\n",
              "\n",
              "    [theme=dark] .colab-df-convert {\n",
              "      background-color: #3B4455;\n",
              "      fill: #D2E3FC;\n",
              "    }\n",
              "\n",
              "    [theme=dark] .colab-df-convert:hover {\n",
              "      background-color: #434B5C;\n",
              "      box-shadow: 0px 1px 3px 1px rgba(0, 0, 0, 0.15);\n",
              "      filter: drop-shadow(0px 1px 2px rgba(0, 0, 0, 0.3));\n",
              "      fill: #FFFFFF;\n",
              "    }\n",
              "  </style>\n",
              "\n",
              "      <script>\n",
              "        const buttonEl =\n",
              "          document.querySelector('#df-1983aacc-b461-4223-9140-ca342534e576 button.colab-df-convert');\n",
              "        buttonEl.style.display =\n",
              "          google.colab.kernel.accessAllowed ? 'block' : 'none';\n",
              "\n",
              "        async function convertToInteractive(key) {\n",
              "          const element = document.querySelector('#df-1983aacc-b461-4223-9140-ca342534e576');\n",
              "          const dataTable =\n",
              "            await google.colab.kernel.invokeFunction('convertToInteractive',\n",
              "                                                     [key], {});\n",
              "          if (!dataTable) return;\n",
              "\n",
              "          const docLinkHtml = 'Like what you see? Visit the ' +\n",
              "            '<a target=\"_blank\" href=https://colab.research.google.com/notebooks/data_table.ipynb>data table notebook</a>'\n",
              "            + ' to learn more about interactive tables.';\n",
              "          element.innerHTML = '';\n",
              "          dataTable['output_type'] = 'display_data';\n",
              "          await google.colab.output.renderOutput(dataTable, element);\n",
              "          const docLink = document.createElement('div');\n",
              "          docLink.innerHTML = docLinkHtml;\n",
              "          element.appendChild(docLink);\n",
              "        }\n",
              "      </script>\n",
              "    </div>\n",
              "  </div>\n",
              "  "
            ]
          },
          "metadata": {},
          "execution_count": 372
        }
      ]
    },
    {
      "cell_type": "markdown",
      "metadata": {
        "id": "vbhhIt_dtZxl"
      },
      "source": [
        "**lab1 ---------------------------------------------------------------EDA-----------------------------------------------------------------------------------------**"
      ]
    },
    {
      "cell_type": "code",
      "execution_count": null,
      "metadata": {
        "id": "cw5yMVg6ticG"
      },
      "outputs": [],
      "source": [
        "import matplotlib.pyplot as plt\n",
        "grp_tempavg_yr=df['TempAvgF'].groupby(df['Year']).mean()"
      ]
    },
    {
      "cell_type": "markdown",
      "source": [
        "line plot"
      ],
      "metadata": {
        "id": "RW6VwEBrAVFY"
      }
    },
    {
      "cell_type": "code",
      "execution_count": null,
      "metadata": {
        "id": "vRw3RHV3tvVN",
        "colab": {
          "base_uri": "https://localhost:8080/",
          "height": 297
        },
        "outputId": "42ac892f-572b-467f-e1c5-f353d97cd97a"
      },
      "outputs": [
        {
          "output_type": "execute_result",
          "data": {
            "text/plain": [
              "<matplotlib.axes._subplots.AxesSubplot at 0x7f60a1ed21d0>"
            ]
          },
          "metadata": {},
          "execution_count": 374
        },
        {
          "output_type": "display_data",
          "data": {
            "text/plain": [
              "<Figure size 432x288 with 1 Axes>"
            ],
            "image/png": "[encoded data removed]"
          },
          "metadata": {
            "needs_background": "light"
          }
        }
      ],
      "source": [
        "grp_tempavg_yr.plot(x=\"TempAvgF\", y=\"Year\")"
      ]
    },
    {
      "cell_type": "markdown",
      "source": [
        "we can see that around 2013 to 14  thre is steep increase in AVGtempF but in after 2014 to 2017 there is gradual increase"
      ],
      "metadata": {
        "id": "ysypPAuX_jTs"
      }
    },
    {
      "cell_type": "markdown",
      "source": [
        "**Box plot** - display the summary of the set of data values having properties like minimum, first quartile, median, third quartile and maximum."
      ],
      "metadata": {
        "id": "yY2Fuan-AkVV"
      }
    },
    {
      "cell_type": "code",
      "execution_count": null,
      "metadata": {
        "id": "u0h5D_mFtwFY",
        "colab": {
          "base_uri": "https://localhost:8080/",
          "height": 281
        },
        "outputId": "6e556f59-dfbf-48c1-d926-ba2a4630eb40"
      },
      "outputs": [
        {
          "output_type": "display_data",
          "data": {
            "text/plain": [
              "<Figure size 432x288 with 1 Axes>"
            ],
            "image/png": "[encoded data removed]"
          },
          "metadata": {
            "needs_background": "light"
          }
        }
      ],
      "source": [
        "boxplot = sns.boxplot(x='Year', y='TempHighF',  data=df)"
      ]
    },
    {
      "cell_type": "markdown",
      "source": [
        "**Map func** - map() function returns a map object(which is an iterator) of the results after applying the given function to each item of a given iterable (list, tuple etc.)\n",
        "\n",
        "<br>\n",
        "We can infer that there are quite few outliers in each years data set."
      ],
      "metadata": {
        "id": "aXugv16HA5Ka"
      }
    },
    {
      "cell_type": "code",
      "execution_count": null,
      "metadata": {
        "id": "hLLd0o4Ht3tv",
        "colab": {
          "base_uri": "https://localhost:8080/"
        },
        "outputId": "61df9859-8ada-4f0a-fec3-fd296171dbae"
      },
      "outputs": [
        {
          "output_type": "stream",
          "name": "stdout",
          "text": [
            "0        True\n",
            "1       False\n",
            "2       False\n",
            "3       False\n",
            "4       False\n",
            "        ...  \n",
            "1314     True\n",
            "1315     True\n",
            "1316     True\n",
            "1317     True\n",
            "1318     True\n",
            "Name: TempAvgF, Length: 1319, dtype: bool\n"
          ]
        }
      ],
      "source": [
        "mapfunc = df['TempAvgF'].map(lambda x:x>50)\n",
        "print(mapfunc)"
      ]
    },
    {
      "cell_type": "markdown",
      "source": [
        "**Rename** - rename() method is used to rename any index, column or row. Renaming of column can also be done by dataframe."
      ],
      "metadata": {
        "id": "2O4PoYw4BAy0"
      }
    },
    {
      "cell_type": "code",
      "execution_count": null,
      "metadata": {
        "id": "pw0S6Llrt5JX",
        "colab": {
          "base_uri": "https://localhost:8080/",
          "height": 661
        },
        "outputId": "9b97ec96-2b71-4e91-e3cd-236940eeab65"
      },
      "outputs": [
        {
          "output_type": "execute_result",
          "data": {
            "text/plain": [
              "            date  temphighf  tempavgf  templowf  dewpointhighf  dewpointavgf  \\\n",
              "0     2013-12-21         74        60        45             67            49   \n",
              "1     2013-12-22         56        48        39             43            36   \n",
              "2     2013-12-23         58        45        32             31            27   \n",
              "3     2013-12-24         61        46        31             36            28   \n",
              "4     2013-12-25         58        50        41             44            40   \n",
              "...          ...        ...       ...       ...            ...           ...   \n",
              "1314  2017-07-27        103        89        75             71            67   \n",
              "1315  2017-07-28        105        91        76             71            64   \n",
              "1316  2017-07-29        107        92        77             72            64   \n",
              "1317  2017-07-30        106        93        79             70            68   \n",
              "1318  2017-07-31         99        88        77             66            61   \n",
              "\n",
              "      dewpointlowf  humidityhighpercent  humidityavgpercent  \\\n",
              "0               43                   93                  75   \n",
              "1               28                   93                  68   \n",
              "2               23                   76                  52   \n",
              "3               21                   89                  56   \n",
              "4               36                   86                  71   \n",
              "...            ...                  ...                 ...   \n",
              "1314            61                   82                  54   \n",
              "1315            55                   87                  54   \n",
              "1316            55                   82                  51   \n",
              "1317            63                   69                  48   \n",
              "1318            54                   64                  43   \n",
              "\n",
              "      humiditylowpercent  ...  sealevelpressurelowinches  visibilityhighmiles  \\\n",
              "0                     57  ...                         29                   10   \n",
              "1                     43  ...                         29                   10   \n",
              "2                     27  ...                         30                   10   \n",
              "3                     22  ...                         30                   10   \n",
              "4                     56  ...                         30                   10   \n",
              "...                  ...  ...                        ...                  ...   \n",
              "1314                  25  ...                         29                   10   \n",
              "1315                  20  ...                         29                   10   \n",
              "1316                  19  ...                         29                   10   \n",
              "1317                  27  ...                         29                   10   \n",
              "1318                  22  ...                         29                   10   \n",
              "\n",
              "      visibilityavgmiles  visibilitylowmiles  windhighmph  windavgmph  \\\n",
              "0                      7                   2           20           4   \n",
              "1                     10                   5           16           6   \n",
              "2                     10                  10            8           3   \n",
              "3                     10                   7           12           4   \n",
              "4                     10                   7           10           2   \n",
              "...                  ...                 ...          ...         ...   \n",
              "1314                  10                  10           12           5   \n",
              "1315                  10                  10           14           5   \n",
              "1316                  10                  10           12           4   \n",
              "1317                  10                  10           13           4   \n",
              "1318                  10                  10           12           4   \n",
              "\n",
              "      windgustmph  precipitationsuminches               events  year  \n",
              "0              31                       0  Rain , Thunderstorm  2013  \n",
              "1              25                       0                    0  2013  \n",
              "2              12                       0                    0  2013  \n",
              "3              20                       0                    0  2013  \n",
              "4              16                       0                    0  2013  \n",
              "...           ...                     ...                  ...   ...  \n",
              "1314           21                       0                    0  2017  \n",
              "1315           20                       0                    0  2017  \n",
              "1316           17                       0                    0  2017  \n",
              "1317           20                       0                    0  2017  \n",
              "1318           20                       0                    0  2017  \n",
              "\n",
              "[1319 rows x 22 columns]"
            ],
            "text/html": [
              "\n",
              "  <div id=\"df-047be69e-802a-4abe-a581-1733b78ba53c\">\n",
              "    <div class=\"colab-df-container\">\n",
              "      <div>\n",
              "<style scoped>\n",
              "    .dataframe tbody tr th:only-of-type {\n",
              "        vertical-align: middle;\n",
              "    }\n",
              "\n",
              "    .dataframe tbody tr th {\n",
              "        vertical-align: top;\n",
              "    }\n",
              "\n",
              "    .dataframe thead th {\n",
              "        text-align: right;\n",
              "    }\n",
              "</style>\n",
              "<table border=\"1\" class=\"dataframe\">\n",
              "  <thead>\n",
              "    <tr style=\"text-align: right;\">\n",
              "      <th></th>\n",
              "      <th>date</th>\n",
              "      <th>temphighf</th>\n",
              "      <th>tempavgf</th>\n",
              "      <th>templowf</th>\n",
              "      <th>dewpointhighf</th>\n",
              "      <th>dewpointavgf</th>\n",
              "      <th>dewpointlowf</th>\n",
              "      <th>humidityhighpercent</th>\n",
              "      <th>humidityavgpercent</th>\n",
              "      <th>humiditylowpercent</th>\n",
              "      <th>...</th>\n",
              "      <th>sealevelpressurelowinches</th>\n",
              "      <th>visibilityhighmiles</th>\n",
              "      <th>visibilityavgmiles</th>\n",
              "      <th>visibilitylowmiles</th>\n",
              "      <th>windhighmph</th>\n",
              "      <th>windavgmph</th>\n",
              "      <th>windgustmph</th>\n",
              "      <th>precipitationsuminches</th>\n",
              "      <th>events</th>\n",
              "      <th>year</th>\n",
              "    </tr>\n",
              "  </thead>\n",
              "  <tbody>\n",
              "    <tr>\n",
              "      <th>0</th>\n",
              "      <td>2013-12-21</td>\n",
              "      <td>74</td>\n",
              "      <td>60</td>\n",
              "      <td>45</td>\n",
              "      <td>67</td>\n",
              "      <td>49</td>\n",
              "      <td>43</td>\n",
              "      <td>93</td>\n",
              "      <td>75</td>\n",
              "      <td>57</td>\n",
              "      <td>...</td>\n",
              "      <td>29</td>\n",
              "      <td>10</td>\n",
              "      <td>7</td>\n",
              "      <td>2</td>\n",
              "      <td>20</td>\n",
              "      <td>4</td>\n",
              "      <td>31</td>\n",
              "      <td>0</td>\n",
              "      <td>Rain , Thunderstorm</td>\n",
              "      <td>2013</td>\n",
              "    </tr>\n",
              "    <tr>\n",
              "      <th>1</th>\n",
              "      <td>2013-12-22</td>\n",
              "      <td>56</td>\n",
              "      <td>48</td>\n",
              "      <td>39</td>\n",
              "      <td>43</td>\n",
              "      <td>36</td>\n",
              "      <td>28</td>\n",
              "      <td>93</td>\n",
              "      <td>68</td>\n",
              "      <td>43</td>\n",
              "      <td>...</td>\n",
              "      <td>29</td>\n",
              "      <td>10</td>\n",
              "      <td>10</td>\n",
              "      <td>5</td>\n",
              "      <td>16</td>\n",
              "      <td>6</td>\n",
              "      <td>25</td>\n",
              "      <td>0</td>\n",
              "      <td>0</td>\n",
              "      <td>2013</td>\n",
              "    </tr>\n",
              "    <tr>\n",
              "      <th>2</th>\n",
              "      <td>2013-12-23</td>\n",
              "      <td>58</td>\n",
              "      <td>45</td>\n",
              "      <td>32</td>\n",
              "      <td>31</td>\n",
              "      <td>27</td>\n",
              "      <td>23</td>\n",
              "      <td>76</td>\n",
              "      <td>52</td>\n",
              "      <td>27</td>\n",
              "      <td>...</td>\n",
              "      <td>30</td>\n",
              "      <td>10</td>\n",
              "      <td>10</td>\n",
              "      <td>10</td>\n",
              "      <td>8</td>\n",
              "      <td>3</td>\n",
              "      <td>12</td>\n",
              "      <td>0</td>\n",
              "      <td>0</td>\n",
              "      <td>2013</td>\n",
              "    </tr>\n",
              "    <tr>\n",
              "      <th>3</th>\n",
              "      <td>2013-12-24</td>\n",
              "      <td>61</td>\n",
              "      <td>46</td>\n",
              "      <td>31</td>\n",
              "      <td>36</td>\n",
              "      <td>28</td>\n",
              "      <td>21</td>\n",
              "      <td>89</td>\n",
              "      <td>56</td>\n",
              "      <td>22</td>\n",
              "      <td>...</td>\n",
              "      <td>30</td>\n",
              "      <td>10</td>\n",
              "      <td>10</td>\n",
              "      <td>7</td>\n",
              "      <td>12</td>\n",
              "      <td>4</td>\n",
              "      <td>20</td>\n",
              "      <td>0</td>\n",
              "      <td>0</td>\n",
              "      <td>2013</td>\n",
              "    </tr>\n",
              "    <tr>\n",
              "      <th>4</th>\n",
              "      <td>2013-12-25</td>\n",
              "      <td>58</td>\n",
              "      <td>50</td>\n",
              "      <td>41</td>\n",
              "      <td>44</td>\n",
              "      <td>40</td>\n",
              "      <td>36</td>\n",
              "      <td>86</td>\n",
              "      <td>71</td>\n",
              "      <td>56</td>\n",
              "      <td>...</td>\n",
              "      <td>30</td>\n",
              "      <td>10</td>\n",
              "      <td>10</td>\n",
              "      <td>7</td>\n",
              "      <td>10</td>\n",
              "      <td>2</td>\n",
              "      <td>16</td>\n",
              "      <td>0</td>\n",
              "      <td>0</td>\n",
              "      <td>2013</td>\n",
              "    </tr>\n",
              "    <tr>\n",
              "      <th>...</th>\n",
              "      <td>...</td>\n",
              "      <td>...</td>\n",
              "      <td>...</td>\n",
              "      <td>...</td>\n",
              "      <td>...</td>\n",
              "      <td>...</td>\n",
              "      <td>...</td>\n",
              "      <td>...</td>\n",
              "      <td>...</td>\n",
              "      <td>...</td>\n",
              "      <td>...</td>\n",
              "      <td>...</td>\n",
              "      <td>...</td>\n",
              "      <td>...</td>\n",
              "      <td>...</td>\n",
              "      <td>...</td>\n",
              "      <td>...</td>\n",
              "      <td>...</td>\n",
              "      <td>...</td>\n",
              "      <td>...</td>\n",
              "      <td>...</td>\n",
              "    </tr>\n",
              "    <tr>\n",
              "      <th>1314</th>\n",
              "      <td>2017-07-27</td>\n",
              "      <td>103</td>\n",
              "      <td>89</td>\n",
              "      <td>75</td>\n",
              "      <td>71</td>\n",
              "      <td>67</td>\n",
              "      <td>61</td>\n",
              "      <td>82</td>\n",
              "      <td>54</td>\n",
              "      <td>25</td>\n",
              "      <td>...</td>\n",
              "      <td>29</td>\n",
              "      <td>10</td>\n",
              "      <td>10</td>\n",
              "      <td>10</td>\n",
              "      <td>12</td>\n",
              "      <td>5</td>\n",
              "      <td>21</td>\n",
              "      <td>0</td>\n",
              "      <td>0</td>\n",
              "      <td>2017</td>\n",
              "    </tr>\n",
              "    <tr>\n",
              "      <th>1315</th>\n",
              "      <td>2017-07-28</td>\n",
              "      <td>105</td>\n",
              "      <td>91</td>\n",
              "      <td>76</td>\n",
              "      <td>71</td>\n",
              "      <td>64</td>\n",
              "      <td>55</td>\n",
              "      <td>87</td>\n",
              "      <td>54</td>\n",
              "      <td>20</td>\n",
              "      <td>...</td>\n",
              "      <td>29</td>\n",
              "      <td>10</td>\n",
              "      <td>10</td>\n",
              "      <td>10</td>\n",
              "      <td>14</td>\n",
              "      <td>5</td>\n",
              "      <td>20</td>\n",
              "      <td>0</td>\n",
              "      <td>0</td>\n",
              "      <td>2017</td>\n",
              "    </tr>\n",
              "    <tr>\n",
              "      <th>1316</th>\n",
              "      <td>2017-07-29</td>\n",
              "      <td>107</td>\n",
              "      <td>92</td>\n",
              "      <td>77</td>\n",
              "      <td>72</td>\n",
              "      <td>64</td>\n",
              "      <td>55</td>\n",
              "      <td>82</td>\n",
              "      <td>51</td>\n",
              "      <td>19</td>\n",
              "      <td>...</td>\n",
              "      <td>29</td>\n",
              "      <td>10</td>\n",
              "      <td>10</td>\n",
              "      <td>10</td>\n",
              "      <td>12</td>\n",
              "      <td>4</td>\n",
              "      <td>17</td>\n",
              "      <td>0</td>\n",
              "      <td>0</td>\n",
              "      <td>2017</td>\n",
              "    </tr>\n",
              "    <tr>\n",
              "      <th>1317</th>\n",
              "      <td>2017-07-30</td>\n",
              "      <td>106</td>\n",
              "      <td>93</td>\n",
              "      <td>79</td>\n",
              "      <td>70</td>\n",
              "      <td>68</td>\n",
              "      <td>63</td>\n",
              "      <td>69</td>\n",
              "      <td>48</td>\n",
              "      <td>27</td>\n",
              "      <td>...</td>\n",
              "      <td>29</td>\n",
              "      <td>10</td>\n",
              "      <td>10</td>\n",
              "      <td>10</td>\n",
              "      <td>13</td>\n",
              "      <td>4</td>\n",
              "      <td>20</td>\n",
              "      <td>0</td>\n",
              "      <td>0</td>\n",
              "      <td>2017</td>\n",
              "    </tr>\n",
              "    <tr>\n",
              "      <th>1318</th>\n",
              "      <td>2017-07-31</td>\n",
              "      <td>99</td>\n",
              "      <td>88</td>\n",
              "      <td>77</td>\n",
              "      <td>66</td>\n",
              "      <td>61</td>\n",
              "      <td>54</td>\n",
              "      <td>64</td>\n",
              "      <td>43</td>\n",
              "      <td>22</td>\n",
              "      <td>...</td>\n",
              "      <td>29</td>\n",
              "      <td>10</td>\n",
              "      <td>10</td>\n",
              "      <td>10</td>\n",
              "      <td>12</td>\n",
              "      <td>4</td>\n",
              "      <td>20</td>\n",
              "      <td>0</td>\n",
              "      <td>0</td>\n",
              "      <td>2017</td>\n",
              "    </tr>\n",
              "  </tbody>\n",
              "</table>\n",
              "<p>1319 rows × 22 columns</p>\n",
              "</div>\n",
              "      <button class=\"colab-df-convert\" onclick=\"convertToInteractive('df-047be69e-802a-4abe-a581-1733b78ba53c')\"\n",
              "              title=\"Convert this dataframe to an interactive table.\"\n",
              "              style=\"display:none;\">\n",
              "        \n",
              "  <svg xmlns=\"http://www.w3.org/2000/svg\" height=\"24px\"viewBox=\"0 0 24 24\"\n",
              "       width=\"24px\">\n",
              "    <path d=\"M0 0h24v24H0V0z\" fill=\"none\"/>\n",
              "    <path d=\"M18.56 5.44l.94 2.06.94-2.06 2.06-.94-2.06-.94-.94-2.06-.94 2.06-2.06.94zm-11 1L8.5 8.5l.94-2.06 2.06-.94-2.06-.94L8.5 2.5l-.94 2.06-2.06.94zm10 10l.94 2.06.94-2.06 2.06-.94-2.06-.94-.94-2.06-.94 2.06-2.06.94z\"/><path d=\"M17.41 7.96l-1.37-1.37c-.4-.4-.92-.59-1.43-.59-.52 0-1.04.2-1.43.59L10.3 9.45l-7.72 7.72c-.78.78-.78 2.05 0 2.83L4 21.41c.39.39.9.59 1.41.59.51 0 1.02-.2 1.41-.59l7.78-7.78 2.81-2.81c.8-.78.8-2.07 0-2.86zM5.41 20L4 18.59l7.72-7.72 1.47 1.35L5.41 20z\"/>\n",
              "  </svg>\n",
              "      </button>\n",
              "      \n",
              "  <style>\n",
              "    .colab-df-container {\n",
              "      display:flex;\n",
              "      flex-wrap:wrap;\n",
              "      gap: 12px;\n",
              "    }\n",
              "\n",
              "    .colab-df-convert {\n",
              "      background-color: #E8F0FE;\n",
              "      border: none;\n",
              "      border-radius: 50%;\n",
              "      cursor: pointer;\n",
              "      display: none;\n",
              "      fill: #1967D2;\n",
              "      height: 32px;\n",
              "      padding: 0 0 0 0;\n",
              "      width: 32px;\n",
              "    }\n",
              "\n",
              "    .colab-df-convert:hover {\n",
              "      background-color: #E2EBFA;\n",
              "      box-shadow: 0px 1px 2px rgba(60, 64, 67, 0.3), 0px 1px 3px 1px rgba(60, 64, 67, 0.15);\n",
              "      fill: #174EA6;\n",
              "    }\n",
              "\n",
              "    [theme=dark] .colab-df-convert {\n",
              "      background-color: #3B4455;\n",
              "      fill: #D2E3FC;\n",
              "    }\n",
              "\n",
              "    [theme=dark] .colab-df-convert:hover {\n",
              "      background-color: #434B5C;\n",
              "      box-shadow: 0px 1px 3px 1px rgba(0, 0, 0, 0.15);\n",
              "      filter: drop-shadow(0px 1px 2px rgba(0, 0, 0, 0.3));\n",
              "      fill: #FFFFFF;\n",
              "    }\n",
              "  </style>\n",
              "\n",
              "      <script>\n",
              "        const buttonEl =\n",
              "          document.querySelector('#df-047be69e-802a-4abe-a581-1733b78ba53c button.colab-df-convert');\n",
              "        buttonEl.style.display =\n",
              "          google.colab.kernel.accessAllowed ? 'block' : 'none';\n",
              "\n",
              "        async function convertToInteractive(key) {\n",
              "          const element = document.querySelector('#df-047be69e-802a-4abe-a581-1733b78ba53c');\n",
              "          const dataTable =\n",
              "            await google.colab.kernel.invokeFunction('convertToInteractive',\n",
              "                                                     [key], {});\n",
              "          if (!dataTable) return;\n",
              "\n",
              "          const docLinkHtml = 'Like what you see? Visit the ' +\n",
              "            '<a target=\"_blank\" href=https://colab.research.google.com/notebooks/data_table.ipynb>data table notebook</a>'\n",
              "            + ' to learn more about interactive tables.';\n",
              "          element.innerHTML = '';\n",
              "          dataTable['output_type'] = 'display_data';\n",
              "          await google.colab.output.renderOutput(dataTable, element);\n",
              "          const docLink = document.createElement('div');\n",
              "          docLink.innerHTML = docLinkHtml;\n",
              "          element.appendChild(docLink);\n",
              "        }\n",
              "      </script>\n",
              "    </div>\n",
              "  </div>\n",
              "  "
            ]
          },
          "metadata": {},
          "execution_count": 377
        }
      ],
      "source": [
        "df.rename(str.lower, axis='columns')"
      ]
    },
    {
      "cell_type": "markdown",
      "source": [
        "**Bar graph** -  A bar chart describes the comparisons between the discrete categories."
      ],
      "metadata": {
        "id": "PxMJCEPHBG-Q"
      }
    },
    {
      "cell_type": "code",
      "execution_count": null,
      "metadata": {
        "id": "qcDFSCJmt7kj",
        "colab": {
          "base_uri": "https://localhost:8080/",
          "height": 295
        },
        "outputId": "d80b9ffe-939d-4973-ab80-df3c2fbd088c"
      },
      "outputs": [
        {
          "output_type": "display_data",
          "data": {
            "text/plain": [
              "<Figure size 432x288 with 1 Axes>"
            ],
            "image/png": "[encoded data removed]"
          },
          "metadata": {
            "needs_background": "light"
          }
        }
      ],
      "source": [
        "bargraph=grp_tempavg_yr.plot.bar(x=\"Year\", y=\"TempAvgF\")"
      ]
    },
    {
      "cell_type": "markdown",
      "source": [
        "This bar graph helps us to identify the quantity of data samples belonging to each year agains the average temperature"
      ],
      "metadata": {
        "id": "qpKlPvu-B4qj"
      }
    },
    {
      "cell_type": "code",
      "execution_count": null,
      "metadata": {
        "id": "6GBshBQJt93j",
        "colab": {
          "base_uri": "https://localhost:8080/",
          "height": 265
        },
        "outputId": "e9ea3f46-a3cb-4695-8b78-2583dd346fba"
      },
      "outputs": [
        {
          "output_type": "display_data",
          "data": {
            "text/plain": [
              "<Figure size 432x288 with 1 Axes>"
            ],
            "image/png": "[encoded data removed]"
          },
          "metadata": {
            "needs_background": "light"
          }
        }
      ],
      "source": [
        "barhgraph=grp_tempavg_yr.plot.barh(x=\"Year\", y=\"TempAvgF\")"
      ]
    },
    {
      "cell_type": "markdown",
      "source": [
        "This bar graph helps us to identify the quantity of data samples belonging to each year agains the average temperature"
      ],
      "metadata": {
        "id": "Ryf_jVnMCGTY"
      }
    },
    {
      "cell_type": "code",
      "execution_count": null,
      "metadata": {
        "id": "BiwGlhmduAVO",
        "colab": {
          "base_uri": "https://localhost:8080/",
          "height": 265
        },
        "outputId": "562d6693-f0f2-4751-d60c-44f3cf796beb"
      },
      "outputs": [
        {
          "output_type": "display_data",
          "data": {
            "text/plain": [
              "<Figure size 432x288 with 1 Axes>"
            ],
            "image/png": "[encoded data removed]"
          },
          "metadata": {
            "needs_background": "light"
          }
        }
      ],
      "source": [
        "histplot = grp_tempavg_yr.plot.hist( by=\"Year\")"
      ]
    },
    {
      "cell_type": "markdown",
      "source": [
        "**Pair plot**- Pairplot visualizes given data to find the relationship between them where the variables can be continuous or categorical.\n",
        "\n"
      ],
      "metadata": {
        "id": "xBPozn37BRG8"
      }
    },
    {
      "cell_type": "code",
      "execution_count": null,
      "metadata": {
        "id": "PKT47AgHuDMv",
        "colab": {
          "base_uri": "https://localhost:8080/",
          "height": 374
        },
        "outputId": "272960e6-f38d-417b-f7ea-2dff1e954a0a"
      },
      "outputs": [
        {
          "output_type": "display_data",
          "data": {
            "text/plain": [
              "<Figure size 421.375x360 with 6 Axes>"
            ],
            "image/png": "[encoded data removed]"
          },
          "metadata": {
            "needs_background": "light"
          }
        }
      ],
      "source": [
        "col=['TempAvgF', 'TempHighF', 'Year']\n",
        "sns.pairplot(df[col],  hue ='Year')\n",
        "plt.show()\n",
        "  "
      ]
    },
    {
      "cell_type": "markdown",
      "source": [
        "**Pair plot**- Pairplot visualizes given data to find the relationship between them where the variables can be continuous or categorical.\n"
      ],
      "metadata": {
        "id": "7UHFFQsbBXeU"
      }
    },
    {
      "cell_type": "code",
      "execution_count": null,
      "metadata": {
        "id": "tnkcHUZOuFQs",
        "colab": {
          "base_uri": "https://localhost:8080/",
          "height": 297
        },
        "outputId": "3c363541-8a71-4fd6-cdac-e8f6268af17b"
      },
      "outputs": [
        {
          "output_type": "execute_result",
          "data": {
            "text/plain": [
              "<matplotlib.axes._subplots.AxesSubplot at 0x7f60a1d93d50>"
            ]
          },
          "metadata": {},
          "execution_count": 382
        },
        {
          "output_type": "display_data",
          "data": {
            "text/plain": [
              "<Figure size 432x288 with 1 Axes>"
            ],
            "image/png": "[encoded data removed]"
          },
          "metadata": {
            "needs_background": "light"
          }
        }
      ],
      "source": [
        "sns.distplot(df.TempAvgF)"
      ]
    },
    {
      "cell_type": "markdown",
      "source": [
        "**Dist plot** - It represents the data distribution of a variable against the density distribution. "
      ],
      "metadata": {
        "id": "1I8afdfjBdpo"
      }
    },
    {
      "cell_type": "code",
      "execution_count": null,
      "metadata": {
        "id": "bpKhqRhPuJ36",
        "colab": {
          "base_uri": "https://localhost:8080/",
          "height": 459
        },
        "outputId": "378db7a8-ec31-45cd-8310-f533ce634bd4"
      },
      "outputs": [
        {
          "output_type": "execute_result",
          "data": {
            "text/plain": [
              "<seaborn.axisgrid.JointGrid at 0x7f60a0c93c10>"
            ]
          },
          "metadata": {},
          "execution_count": 383
        },
        {
          "output_type": "display_data",
          "data": {
            "text/plain": [
              "<Figure size 432x432 with 3 Axes>"
            ],
            "image/png": "[encoded data removed]"
          },
          "metadata": {
            "needs_background": "light"
          }
        }
      ],
      "source": [
        "sns.jointplot(x = \"Year\", y = \"TempAvgF\",kind = \"hex\", data = df)"
      ]
    },
    {
      "cell_type": "markdown",
      "source": [
        "Joint plot - helps to explore relationships between bivariate data, as well as their distributions at the same time"
      ],
      "metadata": {
        "id": "ih03KbuoF69n"
      }
    },
    {
      "cell_type": "code",
      "execution_count": null,
      "metadata": {
        "id": "NTDvEUECuM6c",
        "colab": {
          "base_uri": "https://localhost:8080/",
          "height": 297
        },
        "outputId": "8ed1a1ba-d4ae-40e3-b50d-d0b365134c63"
      },
      "outputs": [
        {
          "output_type": "execute_result",
          "data": {
            "text/plain": [
              "<matplotlib.axes._subplots.AxesSubplot at 0x7f60a0ad4990>"
            ]
          },
          "metadata": {},
          "execution_count": 384
        },
        {
          "output_type": "display_data",
          "data": {
            "text/plain": [
              "<Figure size 432x288 with 1 Axes>"
            ],
            "image/png": "[encoded data removed]"
          },
          "metadata": {
            "needs_background": "light"
          }
        }
      ],
      "source": [
        "sns.stripplot(x=\"Year\", y=\"TempAvgF\", data=df)"
      ]
    },
    {
      "cell_type": "markdown",
      "source": [
        "Stripplot is helping us to clearly depict the quantity of samples belonging to each year."
      ],
      "metadata": {
        "id": "3hXxdkXjFfeT"
      }
    },
    {
      "cell_type": "code",
      "execution_count": null,
      "metadata": {
        "id": "-36va7SluP1v",
        "colab": {
          "base_uri": "https://localhost:8080/",
          "height": 297
        },
        "outputId": "e997a651-d558-436d-8d6e-f8ce1e29b831"
      },
      "outputs": [
        {
          "output_type": "execute_result",
          "data": {
            "text/plain": [
              "<matplotlib.axes._subplots.AxesSubplot at 0x7f60a0a53b50>"
            ]
          },
          "metadata": {},
          "execution_count": 385
        },
        {
          "output_type": "display_data",
          "data": {
            "text/plain": [
              "<Figure size 432x288 with 1 Axes>"
            ],
            "image/png": "[encoded data removed]"
          },
          "metadata": {
            "needs_background": "light"
          }
        }
      ],
      "source": [
        "sns.violinplot(x=\"Year\", y=\"TempAvgF\", data=df)"
      ]
    },
    {
      "cell_type": "code",
      "execution_count": null,
      "metadata": {
        "id": "qZXwuVNFuSwR",
        "colab": {
          "base_uri": "https://localhost:8080/",
          "height": 403
        },
        "outputId": "f7e75049-0f8d-4455-9327-ccca42d1754c"
      },
      "outputs": [
        {
          "output_type": "display_data",
          "data": {
            "text/plain": [
              "<Figure size 432x288 with 2 Axes>"
            ],
            "image/png": "[encoded data removed]"
          },
          "metadata": {
            "needs_background": "light"
          }
        }
      ],
      "source": [
        "hm = sns.heatmap(df.corr())"
      ]
    },
    {
      "cell_type": "markdown",
      "source": [
        "Heat map depicting the correlation between each features and hence we can identify the most important features."
      ],
      "metadata": {
        "id": "wtoY5LffFWdH"
      }
    },
    {
      "cell_type": "code",
      "execution_count": null,
      "metadata": {
        "id": "NNYpxqSCuU3_",
        "colab": {
          "base_uri": "https://localhost:8080/",
          "height": 298
        },
        "outputId": "ed7e28a5-9a14-475a-cdde-43ed36a86a67"
      },
      "outputs": [
        {
          "output_type": "execute_result",
          "data": {
            "text/plain": [
              "<matplotlib.axes._subplots.AxesSubplot at 0x7f60a08d5550>"
            ]
          },
          "metadata": {},
          "execution_count": 387
        },
        {
          "output_type": "display_data",
          "data": {
            "text/plain": [
              "<Figure size 432x288 with 1 Axes>"
            ],
            "image/png": "[encoded data removed]"
          },
          "metadata": {
            "needs_background": "light"
          }
        }
      ],
      "source": [
        "sns.scatterplot(data=df, x=\"TempAvgF\", y=\"HumidityAvgPercent\", )"
      ]
    },
    {
      "cell_type": "markdown",
      "source": [
        "scatter plot of humidity vs average temperature for the given samples."
      ],
      "metadata": {
        "id": "8bjAl368FEOn"
      }
    },
    {
      "cell_type": "code",
      "execution_count": null,
      "metadata": {
        "id": "heU7ne6RuWou",
        "colab": {
          "base_uri": "https://localhost:8080/",
          "height": 303
        },
        "outputId": "be81f59e-d0ae-4186-fa3a-d821f2a82e5c"
      },
      "outputs": [
        {
          "output_type": "display_data",
          "data": {
            "text/plain": [
              "<Figure size 360x360 with 1 Axes>"
            ],
            "image/png": "[encoded data removed]"
          },
          "metadata": {}
        }
      ],
      "source": [
        "plot = grp_tempavg_yr.plot.pie(y='TempAvgF', autopct='%1.0f%%', figsize=(5, 5))\n"
      ]
    },
    {
      "cell_type": "markdown",
      "source": [
        "Average temperature in PIE graph depicting that most of the samples have avearge temperature."
      ],
      "metadata": {
        "id": "OFvKwCMzFLX2"
      }
    },
    {
      "cell_type": "code",
      "execution_count": null,
      "metadata": {
        "id": "ctJeXIfIucF8",
        "colab": {
          "base_uri": "https://localhost:8080/",
          "height": 740
        },
        "outputId": "03c3f46f-6a58-4232-8b40-30d2cde4ee53"
      },
      "outputs": [
        {
          "output_type": "execute_result",
          "data": {
            "text/plain": [
              "                            TempHighF  TempAvgF  TempLowF  DewPointHighF  \\\n",
              "TempHighF                    1.000000  0.970655  0.881977       0.744612   \n",
              "TempAvgF                     0.970655  1.000000  0.968573       0.808014   \n",
              "TempLowF                     0.881977  0.968573  1.000000       0.832384   \n",
              "DewPointHighF                0.744612  0.808014  0.832384       1.000000   \n",
              "DewPointAvgF                 0.755616  0.837222  0.877662       0.967754   \n",
              "DewPointLowF                 0.725671  0.820421  0.874380       0.898026   \n",
              "HumidityHighPercent          0.123647  0.192456  0.252131       0.510722   \n",
              "HumidityAvgPercent          -0.116141  0.022763  0.165002       0.409717   \n",
              "HumidityLowPercent          -0.256256 -0.096187  0.074977       0.263818   \n",
              "SeaLevelPressureHighInches  -0.159230 -0.151205 -0.132734       0.112964   \n",
              "SeaLevelPressureAvgInches   -0.226134 -0.219854 -0.199543       0.048674   \n",
              "SeaLevelPressureLowInches   -0.241449 -0.235022 -0.213699       0.023162   \n",
              "VisibilityHighMiles         -0.028280 -0.043128 -0.042962       0.250751   \n",
              "VisibilityAvgMiles           0.226655  0.148463  0.064996       0.077431   \n",
              "VisibilityLowMiles           0.190855  0.100722  0.002420      -0.130295   \n",
              "WindHighMPH                  0.012029  0.014119  0.015882       0.117151   \n",
              "WindAvgMPH                  -0.009297  0.034267  0.076016       0.074983   \n",
              "WindGustMPH                  0.027676  0.026663  0.024319       0.125768   \n",
              "PrecipitationSumInches      -0.040145 -0.006498  0.030472       0.101778   \n",
              "Year                         0.123608  0.123498  0.117036       0.127251   \n",
              "\n",
              "                            DewPointAvgF  DewPointLowF  HumidityHighPercent  \\\n",
              "TempHighF                       0.755616      0.725671             0.123647   \n",
              "TempAvgF                        0.837222      0.820421             0.192456   \n",
              "TempLowF                        0.877662      0.874380             0.252131   \n",
              "DewPointHighF                   0.967754      0.898026             0.510722   \n",
              "DewPointAvgF                    1.000000      0.967514             0.520575   \n",
              "DewPointLowF                    0.967514      1.000000             0.481106   \n",
              "HumidityHighPercent             0.520575      0.481106             1.000000   \n",
              "HumidityAvgPercent              0.450622      0.458124             0.828398   \n",
              "HumidityLowPercent              0.317731      0.355761             0.553781   \n",
              "SeaLevelPressureHighInches      0.083833      0.061904             0.054016   \n",
              "SeaLevelPressureAvgInches       0.019924      0.003088             0.031127   \n",
              "SeaLevelPressureLowInches       0.001424     -0.009150             0.016027   \n",
              "VisibilityHighMiles             0.216995      0.184720             0.084664   \n",
              "VisibilityAvgMiles              0.056602      0.064665            -0.304546   \n",
              "VisibilityLowMiles             -0.129497     -0.104077            -0.477612   \n",
              "WindHighMPH                     0.054142     -0.013514             0.013986   \n",
              "WindAvgMPH                      0.038257      0.001407            -0.086840   \n",
              "WindGustMPH                     0.062522     -0.008039             0.004679   \n",
              "PrecipitationSumInches          0.093984      0.096690             0.146984   \n",
              "Year                            0.132896      0.135333             0.041886   \n",
              "\n",
              "                            HumidityAvgPercent  HumidityLowPercent  \\\n",
              "TempHighF                            -0.116141           -0.256256   \n",
              "TempAvgF                              0.022763           -0.096187   \n",
              "TempLowF                              0.165002            0.074977   \n",
              "DewPointHighF                         0.409717            0.263818   \n",
              "DewPointAvgF                          0.450622            0.317731   \n",
              "DewPointLowF                          0.458124            0.355761   \n",
              "HumidityHighPercent                   0.828398            0.553781   \n",
              "HumidityAvgPercent                    1.000000            0.923541   \n",
              "HumidityLowPercent                    0.923541            1.000000   \n",
              "SeaLevelPressureHighInches            0.071054            0.069814   \n",
              "SeaLevelPressureAvgInches             0.058778            0.066427   \n",
              "SeaLevelPressureLowInches             0.047436            0.059680   \n",
              "VisibilityHighMiles                   0.062050            0.035198   \n",
              "VisibilityAvgMiles                   -0.449230           -0.459657   \n",
              "VisibilityLowMiles                   -0.600088           -0.566181   \n",
              "WindHighMPH                           0.024878            0.026541   \n",
              "WindAvgMPH                           -0.000472            0.058757   \n",
              "WindGustMPH                           0.017390            0.023175   \n",
              "PrecipitationSumInches                0.247373            0.268836   \n",
              "Year                                  0.022695            0.000834   \n",
              "\n",
              "                            SeaLevelPressureHighInches  \\\n",
              "TempHighF                                    -0.159230   \n",
              "TempAvgF                                     -0.151205   \n",
              "TempLowF                                     -0.132734   \n",
              "DewPointHighF                                 0.112964   \n",
              "DewPointAvgF                                  0.083833   \n",
              "DewPointLowF                                  0.061904   \n",
              "HumidityHighPercent                           0.054016   \n",
              "HumidityAvgPercent                            0.071054   \n",
              "HumidityLowPercent                            0.069814   \n",
              "SeaLevelPressureHighInches                    1.000000   \n",
              "SeaLevelPressureAvgInches                     0.959644   \n",
              "SeaLevelPressureLowInches                     0.942977   \n",
              "VisibilityHighMiles                           0.466448   \n",
              "VisibilityAvgMiles                            0.254323   \n",
              "VisibilityLowMiles                            0.105335   \n",
              "WindHighMPH                                   0.066364   \n",
              "WindAvgMPH                                    0.014496   \n",
              "WindGustMPH                                   0.058675   \n",
              "PrecipitationSumInches                       -0.013192   \n",
              "Year                                         -0.019257   \n",
              "\n",
              "                            SeaLevelPressureAvgInches  \\\n",
              "TempHighF                                   -0.226134   \n",
              "TempAvgF                                    -0.219854   \n",
              "TempLowF                                    -0.199543   \n",
              "DewPointHighF                                0.048674   \n",
              "DewPointAvgF                                 0.019924   \n",
              "DewPointLowF                                 0.003088   \n",
              "HumidityHighPercent                          0.031127   \n",
              "HumidityAvgPercent                           0.058778   \n",
              "HumidityLowPercent                           0.066427   \n",
              "SeaLevelPressureHighInches                   0.959644   \n",
              "SeaLevelPressureAvgInches                    1.000000   \n",
              "SeaLevelPressureLowInches                    0.960371   \n",
              "VisibilityHighMiles                          0.476383   \n",
              "VisibilityAvgMiles                           0.249744   \n",
              "VisibilityLowMiles                           0.100807   \n",
              "WindHighMPH                                  0.049770   \n",
              "WindAvgMPH                                  -0.001322   \n",
              "WindGustMPH                                  0.043066   \n",
              "PrecipitationSumInches                      -0.021332   \n",
              "Year                                        -0.012557   \n",
              "\n",
              "                            SeaLevelPressureLowInches  VisibilityHighMiles  \\\n",
              "TempHighF                                   -0.241449            -0.028280   \n",
              "TempAvgF                                    -0.235022            -0.043128   \n",
              "TempLowF                                    -0.213699            -0.042962   \n",
              "DewPointHighF                                0.023162             0.250751   \n",
              "DewPointAvgF                                 0.001424             0.216995   \n",
              "DewPointLowF                                -0.009150             0.184720   \n",
              "HumidityHighPercent                          0.016027             0.084664   \n",
              "HumidityAvgPercent                           0.047436             0.062050   \n",
              "HumidityLowPercent                           0.059680             0.035198   \n",
              "SeaLevelPressureHighInches                   0.942977             0.466448   \n",
              "SeaLevelPressureAvgInches                    0.960371             0.476383   \n",
              "SeaLevelPressureLowInches                    1.000000             0.468832   \n",
              "VisibilityHighMiles                          0.468832             1.000000   \n",
              "VisibilityAvgMiles                           0.247141             0.537715   \n",
              "VisibilityLowMiles                           0.109945             0.185768   \n",
              "WindHighMPH                                  0.038768             0.081895   \n",
              "WindAvgMPH                                   0.002662             0.020734   \n",
              "WindGustMPH                                  0.030183             0.082759   \n",
              "PrecipitationSumInches                      -0.015919             0.017130   \n",
              "Year                                        -0.008683             0.036212   \n",
              "\n",
              "                            VisibilityAvgMiles  VisibilityLowMiles  \\\n",
              "TempHighF                             0.226655            0.190855   \n",
              "TempAvgF                              0.148463            0.100722   \n",
              "TempLowF                              0.064996            0.002420   \n",
              "DewPointHighF                         0.077431           -0.130295   \n",
              "DewPointAvgF                          0.056602           -0.129497   \n",
              "DewPointLowF                          0.064665           -0.104077   \n",
              "HumidityHighPercent                  -0.304546           -0.477612   \n",
              "HumidityAvgPercent                   -0.449230           -0.600088   \n",
              "HumidityLowPercent                   -0.459657           -0.566181   \n",
              "SeaLevelPressureHighInches            0.254323            0.105335   \n",
              "SeaLevelPressureAvgInches             0.249744            0.100807   \n",
              "SeaLevelPressureLowInches             0.247141            0.109945   \n",
              "VisibilityHighMiles                   0.537715            0.185768   \n",
              "VisibilityAvgMiles                    1.000000            0.766392   \n",
              "VisibilityLowMiles                    0.766392            1.000000   \n",
              "WindHighMPH                          -0.027450           -0.166193   \n",
              "WindAvgMPH                            0.026522            0.003038   \n",
              "WindGustMPH                          -0.008995           -0.145257   \n",
              "PrecipitationSumInches               -0.270629           -0.280879   \n",
              "Year                                  0.054707            0.039446   \n",
              "\n",
              "                            WindHighMPH  WindAvgMPH  WindGustMPH  \\\n",
              "TempHighF                      0.012029   -0.009297     0.027676   \n",
              "TempAvgF                       0.014119    0.034267     0.026663   \n",
              "TempLowF                       0.015882    0.076016     0.024319   \n",
              "DewPointHighF                  0.117151    0.074983     0.125768   \n",
              "DewPointAvgF                   0.054142    0.038257     0.062522   \n",
              "DewPointLowF                  -0.013514    0.001407    -0.008039   \n",
              "HumidityHighPercent            0.013986   -0.086840     0.004679   \n",
              "HumidityAvgPercent             0.024878   -0.000472     0.017390   \n",
              "HumidityLowPercent             0.026541    0.058757     0.023175   \n",
              "SeaLevelPressureHighInches     0.066364    0.014496     0.058675   \n",
              "SeaLevelPressureAvgInches      0.049770   -0.001322     0.043066   \n",
              "SeaLevelPressureLowInches      0.038768    0.002662     0.030183   \n",
              "VisibilityHighMiles            0.081895    0.020734     0.082759   \n",
              "VisibilityAvgMiles            -0.027450    0.026522    -0.008995   \n",
              "VisibilityLowMiles            -0.166193    0.003038    -0.145257   \n",
              "WindHighMPH                    1.000000    0.672828     0.930714   \n",
              "WindAvgMPH                     0.672828    1.000000     0.690824   \n",
              "WindGustMPH                    0.930714    0.690824     1.000000   \n",
              "PrecipitationSumInches         0.199703    0.046470     0.155383   \n",
              "Year                          -0.006832    0.008048     0.014579   \n",
              "\n",
              "                            PrecipitationSumInches      Year  \n",
              "TempHighF                                -0.040145  0.123608  \n",
              "TempAvgF                                 -0.006498  0.123498  \n",
              "TempLowF                                  0.030472  0.117036  \n",
              "DewPointHighF                             0.101778  0.127251  \n",
              "DewPointAvgF                              0.093984  0.132896  \n",
              "DewPointLowF                              0.096690  0.135333  \n",
              "HumidityHighPercent                       0.146984  0.041886  \n",
              "HumidityAvgPercent                        0.247373  0.022695  \n",
              "HumidityLowPercent                        0.268836  0.000834  \n",
              "SeaLevelPressureHighInches               -0.013192 -0.019257  \n",
              "SeaLevelPressureAvgInches                -0.021332 -0.012557  \n",
              "SeaLevelPressureLowInches                -0.015919 -0.008683  \n",
              "VisibilityHighMiles                       0.017130  0.036212  \n",
              "VisibilityAvgMiles                       -0.270629  0.054707  \n",
              "VisibilityLowMiles                       -0.280879  0.039446  \n",
              "WindHighMPH                               0.199703 -0.006832  \n",
              "WindAvgMPH                                0.046470  0.008048  \n",
              "WindGustMPH                               0.155383  0.014579  \n",
              "PrecipitationSumInches                    1.000000 -0.028884  \n",
              "Year                                     -0.028884  1.000000  "
            ],
            "text/html": [
              "\n",
              "  <div id=\"df-01cfb935-121a-4aaa-b4f0-acf2ef8cf264\">\n",
              "    <div class=\"colab-df-container\">\n",
              "      <div>\n",
              "<style scoped>\n",
              "    .dataframe tbody tr th:only-of-type {\n",
              "        vertical-align: middle;\n",
              "    }\n",
              "\n",
              "    .dataframe tbody tr th {\n",
              "        vertical-align: top;\n",
              "    }\n",
              "\n",
              "    .dataframe thead th {\n",
              "        text-align: right;\n",
              "    }\n",
              "</style>\n",
              "<table border=\"1\" class=\"dataframe\">\n",
              "  <thead>\n",
              "    <tr style=\"text-align: right;\">\n",
              "      <th></th>\n",
              "      <th>TempHighF</th>\n",
              "      <th>TempAvgF</th>\n",
              "      <th>TempLowF</th>\n",
              "      <th>DewPointHighF</th>\n",
              "      <th>DewPointAvgF</th>\n",
              "      <th>DewPointLowF</th>\n",
              "      <th>HumidityHighPercent</th>\n",
              "      <th>HumidityAvgPercent</th>\n",
              "      <th>HumidityLowPercent</th>\n",
              "      <th>SeaLevelPressureHighInches</th>\n",
              "      <th>SeaLevelPressureAvgInches</th>\n",
              "      <th>SeaLevelPressureLowInches</th>\n",
              "      <th>VisibilityHighMiles</th>\n",
              "      <th>VisibilityAvgMiles</th>\n",
              "      <th>VisibilityLowMiles</th>\n",
              "      <th>WindHighMPH</th>\n",
              "      <th>WindAvgMPH</th>\n",
              "      <th>WindGustMPH</th>\n",
              "      <th>PrecipitationSumInches</th>\n",
              "      <th>Year</th>\n",
              "    </tr>\n",
              "  </thead>\n",
              "  <tbody>\n",
              "    <tr>\n",
              "      <th>TempHighF</th>\n",
              "      <td>1.000000</td>\n",
              "      <td>0.970655</td>\n",
              "      <td>0.881977</td>\n",
              "      <td>0.744612</td>\n",
              "      <td>0.755616</td>\n",
              "      <td>0.725671</td>\n",
              "      <td>0.123647</td>\n",
              "      <td>-0.116141</td>\n",
              "      <td>-0.256256</td>\n",
              "      <td>-0.159230</td>\n",
              "      <td>-0.226134</td>\n",
              "      <td>-0.241449</td>\n",
              "      <td>-0.028280</td>\n",
              "      <td>0.226655</td>\n",
              "      <td>0.190855</td>\n",
              "      <td>0.012029</td>\n",
              "      <td>-0.009297</td>\n",
              "      <td>0.027676</td>\n",
              "      <td>-0.040145</td>\n",
              "      <td>0.123608</td>\n",
              "    </tr>\n",
              "    <tr>\n",
              "      <th>TempAvgF</th>\n",
              "      <td>0.970655</td>\n",
              "      <td>1.000000</td>\n",
              "      <td>0.968573</td>\n",
              "      <td>0.808014</td>\n",
              "      <td>0.837222</td>\n",
              "      <td>0.820421</td>\n",
              "      <td>0.192456</td>\n",
              "      <td>0.022763</td>\n",
              "      <td>-0.096187</td>\n",
              "      <td>-0.151205</td>\n",
              "      <td>-0.219854</td>\n",
              "      <td>-0.235022</td>\n",
              "      <td>-0.043128</td>\n",
              "      <td>0.148463</td>\n",
              "      <td>0.100722</td>\n",
              "      <td>0.014119</td>\n",
              "      <td>0.034267</td>\n",
              "      <td>0.026663</td>\n",
              "      <td>-0.006498</td>\n",
              "      <td>0.123498</td>\n",
              "    </tr>\n",
              "    <tr>\n",
              "      <th>TempLowF</th>\n",
              "      <td>0.881977</td>\n",
              "      <td>0.968573</td>\n",
              "      <td>1.000000</td>\n",
              "      <td>0.832384</td>\n",
              "      <td>0.877662</td>\n",
              "      <td>0.874380</td>\n",
              "      <td>0.252131</td>\n",
              "      <td>0.165002</td>\n",
              "      <td>0.074977</td>\n",
              "      <td>-0.132734</td>\n",
              "      <td>-0.199543</td>\n",
              "      <td>-0.213699</td>\n",
              "      <td>-0.042962</td>\n",
              "      <td>0.064996</td>\n",
              "      <td>0.002420</td>\n",
              "      <td>0.015882</td>\n",
              "      <td>0.076016</td>\n",
              "      <td>0.024319</td>\n",
              "      <td>0.030472</td>\n",
              "      <td>0.117036</td>\n",
              "    </tr>\n",
              "    <tr>\n",
              "      <th>DewPointHighF</th>\n",
              "      <td>0.744612</td>\n",
              "      <td>0.808014</td>\n",
              "      <td>0.832384</td>\n",
              "      <td>1.000000</td>\n",
              "      <td>0.967754</td>\n",
              "      <td>0.898026</td>\n",
              "      <td>0.510722</td>\n",
              "      <td>0.409717</td>\n",
              "      <td>0.263818</td>\n",
              "      <td>0.112964</td>\n",
              "      <td>0.048674</td>\n",
              "      <td>0.023162</td>\n",
              "      <td>0.250751</td>\n",
              "      <td>0.077431</td>\n",
              "      <td>-0.130295</td>\n",
              "      <td>0.117151</td>\n",
              "      <td>0.074983</td>\n",
              "      <td>0.125768</td>\n",
              "      <td>0.101778</td>\n",
              "      <td>0.127251</td>\n",
              "    </tr>\n",
              "    <tr>\n",
              "      <th>DewPointAvgF</th>\n",
              "      <td>0.755616</td>\n",
              "      <td>0.837222</td>\n",
              "      <td>0.877662</td>\n",
              "      <td>0.967754</td>\n",
              "      <td>1.000000</td>\n",
              "      <td>0.967514</td>\n",
              "      <td>0.520575</td>\n",
              "      <td>0.450622</td>\n",
              "      <td>0.317731</td>\n",
              "      <td>0.083833</td>\n",
              "      <td>0.019924</td>\n",
              "      <td>0.001424</td>\n",
              "      <td>0.216995</td>\n",
              "      <td>0.056602</td>\n",
              "      <td>-0.129497</td>\n",
              "      <td>0.054142</td>\n",
              "      <td>0.038257</td>\n",
              "      <td>0.062522</td>\n",
              "      <td>0.093984</td>\n",
              "      <td>0.132896</td>\n",
              "    </tr>\n",
              "    <tr>\n",
              "      <th>DewPointLowF</th>\n",
              "      <td>0.725671</td>\n",
              "      <td>0.820421</td>\n",
              "      <td>0.874380</td>\n",
              "      <td>0.898026</td>\n",
              "      <td>0.967514</td>\n",
              "      <td>1.000000</td>\n",
              "      <td>0.481106</td>\n",
              "      <td>0.458124</td>\n",
              "      <td>0.355761</td>\n",
              "      <td>0.061904</td>\n",
              "      <td>0.003088</td>\n",
              "      <td>-0.009150</td>\n",
              "      <td>0.184720</td>\n",
              "      <td>0.064665</td>\n",
              "      <td>-0.104077</td>\n",
              "      <td>-0.013514</td>\n",
              "      <td>0.001407</td>\n",
              "      <td>-0.008039</td>\n",
              "      <td>0.096690</td>\n",
              "      <td>0.135333</td>\n",
              "    </tr>\n",
              "    <tr>\n",
              "      <th>HumidityHighPercent</th>\n",
              "      <td>0.123647</td>\n",
              "      <td>0.192456</td>\n",
              "      <td>0.252131</td>\n",
              "      <td>0.510722</td>\n",
              "      <td>0.520575</td>\n",
              "      <td>0.481106</td>\n",
              "      <td>1.000000</td>\n",
              "      <td>0.828398</td>\n",
              "      <td>0.553781</td>\n",
              "      <td>0.054016</td>\n",
              "      <td>0.031127</td>\n",
              "      <td>0.016027</td>\n",
              "      <td>0.084664</td>\n",
              "      <td>-0.304546</td>\n",
              "      <td>-0.477612</td>\n",
              "      <td>0.013986</td>\n",
              "      <td>-0.086840</td>\n",
              "      <td>0.004679</td>\n",
              "      <td>0.146984</td>\n",
              "      <td>0.041886</td>\n",
              "    </tr>\n",
              "    <tr>\n",
              "      <th>HumidityAvgPercent</th>\n",
              "      <td>-0.116141</td>\n",
              "      <td>0.022763</td>\n",
              "      <td>0.165002</td>\n",
              "      <td>0.409717</td>\n",
              "      <td>0.450622</td>\n",
              "      <td>0.458124</td>\n",
              "      <td>0.828398</td>\n",
              "      <td>1.000000</td>\n",
              "      <td>0.923541</td>\n",
              "      <td>0.071054</td>\n",
              "      <td>0.058778</td>\n",
              "      <td>0.047436</td>\n",
              "      <td>0.062050</td>\n",
              "      <td>-0.449230</td>\n",
              "      <td>-0.600088</td>\n",
              "      <td>0.024878</td>\n",
              "      <td>-0.000472</td>\n",
              "      <td>0.017390</td>\n",
              "      <td>0.247373</td>\n",
              "      <td>0.022695</td>\n",
              "    </tr>\n",
              "    <tr>\n",
              "      <th>HumidityLowPercent</th>\n",
              "      <td>-0.256256</td>\n",
              "      <td>-0.096187</td>\n",
              "      <td>0.074977</td>\n",
              "      <td>0.263818</td>\n",
              "      <td>0.317731</td>\n",
              "      <td>0.355761</td>\n",
              "      <td>0.553781</td>\n",
              "      <td>0.923541</td>\n",
              "      <td>1.000000</td>\n",
              "      <td>0.069814</td>\n",
              "      <td>0.066427</td>\n",
              "      <td>0.059680</td>\n",
              "      <td>0.035198</td>\n",
              "      <td>-0.459657</td>\n",
              "      <td>-0.566181</td>\n",
              "      <td>0.026541</td>\n",
              "      <td>0.058757</td>\n",
              "      <td>0.023175</td>\n",
              "      <td>0.268836</td>\n",
              "      <td>0.000834</td>\n",
              "    </tr>\n",
              "    <tr>\n",
              "      <th>SeaLevelPressureHighInches</th>\n",
              "      <td>-0.159230</td>\n",
              "      <td>-0.151205</td>\n",
              "      <td>-0.132734</td>\n",
              "      <td>0.112964</td>\n",
              "      <td>0.083833</td>\n",
              "      <td>0.061904</td>\n",
              "      <td>0.054016</td>\n",
              "      <td>0.071054</td>\n",
              "      <td>0.069814</td>\n",
              "      <td>1.000000</td>\n",
              "      <td>0.959644</td>\n",
              "      <td>0.942977</td>\n",
              "      <td>0.466448</td>\n",
              "      <td>0.254323</td>\n",
              "      <td>0.105335</td>\n",
              "      <td>0.066364</td>\n",
              "      <td>0.014496</td>\n",
              "      <td>0.058675</td>\n",
              "      <td>-0.013192</td>\n",
              "      <td>-0.019257</td>\n",
              "    </tr>\n",
              "    <tr>\n",
              "      <th>SeaLevelPressureAvgInches</th>\n",
              "      <td>-0.226134</td>\n",
              "      <td>-0.219854</td>\n",
              "      <td>-0.199543</td>\n",
              "      <td>0.048674</td>\n",
              "      <td>0.019924</td>\n",
              "      <td>0.003088</td>\n",
              "      <td>0.031127</td>\n",
              "      <td>0.058778</td>\n",
              "      <td>0.066427</td>\n",
              "      <td>0.959644</td>\n",
              "      <td>1.000000</td>\n",
              "      <td>0.960371</td>\n",
              "      <td>0.476383</td>\n",
              "      <td>0.249744</td>\n",
              "      <td>0.100807</td>\n",
              "      <td>0.049770</td>\n",
              "      <td>-0.001322</td>\n",
              "      <td>0.043066</td>\n",
              "      <td>-0.021332</td>\n",
              "      <td>-0.012557</td>\n",
              "    </tr>\n",
              "    <tr>\n",
              "      <th>SeaLevelPressureLowInches</th>\n",
              "      <td>-0.241449</td>\n",
              "      <td>-0.235022</td>\n",
              "      <td>-0.213699</td>\n",
              "      <td>0.023162</td>\n",
              "      <td>0.001424</td>\n",
              "      <td>-0.009150</td>\n",
              "      <td>0.016027</td>\n",
              "      <td>0.047436</td>\n",
              "      <td>0.059680</td>\n",
              "      <td>0.942977</td>\n",
              "      <td>0.960371</td>\n",
              "      <td>1.000000</td>\n",
              "      <td>0.468832</td>\n",
              "      <td>0.247141</td>\n",
              "      <td>0.109945</td>\n",
              "      <td>0.038768</td>\n",
              "      <td>0.002662</td>\n",
              "      <td>0.030183</td>\n",
              "      <td>-0.015919</td>\n",
              "      <td>-0.008683</td>\n",
              "    </tr>\n",
              "    <tr>\n",
              "      <th>VisibilityHighMiles</th>\n",
              "      <td>-0.028280</td>\n",
              "      <td>-0.043128</td>\n",
              "      <td>-0.042962</td>\n",
              "      <td>0.250751</td>\n",
              "      <td>0.216995</td>\n",
              "      <td>0.184720</td>\n",
              "      <td>0.084664</td>\n",
              "      <td>0.062050</td>\n",
              "      <td>0.035198</td>\n",
              "      <td>0.466448</td>\n",
              "      <td>0.476383</td>\n",
              "      <td>0.468832</td>\n",
              "      <td>1.000000</td>\n",
              "      <td>0.537715</td>\n",
              "      <td>0.185768</td>\n",
              "      <td>0.081895</td>\n",
              "      <td>0.020734</td>\n",
              "      <td>0.082759</td>\n",
              "      <td>0.017130</td>\n",
              "      <td>0.036212</td>\n",
              "    </tr>\n",
              "    <tr>\n",
              "      <th>VisibilityAvgMiles</th>\n",
              "      <td>0.226655</td>\n",
              "      <td>0.148463</td>\n",
              "      <td>0.064996</td>\n",
              "      <td>0.077431</td>\n",
              "      <td>0.056602</td>\n",
              "      <td>0.064665</td>\n",
              "      <td>-0.304546</td>\n",
              "      <td>-0.449230</td>\n",
              "      <td>-0.459657</td>\n",
              "      <td>0.254323</td>\n",
              "      <td>0.249744</td>\n",
              "      <td>0.247141</td>\n",
              "      <td>0.537715</td>\n",
              "      <td>1.000000</td>\n",
              "      <td>0.766392</td>\n",
              "      <td>-0.027450</td>\n",
              "      <td>0.026522</td>\n",
              "      <td>-0.008995</td>\n",
              "      <td>-0.270629</td>\n",
              "      <td>0.054707</td>\n",
              "    </tr>\n",
              "    <tr>\n",
              "      <th>VisibilityLowMiles</th>\n",
              "      <td>0.190855</td>\n",
              "      <td>0.100722</td>\n",
              "      <td>0.002420</td>\n",
              "      <td>-0.130295</td>\n",
              "      <td>-0.129497</td>\n",
              "      <td>-0.104077</td>\n",
              "      <td>-0.477612</td>\n",
              "      <td>-0.600088</td>\n",
              "      <td>-0.566181</td>\n",
              "      <td>0.105335</td>\n",
              "      <td>0.100807</td>\n",
              "      <td>0.109945</td>\n",
              "      <td>0.185768</td>\n",
              "      <td>0.766392</td>\n",
              "      <td>1.000000</td>\n",
              "      <td>-0.166193</td>\n",
              "      <td>0.003038</td>\n",
              "      <td>-0.145257</td>\n",
              "      <td>-0.280879</td>\n",
              "      <td>0.039446</td>\n",
              "    </tr>\n",
              "    <tr>\n",
              "      <th>WindHighMPH</th>\n",
              "      <td>0.012029</td>\n",
              "      <td>0.014119</td>\n",
              "      <td>0.015882</td>\n",
              "      <td>0.117151</td>\n",
              "      <td>0.054142</td>\n",
              "      <td>-0.013514</td>\n",
              "      <td>0.013986</td>\n",
              "      <td>0.024878</td>\n",
              "      <td>0.026541</td>\n",
              "      <td>0.066364</td>\n",
              "      <td>0.049770</td>\n",
              "      <td>0.038768</td>\n",
              "      <td>0.081895</td>\n",
              "      <td>-0.027450</td>\n",
              "      <td>-0.166193</td>\n",
              "      <td>1.000000</td>\n",
              "      <td>0.672828</td>\n",
              "      <td>0.930714</td>\n",
              "      <td>0.199703</td>\n",
              "      <td>-0.006832</td>\n",
              "    </tr>\n",
              "    <tr>\n",
              "      <th>WindAvgMPH</th>\n",
              "      <td>-0.009297</td>\n",
              "      <td>0.034267</td>\n",
              "      <td>0.076016</td>\n",
              "      <td>0.074983</td>\n",
              "      <td>0.038257</td>\n",
              "      <td>0.001407</td>\n",
              "      <td>-0.086840</td>\n",
              "      <td>-0.000472</td>\n",
              "      <td>0.058757</td>\n",
              "      <td>0.014496</td>\n",
              "      <td>-0.001322</td>\n",
              "      <td>0.002662</td>\n",
              "      <td>0.020734</td>\n",
              "      <td>0.026522</td>\n",
              "      <td>0.003038</td>\n",
              "      <td>0.672828</td>\n",
              "      <td>1.000000</td>\n",
              "      <td>0.690824</td>\n",
              "      <td>0.046470</td>\n",
              "      <td>0.008048</td>\n",
              "    </tr>\n",
              "    <tr>\n",
              "      <th>WindGustMPH</th>\n",
              "      <td>0.027676</td>\n",
              "      <td>0.026663</td>\n",
              "      <td>0.024319</td>\n",
              "      <td>0.125768</td>\n",
              "      <td>0.062522</td>\n",
              "      <td>-0.008039</td>\n",
              "      <td>0.004679</td>\n",
              "      <td>0.017390</td>\n",
              "      <td>0.023175</td>\n",
              "      <td>0.058675</td>\n",
              "      <td>0.043066</td>\n",
              "      <td>0.030183</td>\n",
              "      <td>0.082759</td>\n",
              "      <td>-0.008995</td>\n",
              "      <td>-0.145257</td>\n",
              "      <td>0.930714</td>\n",
              "      <td>0.690824</td>\n",
              "      <td>1.000000</td>\n",
              "      <td>0.155383</td>\n",
              "      <td>0.014579</td>\n",
              "    </tr>\n",
              "    <tr>\n",
              "      <th>PrecipitationSumInches</th>\n",
              "      <td>-0.040145</td>\n",
              "      <td>-0.006498</td>\n",
              "      <td>0.030472</td>\n",
              "      <td>0.101778</td>\n",
              "      <td>0.093984</td>\n",
              "      <td>0.096690</td>\n",
              "      <td>0.146984</td>\n",
              "      <td>0.247373</td>\n",
              "      <td>0.268836</td>\n",
              "      <td>-0.013192</td>\n",
              "      <td>-0.021332</td>\n",
              "      <td>-0.015919</td>\n",
              "      <td>0.017130</td>\n",
              "      <td>-0.270629</td>\n",
              "      <td>-0.280879</td>\n",
              "      <td>0.199703</td>\n",
              "      <td>0.046470</td>\n",
              "      <td>0.155383</td>\n",
              "      <td>1.000000</td>\n",
              "      <td>-0.028884</td>\n",
              "    </tr>\n",
              "    <tr>\n",
              "      <th>Year</th>\n",
              "      <td>0.123608</td>\n",
              "      <td>0.123498</td>\n",
              "      <td>0.117036</td>\n",
              "      <td>0.127251</td>\n",
              "      <td>0.132896</td>\n",
              "      <td>0.135333</td>\n",
              "      <td>0.041886</td>\n",
              "      <td>0.022695</td>\n",
              "      <td>0.000834</td>\n",
              "      <td>-0.019257</td>\n",
              "      <td>-0.012557</td>\n",
              "      <td>-0.008683</td>\n",
              "      <td>0.036212</td>\n",
              "      <td>0.054707</td>\n",
              "      <td>0.039446</td>\n",
              "      <td>-0.006832</td>\n",
              "      <td>0.008048</td>\n",
              "      <td>0.014579</td>\n",
              "      <td>-0.028884</td>\n",
              "      <td>1.000000</td>\n",
              "    </tr>\n",
              "  </tbody>\n",
              "</table>\n",
              "</div>\n",
              "      <button class=\"colab-df-convert\" onclick=\"convertToInteractive('df-01cfb935-121a-4aaa-b4f0-acf2ef8cf264')\"\n",
              "              title=\"Convert this dataframe to an interactive table.\"\n",
              "              style=\"display:none;\">\n",
              "        \n",
              "  <svg xmlns=\"http://www.w3.org/2000/svg\" height=\"24px\"viewBox=\"0 0 24 24\"\n",
              "       width=\"24px\">\n",
              "    <path d=\"M0 0h24v24H0V0z\" fill=\"none\"/>\n",
              "    <path d=\"M18.56 5.44l.94 2.06.94-2.06 2.06-.94-2.06-.94-.94-2.06-.94 2.06-2.06.94zm-11 1L8.5 8.5l.94-2.06 2.06-.94-2.06-.94L8.5 2.5l-.94 2.06-2.06.94zm10 10l.94 2.06.94-2.06 2.06-.94-2.06-.94-.94-2.06-.94 2.06-2.06.94z\"/><path d=\"M17.41 7.96l-1.37-1.37c-.4-.4-.92-.59-1.43-.59-.52 0-1.04.2-1.43.59L10.3 9.45l-7.72 7.72c-.78.78-.78 2.05 0 2.83L4 21.41c.39.39.9.59 1.41.59.51 0 1.02-.2 1.41-.59l7.78-7.78 2.81-2.81c.8-.78.8-2.07 0-2.86zM5.41 20L4 18.59l7.72-7.72 1.47 1.35L5.41 20z\"/>\n",
              "  </svg>\n",
              "      </button>\n",
              "      \n",
              "  <style>\n",
              "    .colab-df-container {\n",
              "      display:flex;\n",
              "      flex-wrap:wrap;\n",
              "      gap: 12px;\n",
              "    }\n",
              "\n",
              "    .colab-df-convert {\n",
              "      background-color: #E8F0FE;\n",
              "      border: none;\n",
              "      border-radius: 50%;\n",
              "      cursor: pointer;\n",
              "      display: none;\n",
              "      fill: #1967D2;\n",
              "      height: 32px;\n",
              "      padding: 0 0 0 0;\n",
              "      width: 32px;\n",
              "    }\n",
              "\n",
              "    .colab-df-convert:hover {\n",
              "      background-color: #E2EBFA;\n",
              "      box-shadow: 0px 1px 2px rgba(60, 64, 67, 0.3), 0px 1px 3px 1px rgba(60, 64, 67, 0.15);\n",
              "      fill: #174EA6;\n",
              "    }\n",
              "\n",
              "    [theme=dark] .colab-df-convert {\n",
              "      background-color: #3B4455;\n",
              "      fill: #D2E3FC;\n",
              "    }\n",
              "\n",
              "    [theme=dark] .colab-df-convert:hover {\n",
              "      background-color: #434B5C;\n",
              "      box-shadow: 0px 1px 3px 1px rgba(0, 0, 0, 0.15);\n",
              "      filter: drop-shadow(0px 1px 2px rgba(0, 0, 0, 0.3));\n",
              "      fill: #FFFFFF;\n",
              "    }\n",
              "  </style>\n",
              "\n",
              "      <script>\n",
              "        const buttonEl =\n",
              "          document.querySelector('#df-01cfb935-121a-4aaa-b4f0-acf2ef8cf264 button.colab-df-convert');\n",
              "        buttonEl.style.display =\n",
              "          google.colab.kernel.accessAllowed ? 'block' : 'none';\n",
              "\n",
              "        async function convertToInteractive(key) {\n",
              "          const element = document.querySelector('#df-01cfb935-121a-4aaa-b4f0-acf2ef8cf264');\n",
              "          const dataTable =\n",
              "            await google.colab.kernel.invokeFunction('convertToInteractive',\n",
              "                                                     [key], {});\n",
              "          if (!dataTable) return;\n",
              "\n",
              "          const docLinkHtml = 'Like what you see? Visit the ' +\n",
              "            '<a target=\"_blank\" href=https://colab.research.google.com/notebooks/data_table.ipynb>data table notebook</a>'\n",
              "            + ' to learn more about interactive tables.';\n",
              "          element.innerHTML = '';\n",
              "          dataTable['output_type'] = 'display_data';\n",
              "          await google.colab.output.renderOutput(dataTable, element);\n",
              "          const docLink = document.createElement('div');\n",
              "          docLink.innerHTML = docLinkHtml;\n",
              "          element.appendChild(docLink);\n",
              "        }\n",
              "      </script>\n",
              "    </div>\n",
              "  </div>\n",
              "  "
            ]
          },
          "metadata": {},
          "execution_count": 389
        }
      ],
      "source": [
        "df.corr()"
      ]
    },
    {
      "cell_type": "code",
      "execution_count": null,
      "metadata": {
        "id": "kkadl3mMuf7u",
        "colab": {
          "base_uri": "https://localhost:8080/"
        },
        "outputId": "fd991e9a-86ab-4996-cc67-15b8721805dd"
      },
      "outputs": [
        {
          "output_type": "stream",
          "name": "stdout",
          "text": [
            "            Date  TempHighF  TempAvgF  TempLowF  DewPointHighF  DewPointAvgF  \\\n",
            "0     2013-12-21         74        60        45             67            49   \n",
            "1     2013-12-22         56        48        39             43            36   \n",
            "2     2013-12-23         58        45        32             31            27   \n",
            "3     2013-12-24         61        46        31             36            28   \n",
            "4     2013-12-25         58        50        41             44            40   \n",
            "...          ...        ...       ...       ...            ...           ...   \n",
            "1314  2017-07-27        103        89        75             71            67   \n",
            "1315  2017-07-28        105        91        76             71            64   \n",
            "1316  2017-07-29        107        92        77             72            64   \n",
            "1317  2017-07-30        106        93        79             70            68   \n",
            "1318  2017-07-31         99        88        77             66            61   \n",
            "\n",
            "      DewPointLowF  HumidityHighPercent  HumidityAvgPercent  \\\n",
            "0               43                   93                  75   \n",
            "1               28                   93                  68   \n",
            "2               23                   76                  52   \n",
            "3               21                   89                  56   \n",
            "4               36                   86                  71   \n",
            "...            ...                  ...                 ...   \n",
            "1314            61                   82                  54   \n",
            "1315            55                   87                  54   \n",
            "1316            55                   82                  51   \n",
            "1317            63                   69                  48   \n",
            "1318            54                   64                  43   \n",
            "\n",
            "      HumidityLowPercent  ...  SeaLevelPressureLowInches  VisibilityHighMiles  \\\n",
            "0                     57  ...                         29                   10   \n",
            "1                     43  ...                         29                   10   \n",
            "2                     27  ...                         30                   10   \n",
            "3                     22  ...                         30                   10   \n",
            "4                     56  ...                         30                   10   \n",
            "...                  ...  ...                        ...                  ...   \n",
            "1314                  25  ...                         29                   10   \n",
            "1315                  20  ...                         29                   10   \n",
            "1316                  19  ...                         29                   10   \n",
            "1317                  27  ...                         29                   10   \n",
            "1318                  22  ...                         29                   10   \n",
            "\n",
            "      VisibilityAvgMiles  VisibilityLowMiles  WindHighMPH  WindAvgMPH  \\\n",
            "0                      7                   2           20           4   \n",
            "1                     10                   5           16           6   \n",
            "2                     10                  10            8           3   \n",
            "3                     10                   7           12           4   \n",
            "4                     10                   7           10           2   \n",
            "...                  ...                 ...          ...         ...   \n",
            "1314                  10                  10           12           5   \n",
            "1315                  10                  10           14           5   \n",
            "1316                  10                  10           12           4   \n",
            "1317                  10                  10           13           4   \n",
            "1318                  10                  10           12           4   \n",
            "\n",
            "      WindGustMPH  PrecipitationSumInches               Events  Year  \n",
            "0              31                       0  Rain , Thunderstorm  2013  \n",
            "1              25                       0                    0  2013  \n",
            "2              12                       0                    0  2013  \n",
            "3              20                       0                    0  2013  \n",
            "4              16                       0                    0  2013  \n",
            "...           ...                     ...                  ...   ...  \n",
            "1314           21                       0                    0  2017  \n",
            "1315           20                       0                    0  2017  \n",
            "1316           17                       0                    0  2017  \n",
            "1317           20                       0                    0  2017  \n",
            "1318           20                       0                    0  2017  \n",
            "\n",
            "[1319 rows x 22 columns]\n"
          ]
        }
      ],
      "source": [
        "from sklearn.impute import SimpleImputer\n",
        "mean_imputer = SimpleImputer(missing_values=0, strategy='mean', fill_value=None)\n",
        "print(df)"
      ]
    },
    {
      "cell_type": "markdown",
      "source": [
        "--------------------------------------------- list for all accuracy -----------------------------------------"
      ],
      "metadata": {
        "id": "tFOCFckvJe7n"
      }
    },
    {
      "cell_type": "code",
      "source": [
        "classiferList = [\"KNN\", \"Naive bayes\", \"K means\", \"Hierarchial\", \"Decision Tree\", \"Linear Regression\", \"Logistic regression\", \"SVM\", \"MLP\"]\n",
        "accuracyList = []\n",
        "\n",
        "acc_dict = {'KNN':0, \"Naive bayes\":0, \"Kmeans\":0, \"Hierarchial\":0, \"DecisionTree\":0, \"LinearRegression\":0, \"LogisticRegression\":0, \"SVM\":0,\"MLP\":0}"
      ],
      "metadata": {
        "id": "-iYnJgJLJcIj"
      },
      "execution_count": null,
      "outputs": []
    },
    {
      "cell_type": "markdown",
      "source": [
        "**lab2 ---------------------------------------------------------------KNN-----------------------------------------------------------------------------------------**"
      ],
      "metadata": {
        "id": "JhEmgPHpxHH7"
      }
    },
    {
      "cell_type": "markdown",
      "source": [
        "K-NN algorithm can be used for Classification as well as for Regression.\n",
        "It is used for Supervised Learning.\n",
        "<br>\n",
        "\n",
        "It classifies the data point on how its neighbor is classified"
      ],
      "metadata": {
        "id": "fnp0yc4RrCSK"
      }
    },
    {
      "cell_type": "code",
      "execution_count": null,
      "metadata": {
        "id": "kX9FjH4erUE7"
      },
      "outputs": [],
      "source": [
        "from sklearn.model_selection import train_test_split  \n",
        "from sklearn.preprocessing import StandardScaler \n",
        "from sklearn.metrics import classification_report, confusion_matrix, accuracy_score\n",
        "from sklearn.neighbors import KNeighborsClassifier\n",
        "from sklearn import metrics\n",
        "\n",
        "x = num_df.drop('Events',axis=1) #independant variables\n",
        "y = num_df['Events'] #dependant\n",
        "\n",
        "x_train, x_test, y_train, y_test= train_test_split(x, y, test_size= 0.25)  "
      ]
    },
    {
      "cell_type": "code",
      "execution_count": null,
      "metadata": {
        "id": "LtuEO5pdr-Xw",
        "colab": {
          "base_uri": "https://localhost:8080/"
        },
        "outputId": "70a46548-b3a2-47ff-8438-dcc3574eb36a"
      },
      "outputs": [
        {
          "output_type": "stream",
          "name": "stdout",
          "text": [
            "----------------------------------------K = 2 N =1\n",
            "Confusion Matrix:\n",
            "[[  1   0   0   0   0   0   0   3]\n",
            " [  0   0   0   2   0   1   0   0]\n",
            " [  0   0   2   3   0   1   0   0]\n",
            " [  1   0   1  19   0   6   0  24]\n",
            " [  0   0   0   0   0   0   0   1]\n",
            " [  0   0   3   4   0   9   0  13]\n",
            " [  0   0   0   0   0   0   0   3]\n",
            " [  1   0   0   5   0   4   0 223]]\n",
            "Classification Report:\n",
            "              precision    recall  f1-score   support\n",
            "\n",
            "           0       0.33      0.25      0.29         4\n",
            "           1       0.00      0.00      0.00         3\n",
            "           2       0.33      0.33      0.33         6\n",
            "           4       0.58      0.37      0.45        51\n",
            "           5       0.00      0.00      0.00         1\n",
            "           6       0.43      0.31      0.36        29\n",
            "           7       0.00      0.00      0.00         3\n",
            "           8       0.84      0.96      0.89       233\n",
            "\n",
            "    accuracy                           0.77       330\n",
            "   macro avg       0.31      0.28      0.29       330\n",
            "weighted avg       0.73      0.77      0.74       330\n",
            "\n",
            "Accuracy: 76.96969696969697\n",
            "----------------------------------------K = 2 N =2\n",
            "Confusion Matrix:\n",
            "[[  1   0   0   0   0   0   0   3]\n",
            " [  0   0   0   2   0   1   0   0]\n",
            " [  0   0   2   3   0   1   0   0]\n",
            " [  1   0   1  19   0   6   0  24]\n",
            " [  0   0   0   0   0   0   0   1]\n",
            " [  0   0   3   4   0   9   0  13]\n",
            " [  0   0   0   0   0   0   0   3]\n",
            " [  1   0   0   5   0   4   0 223]]\n",
            "Classification Report:\n",
            "              precision    recall  f1-score   support\n",
            "\n",
            "           0       0.33      0.25      0.29         4\n",
            "           1       0.00      0.00      0.00         3\n",
            "           2       0.33      0.33      0.33         6\n",
            "           4       0.58      0.37      0.45        51\n",
            "           5       0.00      0.00      0.00         1\n",
            "           6       0.43      0.31      0.36        29\n",
            "           7       0.00      0.00      0.00         3\n",
            "           8       0.84      0.96      0.89       233\n",
            "\n",
            "    accuracy                           0.77       330\n",
            "   macro avg       0.31      0.28      0.29       330\n",
            "weighted avg       0.73      0.77      0.74       330\n",
            "\n",
            "Accuracy: 76.96969696969697\n",
            "----------------------------------------K = 2 N =3\n",
            "Confusion Matrix:\n",
            "[[  1   0   0   0   0   0   0   3]\n",
            " [  0   0   0   2   0   1   0   0]\n",
            " [  0   0   2   3   0   1   0   0]\n",
            " [  1   0   1  19   0   6   0  24]\n",
            " [  0   0   0   0   0   0   0   1]\n",
            " [  0   0   3   4   0   9   0  13]\n",
            " [  0   0   0   0   0   0   0   3]\n",
            " [  1   0   0   5   0   4   0 223]]\n",
            "Classification Report:\n",
            "              precision    recall  f1-score   support\n",
            "\n",
            "           0       0.33      0.25      0.29         4\n",
            "           1       0.00      0.00      0.00         3\n",
            "           2       0.33      0.33      0.33         6\n",
            "           4       0.58      0.37      0.45        51\n",
            "           5       0.00      0.00      0.00         1\n",
            "           6       0.43      0.31      0.36        29\n",
            "           7       0.00      0.00      0.00         3\n",
            "           8       0.84      0.96      0.89       233\n",
            "\n",
            "    accuracy                           0.77       330\n",
            "   macro avg       0.31      0.28      0.29       330\n",
            "weighted avg       0.73      0.77      0.74       330\n",
            "\n",
            "Accuracy: 76.96969696969697\n",
            "----------------------------------------K = 3 N =1\n",
            "Confusion Matrix:\n",
            "[[  1   0   0   0   0   0   0   3]\n",
            " [  0   0   0   2   0   1   0   0]\n",
            " [  0   0   2   3   0   1   0   0]\n",
            " [  1   0   1  19   0   6   0  24]\n",
            " [  0   0   0   0   0   0   0   1]\n",
            " [  0   0   3   4   0   9   0  13]\n",
            " [  0   0   0   0   0   0   0   3]\n",
            " [  1   0   0   5   0   4   0 223]]\n",
            "Classification Report:\n",
            "              precision    recall  f1-score   support\n",
            "\n",
            "           0       0.33      0.25      0.29         4\n",
            "           1       0.00      0.00      0.00         3\n",
            "           2       0.33      0.33      0.33         6\n",
            "           4       0.58      0.37      0.45        51\n",
            "           5       0.00      0.00      0.00         1\n",
            "           6       0.43      0.31      0.36        29\n",
            "           7       0.00      0.00      0.00         3\n",
            "           8       0.84      0.96      0.89       233\n",
            "\n",
            "    accuracy                           0.77       330\n",
            "   macro avg       0.31      0.28      0.29       330\n",
            "weighted avg       0.73      0.77      0.74       330\n",
            "\n",
            "Accuracy: 76.96969696969697\n",
            "----------------------------------------K = 3 N =2\n",
            "Confusion Matrix:\n",
            "[[  1   0   0   0   0   0   0   3]\n",
            " [  0   0   0   2   0   1   0   0]\n",
            " [  0   0   2   3   0   1   0   0]\n",
            " [  1   0   1  19   0   6   0  24]\n",
            " [  0   0   0   0   0   0   0   1]\n",
            " [  0   0   3   4   0   9   0  13]\n",
            " [  0   0   0   0   0   0   0   3]\n",
            " [  1   0   0   5   0   4   0 223]]\n",
            "Classification Report:\n",
            "              precision    recall  f1-score   support\n",
            "\n",
            "           0       0.33      0.25      0.29         4\n",
            "           1       0.00      0.00      0.00         3\n",
            "           2       0.33      0.33      0.33         6\n",
            "           4       0.58      0.37      0.45        51\n",
            "           5       0.00      0.00      0.00         1\n",
            "           6       0.43      0.31      0.36        29\n",
            "           7       0.00      0.00      0.00         3\n",
            "           8       0.84      0.96      0.89       233\n",
            "\n",
            "    accuracy                           0.77       330\n",
            "   macro avg       0.31      0.28      0.29       330\n",
            "weighted avg       0.73      0.77      0.74       330\n",
            "\n",
            "Accuracy: 76.96969696969697\n",
            "----------------------------------------K = 3 N =3\n",
            "Confusion Matrix:\n",
            "[[  1   0   0   0   0   0   0   3]\n",
            " [  0   0   0   2   0   1   0   0]\n",
            " [  0   0   2   3   0   1   0   0]\n",
            " [  1   0   1  19   0   6   0  24]\n",
            " [  0   0   0   0   0   0   0   1]\n",
            " [  0   0   3   4   0   9   0  13]\n",
            " [  0   0   0   0   0   0   0   3]\n",
            " [  1   0   0   5   0   4   0 223]]\n",
            "Classification Report:\n",
            "              precision    recall  f1-score   support\n",
            "\n",
            "           0       0.33      0.25      0.29         4\n",
            "           1       0.00      0.00      0.00         3\n",
            "           2       0.33      0.33      0.33         6\n",
            "           4       0.58      0.37      0.45        51\n",
            "           5       0.00      0.00      0.00         1\n",
            "           6       0.43      0.31      0.36        29\n",
            "           7       0.00      0.00      0.00         3\n",
            "           8       0.84      0.96      0.89       233\n",
            "\n",
            "    accuracy                           0.77       330\n",
            "   macro avg       0.31      0.28      0.29       330\n",
            "weighted avg       0.73      0.77      0.74       330\n",
            "\n",
            "Accuracy: 76.96969696969697\n",
            "----------------------------------------K = 4 N =1\n",
            "Confusion Matrix:\n",
            "[[  1   0   0   0   0   0   0   3]\n",
            " [  0   0   0   2   0   1   0   0]\n",
            " [  0   0   2   3   0   1   0   0]\n",
            " [  1   0   1  19   0   6   0  24]\n",
            " [  0   0   0   0   0   0   0   1]\n",
            " [  0   0   3   4   0   9   0  13]\n",
            " [  0   0   0   0   0   0   0   3]\n",
            " [  1   0   0   5   0   4   0 223]]\n",
            "Classification Report:\n",
            "              precision    recall  f1-score   support\n",
            "\n",
            "           0       0.33      0.25      0.29         4\n",
            "           1       0.00      0.00      0.00         3\n",
            "           2       0.33      0.33      0.33         6\n",
            "           4       0.58      0.37      0.45        51\n",
            "           5       0.00      0.00      0.00         1\n",
            "           6       0.43      0.31      0.36        29\n",
            "           7       0.00      0.00      0.00         3\n",
            "           8       0.84      0.96      0.89       233\n",
            "\n",
            "    accuracy                           0.77       330\n",
            "   macro avg       0.31      0.28      0.29       330\n",
            "weighted avg       0.73      0.77      0.74       330\n",
            "\n",
            "Accuracy: 76.96969696969697\n",
            "----------------------------------------K = 4 N =2\n",
            "Confusion Matrix:\n",
            "[[  1   0   0   0   0   0   0   3]\n",
            " [  0   0   0   2   0   1   0   0]\n",
            " [  0   0   2   3   0   1   0   0]\n",
            " [  1   0   1  19   0   6   0  24]\n",
            " [  0   0   0   0   0   0   0   1]\n",
            " [  0   0   3   4   0   9   0  13]\n",
            " [  0   0   0   0   0   0   0   3]\n",
            " [  1   0   0   5   0   4   0 223]]\n",
            "Classification Report:\n",
            "              precision    recall  f1-score   support\n",
            "\n",
            "           0       0.33      0.25      0.29         4\n",
            "           1       0.00      0.00      0.00         3\n",
            "           2       0.33      0.33      0.33         6\n",
            "           4       0.58      0.37      0.45        51\n",
            "           5       0.00      0.00      0.00         1\n",
            "           6       0.43      0.31      0.36        29\n",
            "           7       0.00      0.00      0.00         3\n",
            "           8       0.84      0.96      0.89       233\n",
            "\n",
            "    accuracy                           0.77       330\n",
            "   macro avg       0.31      0.28      0.29       330\n",
            "weighted avg       0.73      0.77      0.74       330\n",
            "\n",
            "Accuracy: 76.96969696969697\n",
            "----------------------------------------K = 4 N =3\n",
            "Confusion Matrix:\n",
            "[[  1   0   0   0   0   0   0   3]\n",
            " [  0   0   0   2   0   1   0   0]\n",
            " [  0   0   2   3   0   1   0   0]\n",
            " [  1   0   1  19   0   6   0  24]\n",
            " [  0   0   0   0   0   0   0   1]\n",
            " [  0   0   3   4   0   9   0  13]\n",
            " [  0   0   0   0   0   0   0   3]\n",
            " [  1   0   0   5   0   4   0 223]]\n",
            "Classification Report:\n",
            "              precision    recall  f1-score   support\n",
            "\n",
            "           0       0.33      0.25      0.29         4\n",
            "           1       0.00      0.00      0.00         3\n",
            "           2       0.33      0.33      0.33         6\n",
            "           4       0.58      0.37      0.45        51\n",
            "           5       0.00      0.00      0.00         1\n",
            "           6       0.43      0.31      0.36        29\n",
            "           7       0.00      0.00      0.00         3\n",
            "           8       0.84      0.96      0.89       233\n",
            "\n",
            "    accuracy                           0.77       330\n",
            "   macro avg       0.31      0.28      0.29       330\n",
            "weighted avg       0.73      0.77      0.74       330\n",
            "\n",
            "Accuracy: 76.96969696969697\n",
            "----------------------------------------K = 5 N =1\n",
            "Confusion Matrix:\n",
            "[[  1   0   0   0   0   0   0   3]\n",
            " [  0   0   0   2   0   1   0   0]\n",
            " [  0   0   2   3   0   1   0   0]\n",
            " [  1   0   1  19   0   6   0  24]\n",
            " [  0   0   0   0   0   0   0   1]\n",
            " [  0   0   3   4   0   9   0  13]\n",
            " [  0   0   0   0   0   0   0   3]\n",
            " [  1   0   0   5   0   4   0 223]]\n",
            "Classification Report:\n",
            "              precision    recall  f1-score   support\n",
            "\n",
            "           0       0.33      0.25      0.29         4\n",
            "           1       0.00      0.00      0.00         3\n",
            "           2       0.33      0.33      0.33         6\n",
            "           4       0.58      0.37      0.45        51\n",
            "           5       0.00      0.00      0.00         1\n",
            "           6       0.43      0.31      0.36        29\n",
            "           7       0.00      0.00      0.00         3\n",
            "           8       0.84      0.96      0.89       233\n",
            "\n",
            "    accuracy                           0.77       330\n",
            "   macro avg       0.31      0.28      0.29       330\n",
            "weighted avg       0.73      0.77      0.74       330\n",
            "\n",
            "Accuracy: 76.96969696969697\n",
            "----------------------------------------K = 5 N =2\n",
            "Confusion Matrix:\n",
            "[[  1   0   0   0   0   0   0   3]\n",
            " [  0   0   0   2   0   1   0   0]\n",
            " [  0   0   2   3   0   1   0   0]\n",
            " [  1   0   1  19   0   6   0  24]\n",
            " [  0   0   0   0   0   0   0   1]\n",
            " [  0   0   3   4   0   9   0  13]\n",
            " [  0   0   0   0   0   0   0   3]\n",
            " [  1   0   0   5   0   4   0 223]]\n",
            "Classification Report:\n",
            "              precision    recall  f1-score   support\n",
            "\n",
            "           0       0.33      0.25      0.29         4\n",
            "           1       0.00      0.00      0.00         3\n",
            "           2       0.33      0.33      0.33         6\n",
            "           4       0.58      0.37      0.45        51\n",
            "           5       0.00      0.00      0.00         1\n",
            "           6       0.43      0.31      0.36        29\n",
            "           7       0.00      0.00      0.00         3\n",
            "           8       0.84      0.96      0.89       233\n",
            "\n",
            "    accuracy                           0.77       330\n",
            "   macro avg       0.31      0.28      0.29       330\n",
            "weighted avg       0.73      0.77      0.74       330\n",
            "\n",
            "Accuracy: 76.96969696969697\n",
            "----------------------------------------K = 5 N =3\n",
            "Confusion Matrix:\n",
            "[[  1   0   0   0   0   0   0   3]\n",
            " [  0   0   0   2   0   1   0   0]\n",
            " [  0   0   2   3   0   1   0   0]\n",
            " [  1   0   1  19   0   6   0  24]\n",
            " [  0   0   0   0   0   0   0   1]\n",
            " [  0   0   3   4   0   9   0  13]\n",
            " [  0   0   0   0   0   0   0   3]\n",
            " [  1   0   0   5   0   4   0 223]]\n",
            "Classification Report:\n",
            "              precision    recall  f1-score   support\n",
            "\n",
            "           0       0.33      0.25      0.29         4\n",
            "           1       0.00      0.00      0.00         3\n",
            "           2       0.33      0.33      0.33         6\n",
            "           4       0.58      0.37      0.45        51\n",
            "           5       0.00      0.00      0.00         1\n",
            "           6       0.43      0.31      0.36        29\n",
            "           7       0.00      0.00      0.00         3\n",
            "           8       0.84      0.96      0.89       233\n",
            "\n",
            "    accuracy                           0.77       330\n",
            "   macro avg       0.31      0.28      0.29       330\n",
            "weighted avg       0.73      0.77      0.74       330\n",
            "\n",
            "Accuracy: 76.96969696969697\n",
            "----------------------------------------K = 6 N =1\n",
            "Confusion Matrix:\n",
            "[[  1   0   0   0   0   0   0   3]\n",
            " [  0   0   0   2   0   1   0   0]\n",
            " [  0   0   2   3   0   1   0   0]\n",
            " [  1   0   1  19   0   6   0  24]\n",
            " [  0   0   0   0   0   0   0   1]\n",
            " [  0   0   3   4   0   9   0  13]\n",
            " [  0   0   0   0   0   0   0   3]\n",
            " [  1   0   0   5   0   4   0 223]]\n",
            "Classification Report:\n",
            "              precision    recall  f1-score   support\n",
            "\n",
            "           0       0.33      0.25      0.29         4\n",
            "           1       0.00      0.00      0.00         3\n",
            "           2       0.33      0.33      0.33         6\n",
            "           4       0.58      0.37      0.45        51\n",
            "           5       0.00      0.00      0.00         1\n",
            "           6       0.43      0.31      0.36        29\n",
            "           7       0.00      0.00      0.00         3\n",
            "           8       0.84      0.96      0.89       233\n",
            "\n",
            "    accuracy                           0.77       330\n",
            "   macro avg       0.31      0.28      0.29       330\n",
            "weighted avg       0.73      0.77      0.74       330\n",
            "\n",
            "Accuracy: 76.96969696969697\n",
            "----------------------------------------K = 6 N =2\n",
            "Confusion Matrix:\n",
            "[[  1   0   0   0   0   0   0   3]\n",
            " [  0   0   0   2   0   1   0   0]\n",
            " [  0   0   2   3   0   1   0   0]\n",
            " [  1   0   1  19   0   6   0  24]\n",
            " [  0   0   0   0   0   0   0   1]\n",
            " [  0   0   3   4   0   9   0  13]\n",
            " [  0   0   0   0   0   0   0   3]\n",
            " [  1   0   0   5   0   4   0 223]]\n",
            "Classification Report:\n",
            "              precision    recall  f1-score   support\n",
            "\n",
            "           0       0.33      0.25      0.29         4\n",
            "           1       0.00      0.00      0.00         3\n",
            "           2       0.33      0.33      0.33         6\n",
            "           4       0.58      0.37      0.45        51\n",
            "           5       0.00      0.00      0.00         1\n",
            "           6       0.43      0.31      0.36        29\n",
            "           7       0.00      0.00      0.00         3\n",
            "           8       0.84      0.96      0.89       233\n",
            "\n",
            "    accuracy                           0.77       330\n",
            "   macro avg       0.31      0.28      0.29       330\n",
            "weighted avg       0.73      0.77      0.74       330\n",
            "\n",
            "Accuracy: 76.96969696969697\n",
            "----------------------------------------K = 6 N =3\n",
            "Confusion Matrix:\n",
            "[[  1   0   0   0   0   0   0   3]\n",
            " [  0   0   0   2   0   1   0   0]\n",
            " [  0   0   2   3   0   1   0   0]\n",
            " [  1   0   1  19   0   6   0  24]\n",
            " [  0   0   0   0   0   0   0   1]\n",
            " [  0   0   3   4   0   9   0  13]\n",
            " [  0   0   0   0   0   0   0   3]\n",
            " [  1   0   0   5   0   4   0 223]]\n",
            "Classification Report:\n",
            "              precision    recall  f1-score   support\n",
            "\n",
            "           0       0.33      0.25      0.29         4\n",
            "           1       0.00      0.00      0.00         3\n",
            "           2       0.33      0.33      0.33         6\n",
            "           4       0.58      0.37      0.45        51\n",
            "           5       0.00      0.00      0.00         1\n",
            "           6       0.43      0.31      0.36        29\n",
            "           7       0.00      0.00      0.00         3\n",
            "           8       0.84      0.96      0.89       233\n",
            "\n",
            "    accuracy                           0.77       330\n",
            "   macro avg       0.31      0.28      0.29       330\n",
            "weighted avg       0.73      0.77      0.74       330\n",
            "\n",
            "Accuracy: 76.96969696969697\n"
          ]
        }
      ],
      "source": [
        "#here we have given k values from 2 to 6 and n= 1, 2, 3\n",
        "for i in range(2,7):\n",
        "  for n in range(1,4):\n",
        "    print(\"----------------------------------------K = \"+str(i)+\" N =\"+str(n))\n",
        "    classifier= KNeighborsClassifier(n_neighbors=5, p=1)  \n",
        "    classifier.fit(x_train, y_train) \n",
        "    y_pred = classifier.predict(x_test)\n",
        "\n",
        "\n",
        "    result = confusion_matrix(y_test, y_pred)\n",
        "    print(\"Confusion Matrix:\")\n",
        "    print(result)\n",
        "    result1 = classification_report(y_test, y_pred)\n",
        "    print(\"Classification Report:\",)\n",
        "    print (result1)\n",
        "    result2 = accuracy_score(y_test,y_pred)\n",
        "    print(\"Accuracy:\",result2*100)\n",
        "    "
      ]
    },
    {
      "cell_type": "code",
      "source": [
        "classifier = KNeighborsClassifier(n_neighbors=5,p=2)\n",
        "classifier.fit(x_train, y_train)\n",
        "y_pred = classifier.predict(x_test)\n",
        "\n",
        "print(classification_report(y_test, y_pred))\n",
        "print(confusion_matrix(y_test,y_pred))\n",
        "acc_score = accuracy_score(y_pred,y_test) \n",
        "print(\"Accuracy score\",acc_score)\n",
        "acc_dict['KNN']=round(acc_score,3)\n",
        "print(acc_dict)"
      ],
      "metadata": {
        "colab": {
          "base_uri": "https://localhost:8080/"
        },
        "id": "q6Tf6WmzJ3gm",
        "outputId": "bf773e36-86a2-46f5-ec4f-e7088dbb8ffc"
      },
      "execution_count": null,
      "outputs": [
        {
          "output_type": "stream",
          "name": "stdout",
          "text": [
            "              precision    recall  f1-score   support\n",
            "\n",
            "           0       0.17      0.25      0.20         4\n",
            "           1       0.00      0.00      0.00         3\n",
            "           2       0.12      0.17      0.14         6\n",
            "           4       0.51      0.37      0.43        51\n",
            "           5       0.00      0.00      0.00         1\n",
            "           6       0.37      0.24      0.29        29\n",
            "           7       0.00      0.00      0.00         3\n",
            "           8       0.85      0.94      0.89       233\n",
            "\n",
            "    accuracy                           0.75       330\n",
            "   macro avg       0.25      0.25      0.24       330\n",
            "weighted avg       0.71      0.75      0.73       330\n",
            "\n",
            "[[  1   0   0   0   0   0   0   3]\n",
            " [  0   0   0   2   0   1   0   0]\n",
            " [  0   0   1   5   0   0   0   0]\n",
            " [  2   0   2  19   0   7   0  21]\n",
            " [  0   0   0   0   0   0   0   1]\n",
            " [  1   0   5   4   0   7   0  12]\n",
            " [  0   0   0   0   0   0   0   3]\n",
            " [  2   0   0   7   0   4   0 220]]\n",
            "Accuracy score 0.7515151515151515\n",
            "{'KNN': 0.752, 'Naive bayes': 0, 'Kmeans': 0, 'Hierarchial': 0, 'DecisionTree': 0, 'LinearRegression': 0, 'LogisticRegression': 0, 'SVM': 0, 'MLP': 0}\n"
          ]
        }
      ]
    },
    {
      "cell_type": "markdown",
      "source": [
        "**lab3 --------------------------------------------------------------Naive Bayes-------------------------------------------------------------------------------**"
      ],
      "metadata": {
        "id": "X_d_kqAV3RgR"
      }
    },
    {
      "cell_type": "markdown",
      "source": [
        "It is a probabilistic classifier for supervised learning which means it predicts on the basis of the probability of an object."
      ],
      "metadata": {
        "id": "hsDIvsvaG6DV"
      }
    },
    {
      "cell_type": "code",
      "source": [
        "x = num_df.drop('Events',axis=1) #independant variables\n",
        "y = num_df['Events'] #dependant\n",
        "\n",
        "x_train, x_test, y_train, y_test= train_test_split(x, y, test_size= 0.25)  \n",
        "\n",
        "\n",
        "# train a Gaussian Naive Bayes classifier on the training set\n",
        "from sklearn.naive_bayes import GaussianNB\n",
        "\n",
        "# instantiate the model\n",
        "gnb = GaussianNB()\n",
        "\n",
        "# fit the model\n",
        "gnb.fit(x_train, y_train)"
      ],
      "metadata": {
        "colab": {
          "base_uri": "https://localhost:8080/"
        },
        "id": "2FHivJt_3MBA",
        "outputId": "69516a2a-be12-4118-a21a-c684c70fb6cb"
      },
      "execution_count": null,
      "outputs": [
        {
          "output_type": "execute_result",
          "data": {
            "text/plain": [
              "GaussianNB()"
            ]
          },
          "metadata": {},
          "execution_count": 395
        }
      ]
    },
    {
      "cell_type": "code",
      "source": [
        "# predicting the values\n",
        "y_pred = gnb.predict(x_test)\n",
        "y_pred"
      ],
      "metadata": {
        "colab": {
          "base_uri": "https://localhost:8080/"
        },
        "id": "aXAt_g5q3V5G",
        "outputId": "02d0f7db-a360-4065-de86-fbd5e2be9282"
      },
      "execution_count": null,
      "outputs": [
        {
          "output_type": "execute_result",
          "data": {
            "text/plain": [
              "array([7, 6, 8, 7, 8, 7, 7, 7, 6, 7, 8, 0, 7, 2, 6, 7, 1, 8, 7, 8, 7, 8,\n",
              "       7, 8, 4, 4, 4, 8, 8, 8, 7, 7, 8, 6, 7, 7, 8, 8, 8, 7, 8, 0, 7, 7,\n",
              "       8, 7, 2, 7, 7, 8, 7, 6, 7, 7, 7, 8, 0, 7, 8, 7, 7, 6, 6, 7, 7, 8,\n",
              "       7, 8, 6, 7, 7, 6, 7, 8, 7, 7, 7, 7, 7, 6, 2, 0, 7, 7, 7, 7, 4, 7,\n",
              "       7, 7, 7, 7, 6, 6, 7, 7, 8, 7, 7, 7, 7, 7, 8, 7, 7, 8, 7, 7, 8, 2,\n",
              "       7, 7, 7, 8, 7, 6, 7, 7, 8, 7, 7, 7, 8, 8, 6, 7, 7, 0, 7, 7, 4, 7,\n",
              "       7, 7, 8, 7, 7, 8, 7, 7, 7, 7, 8, 7, 8, 0, 6, 1, 7, 8, 7, 6, 8, 7,\n",
              "       8, 7, 7, 7, 7, 0, 8, 6, 8, 7, 7, 7, 7, 8, 8, 2, 8, 7, 8, 6, 8, 4,\n",
              "       6, 7, 7, 8, 8, 8, 7, 8, 7, 8, 8, 8, 8, 7, 4, 7, 7, 8, 7, 7, 8, 7,\n",
              "       8, 7, 7, 7, 8, 7, 8, 8, 2, 7, 6, 7, 7, 8, 7, 7, 7, 7, 6, 1, 8, 7,\n",
              "       7, 0, 7, 7, 7, 4, 6, 8, 8, 8, 7, 7, 7, 7, 7, 2, 8, 8, 7, 8, 0, 0,\n",
              "       4, 7, 8, 8, 7, 8, 7, 7, 7, 7, 7, 4, 6, 8, 7, 6, 4, 7, 7, 8, 6, 7,\n",
              "       7, 7, 6, 7, 7, 7, 7, 7, 8, 7, 6, 7, 7, 0, 7, 7, 8, 7, 7, 8, 8, 7,\n",
              "       7, 8, 8, 7, 7, 7, 7, 7, 8, 6, 7, 7, 0, 8, 2, 8, 8, 8, 7, 7, 7, 7,\n",
              "       7, 8, 7, 8, 7, 8, 7, 8, 7, 6, 7, 4, 7, 7, 7, 7, 8, 7, 8, 6, 8, 7])"
            ]
          },
          "metadata": {},
          "execution_count": 396
        }
      ]
    },
    {
      "cell_type": "code",
      "source": [
        "y_pred_train = gnb.predict(x_train)\n",
        "print('Training-set accuracy score: {0:0.4f}'. format(accuracy_score(y_train, y_pred_train)))"
      ],
      "metadata": {
        "colab": {
          "base_uri": "https://localhost:8080/"
        },
        "id": "trEwwl7F3aVA",
        "outputId": "4113366d-1796-481d-bcdd-fb6f3d67cf14"
      },
      "execution_count": null,
      "outputs": [
        {
          "output_type": "stream",
          "name": "stdout",
          "text": [
            "Training-set accuracy score: 0.3539\n"
          ]
        }
      ]
    },
    {
      "cell_type": "code",
      "source": [
        "# print the scores on training and test set to check over fitting and underfitting\n",
        "\n",
        "print('Training set score: {:.4f}'.format(gnb.score(x_train, y_train)))\n",
        "print('Test set score: {:.4f}'.format(gnb.score(x_test, y_test)))"
      ],
      "metadata": {
        "colab": {
          "base_uri": "https://localhost:8080/"
        },
        "id": "C0zfpcvu3cZj",
        "outputId": "b9c30b59-f755-44af-d2c6-cde4d15b3bb5"
      },
      "execution_count": null,
      "outputs": [
        {
          "output_type": "stream",
          "name": "stdout",
          "text": [
            "Training set score: 0.3539\n",
            "Test set score: 0.3455\n"
          ]
        }
      ]
    },
    {
      "cell_type": "code",
      "source": [
        "from pandas.core.dtypes.cast import maybe_box_native\n",
        "# import warnings filter\n",
        "from warnings import simplefilter\n",
        "# ignore all future warnings\n",
        "simplefilter(action='ignore', category=FutureWarning)\n",
        "\n",
        "max_acc = max_k = max_n = 0\n",
        "for k in range(2,7):\n",
        "  for n in range(1,4):\n",
        "    classifier = KNeighborsClassifier(n_neighbors=k,p=n)\n",
        "    classifier.fit(x_train, y_train)\n",
        "    y_pred = classifier.predict(x_test)\n",
        "    accuracy = metrics.accuracy_score(y_test, y_pred)\n",
        "\n",
        "    if accuracy > max_acc:\n",
        "      max_acc = accuracy\n",
        "      max_k = k\n",
        "      max_n = n\n",
        "\n",
        "if max_n == 1:\n",
        "  distance_metric = \"manhattan\"\n",
        "elif max_n == 2:\n",
        "  distance_metric = \"euclidean\"\n",
        "elif max_n == 3:\n",
        "  distance_metric = \"minkowsky\"\n",
        "\n",
        "\n",
        "print(\"--------------------------MAX ACCURACY AMONG KNN CLASSIFIER--------------------------------- \")\n",
        "print(\"Max accuracy                             : \",max_acc*100)\n",
        "print(\"Distance Metric                          : \",distance_metric)\n",
        "print(\"N Distance measurement                   : \",max_n)\n",
        "print(\"K number of neighbours for max accuracy  : \",max_k)"
      ],
      "metadata": {
        "colab": {
          "base_uri": "https://localhost:8080/"
        },
        "id": "G-6eGgbP3jFC",
        "outputId": "b995720c-6c89-441e-dae9-90dddc621d83"
      },
      "execution_count": null,
      "outputs": [
        {
          "output_type": "stream",
          "name": "stdout",
          "text": [
            "--------------------------MAX ACCURACY AMONG KNN CLASSIFIER--------------------------------- \n",
            "Max accuracy                             :  75.75757575757575\n",
            "Distance Metric                          :  minkowsky\n",
            "N Distance measurement                   :  3\n",
            "K number of neighbours for max accuracy  :  5\n"
          ]
        }
      ]
    },
    {
      "cell_type": "code",
      "source": [
        "acc_score = accuracy_score(y_pred,y_test) \n",
        "print(\"Accuracy score\",acc_score)\n",
        "acc_dict[\"Naive bayes\"] =round(acc_score,3)\n",
        "print(acc_dict)"
      ],
      "metadata": {
        "colab": {
          "base_uri": "https://localhost:8080/"
        },
        "id": "GN1DxI5MKHi6",
        "outputId": "f1f1d3c0-44d2-4f90-e2e0-c38e448f5b07"
      },
      "execution_count": null,
      "outputs": [
        {
          "output_type": "stream",
          "name": "stdout",
          "text": [
            "Accuracy score 0.7484848484848485\n",
            "{'KNN': 0.752, 'Naive bayes': 0.748, 'Kmeans': 0, 'Hierarchial': 0, 'DecisionTree': 0, 'LinearRegression': 0, 'LogisticRegression': 0, 'SVM': 0, 'MLP': 0}\n"
          ]
        }
      ]
    },
    {
      "cell_type": "markdown",
      "source": [
        "**lab4 ----------------------------------------------------------K Means clustering -----------------------------------------------------------------------**"
      ],
      "metadata": {
        "id": "iF8vyLOc5NM8"
      }
    },
    {
      "cell_type": "markdown",
      "source": [
        "K-Means Clustering is an Unsupervised Learning algorithm, which groups the unlabeled dataset into different clusters. Here K defines the number of pre-defined clusters that need to be created in the process, as if K=2, there will be two clusters, and for K=3, there will be three clusters, and so on."
      ],
      "metadata": {
        "id": "YW1ZeNzQG0q0"
      }
    },
    {
      "cell_type": "code",
      "source": [
        "x = num_df.drop('Events',axis=1) #independant variables\n",
        "y = num_df['Events'] #dependant\n",
        "\n",
        "x_train, x_test, y_train, y_test= train_test_split(x, y, test_size= 0.25)  \n",
        "\n",
        "#finding optimal number of clusters using the elbow method  \n",
        "from sklearn.cluster import KMeans  \n",
        "wcss_list= []  #Initializing the list for the values of WCSS  \n",
        "  \n",
        "#Using for loop for iterations from 1 to 6.  \n",
        "for i in range(1, 7):  \n",
        "    kmeans = KMeans(n_clusters=i, init='k-means++', random_state= 42)  \n",
        "    kmeans.fit(x)  \n",
        "    wcss_list.append(kmeans.inertia_)  \n",
        "plt.plot(range(1, 7), wcss_list)  \n",
        "plt.title('The Elobw Method Graph')  \n",
        "plt.xlabel('Number of clusters(k)')  \n",
        "plt.ylabel('wcss_list')  \n",
        "plt.show()  "
      ],
      "metadata": {
        "colab": {
          "base_uri": "https://localhost:8080/",
          "height": 295
        },
        "id": "fReKWe4f5RY9",
        "outputId": "c6a5da16-8ab7-4569-d7f0-c23c3fa0fe34"
      },
      "execution_count": null,
      "outputs": [
        {
          "output_type": "display_data",
          "data": {
            "text/plain": [
              "<Figure size 432x288 with 1 Axes>"
            ],
            "image/png": "[encoded data removed]"
          },
          "metadata": {
            "needs_background": "light"
          }
        }
      ]
    },
    {
      "cell_type": "markdown",
      "source": [
        "We have used lineplot to depict the best clusters by setting different number of cluster to the naive bayes classifier, hence finding the optimal clusters using the WCSS value obtained during each classification. <br>\n",
        "From this graph we can infer that the optimal cluster value is 3 as the slope becomes normal"
      ],
      "metadata": {
        "id": "wLpg7EUWE_nR"
      }
    },
    {
      "cell_type": "code",
      "source": [
        "#training the K-means model on a dataset  \n",
        "kmeans = KMeans(n_clusters=6, init='k-means++', random_state= 42)  \n",
        "y_predict= kmeans.fit_predict(x)  "
      ],
      "metadata": {
        "id": "DRdyVjaX5Uk-"
      },
      "execution_count": null,
      "outputs": []
    },
    {
      "cell_type": "code",
      "source": [
        "y_predict"
      ],
      "metadata": {
        "colab": {
          "base_uri": "https://localhost:8080/"
        },
        "id": "JrW7dvSY5XRn",
        "outputId": "29645c9e-674c-4cc9-a140-54ce53c60752"
      },
      "execution_count": null,
      "outputs": [
        {
          "output_type": "execute_result",
          "data": {
            "text/plain": [
              "array([1, 4, 4, ..., 0, 0, 0], dtype=int32)"
            ]
          },
          "metadata": {},
          "execution_count": 403
        }
      ]
    },
    {
      "cell_type": "code",
      "source": [
        "kmeans = KMeans(n_clusters=5, random_state=0) \n",
        "\n",
        "kmeans.fit(x)\n",
        "y_pred = kmeans.predict(x)\n",
        "\n",
        "kmeans.cluster_centers_\n",
        "kmeans.inertia_\n",
        "\n",
        "labels = kmeans.labels_\n",
        "correct_labels = sum(y == labels)\n",
        "acc_score = correct_labels/float(y.size)\n",
        "print(\"Result: %d out of %d samples were correctly labeled.\" % (correct_labels, y.size))\n",
        "print('Accuracy score: {0:0.2f}'. format(acc_score))\n",
        "acc_dict['Kmeans']=round(acc_score,3)\n",
        "print(acc_dict)"
      ],
      "metadata": {
        "colab": {
          "base_uri": "https://localhost:8080/"
        },
        "id": "EBGRE13aKJwP",
        "outputId": "14092a6e-6a77-4905-838d-aad1d4ff6b07"
      },
      "execution_count": null,
      "outputs": [
        {
          "output_type": "stream",
          "name": "stdout",
          "text": [
            "Result: 87 out of 1319 samples were correctly labeled.\n",
            "Accuracy score: 0.07\n",
            "{'KNN': 0.752, 'Naive bayes': 0.748, 'Kmeans': 0.066, 'Hierarchial': 0, 'DecisionTree': 0, 'LinearRegression': 0, 'LogisticRegression': 0, 'SVM': 0, 'MLP': 0}\n"
          ]
        }
      ]
    },
    {
      "cell_type": "markdown",
      "source": [
        "**lab5 -----------------------------------------------------------Hierarchial clustering -----------------------------------------------------------------------**"
      ],
      "metadata": {
        "id": "PlzwKG7V46px"
      }
    },
    {
      "cell_type": "markdown",
      "source": [
        "Hierarchical clustering is another unsupervised machine learning algorithm, which is used to group the unlabeled datasets into a cluster and also known as hierarchical cluster analysis "
      ],
      "metadata": {
        "id": "LosBZjgbGmvZ"
      }
    },
    {
      "cell_type": "code",
      "source": [
        "X= num_df.drop('Events',axis=1) #independant variables\n",
        "y = num_df['Events'] #dependant\n"
      ],
      "metadata": {
        "id": "Id1k7LpL37Dv"
      },
      "execution_count": null,
      "outputs": []
    },
    {
      "cell_type": "code",
      "source": [
        "import scipy.cluster.hierarchy as sch\n",
        "dendogram = sch.dendrogram(sch.linkage(X, method= 'ward', metric= 'euclidean'))"
      ],
      "metadata": {
        "id": "F2xrdvm3yeAP",
        "colab": {
          "base_uri": "https://localhost:8080/",
          "height": 268
        },
        "outputId": "a28aaa6a-3a69-4be1-f578-c4f402523f0b"
      },
      "execution_count": null,
      "outputs": [
        {
          "output_type": "display_data",
          "data": {
            "text/plain": [
              "<Figure size 432x288 with 1 Axes>"
            ],
            "image/png": "[encoded data removed]"
          },
          "metadata": {
            "needs_background": "light"
          }
        }
      ]
    },
    {
      "cell_type": "markdown",
      "source": [
        "We can clearly visualize the steps of hierarchical clustering. More the distance of the vertical lines in the dendrogram, more the distance between those clusters.\n",
        "\n",
        "Now, we can set a threshold distance and draw a horizontal line (Generally, we try to set the threshold in such a way that it cuts the tallest vertical line).\n",
        "<br> we can see that there are 2 prominent clusters forming."
      ],
      "metadata": {
        "id": "_XjOiHFtEvK-"
      }
    },
    {
      "cell_type": "code",
      "source": [
        "from sklearn.cluster import AgglomerativeClustering  \n",
        "hc= AgglomerativeClustering(n_clusters=2, affinity='euclidean', linkage='ward')\n",
        "X_D = hc.fit(X)\n",
        "y_pred= hc.fit_predict(X)  \n",
        "# print the class labels\n",
        "print(hc.labels_)"
      ],
      "metadata": {
        "id": "42EuIiLFynPB",
        "colab": {
          "base_uri": "https://localhost:8080/"
        },
        "outputId": "87af008a-d0db-4ba7-ade2-fc203f252cbb"
      },
      "execution_count": null,
      "outputs": [
        {
          "output_type": "stream",
          "name": "stdout",
          "text": [
            "[1 1 1 ... 0 0 0]\n"
          ]
        }
      ]
    },
    {
      "cell_type": "code",
      "source": [
        "acc_score = accuracy_score(y,y_pred)\n",
        "acc_dict['Hierarchial']=round(acc_score,3)\n",
        "print(acc_dict)"
      ],
      "metadata": {
        "id": "fPIjLCvEKbry",
        "colab": {
          "base_uri": "https://localhost:8080/"
        },
        "outputId": "7ae06464-f921-493b-b64d-9850ff284a1c"
      },
      "execution_count": null,
      "outputs": [
        {
          "output_type": "stream",
          "name": "stdout",
          "text": [
            "{'KNN': 0.752, 'Naive bayes': 0.748, 'Kmeans': 0.066, 'Hierarchial': 0.008, 'DecisionTree': 0, 'LinearRegression': 0, 'LogisticRegression': 0, 'SVM': 0, 'MLP': 0}\n"
          ]
        }
      ]
    },
    {
      "cell_type": "code",
      "source": [
        "plt.figure(figsize=(10, 7))  \n",
        "plt.scatter(num_df['TempHighF'], num_df['Events']) \n",
        "plt.xlabel(\"TempHighF\")\n",
        "plt.ylabel(\"Events\")"
      ],
      "metadata": {
        "id": "gg_q95JpyoAy",
        "colab": {
          "base_uri": "https://localhost:8080/",
          "height": 460
        },
        "outputId": "d57e22d2-507c-4bad-aa8a-62c829b33edc"
      },
      "execution_count": null,
      "outputs": [
        {
          "output_type": "execute_result",
          "data": {
            "text/plain": [
              "Text(0, 0.5, 'Events')"
            ]
          },
          "metadata": {},
          "execution_count": 409
        },
        {
          "output_type": "display_data",
          "data": {
            "text/plain": [
              "<Figure size 720x504 with 1 Axes>"
            ],
            "image/png": "[encoded data removed]"
          },
          "metadata": {
            "needs_background": "light"
          }
        }
      ]
    },
    {
      "cell_type": "markdown",
      "source": [
        "Scatter plot for a categorical dataset hence we have got the samples in horizontal lines."
      ],
      "metadata": {
        "id": "JQONJLI3EXGJ"
      }
    },
    {
      "cell_type": "markdown",
      "source": [
        "**K means VS Hierarchical**\n",
        "\n",
        "k means\n",
        "you should have prior knowledge about the k\n",
        "\n",
        "\n",
        "---\n",
        "\n",
        "\n",
        "each data will belong exactly one subset\n",
        "\n",
        "\n",
        "---\n",
        "\n",
        "\n",
        "**hierarchical**\n",
        "no need of k values\n",
        "\n",
        "\n",
        "---\n",
        "\n",
        "\n",
        "It is a set of nested clusters that are arranged as a tree."
      ],
      "metadata": {
        "id": "k9pEWA0Ay1o0"
      }
    },
    {
      "cell_type": "markdown",
      "source": [
        "**lab6 ----------------------------------------------Decision Tree & Linear Regression-------------------------------------------------------------------**"
      ],
      "metadata": {
        "id": "NG-XxHWK55BM"
      }
    },
    {
      "cell_type": "markdown",
      "source": [
        "It is a tree-structured classifier, where internal nodes represent the features of a dataset, branches represent the decision rules and each leaf node represents the outcome."
      ],
      "metadata": {
        "id": "fZO8QpcPGZyM"
      }
    },
    {
      "cell_type": "code",
      "source": [
        "# importing the sklearn library\n",
        "from sklearn.metrics import accuracy_score\n",
        "from sklearn.model_selection import train_test_split  \n",
        "from sklearn.preprocessing import StandardScaler \n",
        "from sklearn.metrics import classification_report, confusion_matrix, accuracy_score\n",
        "from sklearn.tree import DecisionTreeClassifier"
      ],
      "metadata": {
        "id": "pL0dix6JBQd8"
      },
      "execution_count": null,
      "outputs": []
    },
    {
      "cell_type": "code",
      "source": [
        "# getting the x(dataset excluding the class attribute) and y(class attribute) dataset from class data set\n",
        "x = num_df.drop('Events',axis=1) #independant variables\n",
        "y = num_df['Events'] #dependant\n",
        "\n",
        "#training set size 0.75 - x_train + y_train\n",
        "#test set size 0.25 - x_test + y_test\n",
        "x_train, x_test, y_train, y_test= train_test_split(x, y, test_size= 0.25)\n",
        "\n",
        "\n",
        "#reduce the mean to ‘0’ and the standard deviation to ‘1’.\n",
        "st_x= StandardScaler()    \n",
        "x_train= st_x.fit_transform(x_train)    \n",
        "x_test= st_x.transform(x_test)\n",
        "\n",
        "\n",
        "#Gini = 0 means it is the purest node and it is a leaf.\n",
        "#A Gini coefficient of 0 expresses perfect equality, where all values are the same, while a Gini coefficient of 1 (or 100%) expresses maximal inequality among values. For example, if everyone has the same income, the Gini coefficient will be 0.\n",
        "clf_gini = DecisionTreeClassifier(criterion='gini', max_depth=3, random_state=0)\n",
        "\n",
        "# fit the model\n",
        "clf_gini.fit(x_train, y_train)"
      ],
      "metadata": {
        "colab": {
          "base_uri": "https://localhost:8080/"
        },
        "id": "G8J3AXInBRS6",
        "outputId": "7c8dafa5-f3d1-4882-e882-ef679cea0a69"
      },
      "execution_count": null,
      "outputs": [
        {
          "output_type": "execute_result",
          "data": {
            "text/plain": [
              "DecisionTreeClassifier(max_depth=3, random_state=0)"
            ]
          },
          "metadata": {},
          "execution_count": 411
        }
      ]
    },
    {
      "cell_type": "code",
      "source": [
        "#x_test acts as question\n",
        "\n",
        "y_pred_gini = clf_gini.predict(x_test)\n",
        "print('Model accuracy score with criterion gini index: {0:0.4f}'. format(accuracy_score(y_test, y_pred_gini)))\n",
        "\n",
        "#answer and predicted\n",
        "print(classification_report(y_test, y_pred_gini))\n",
        "\n",
        "from sklearn.metrics import plot_confusion_matrix\n",
        "plot_confusion_matrix(clf_gini, x_test, y_test)  "
      ],
      "metadata": {
        "colab": {
          "base_uri": "https://localhost:8080/",
          "height": 571
        },
        "id": "VmkcB3zBBTbe",
        "outputId": "e36ebc5d-3ca1-4f8c-baac-a62c28e69006"
      },
      "execution_count": null,
      "outputs": [
        {
          "output_type": "stream",
          "name": "stdout",
          "text": [
            "Model accuracy score with criterion gini index: 0.7909\n",
            "              precision    recall  f1-score   support\n",
            "\n",
            "           0       0.30      0.75      0.43         4\n",
            "           1       0.00      0.00      0.00         5\n",
            "           2       0.64      1.00      0.78         9\n",
            "           4       0.52      0.51      0.51        51\n",
            "           6       0.53      0.52      0.52        31\n",
            "           7       0.00      0.00      0.00         1\n",
            "           8       0.92      0.90      0.91       229\n",
            "\n",
            "    accuracy                           0.79       330\n",
            "   macro avg       0.42      0.53      0.45       330\n",
            "weighted avg       0.79      0.79      0.79       330\n",
            "\n"
          ]
        },
        {
          "output_type": "execute_result",
          "data": {
            "text/plain": [
              "<sklearn.metrics._plot.confusion_matrix.ConfusionMatrixDisplay at 0x7f60a0711450>"
            ]
          },
          "metadata": {},
          "execution_count": 412
        },
        {
          "output_type": "display_data",
          "data": {
            "text/plain": [
              "<Figure size 432x288 with 2 Axes>"
            ],
            "image/png": "[encoded data removed]"
          },
          "metadata": {
            "needs_background": "light"
          }
        }
      ]
    },
    {
      "cell_type": "markdown",
      "source": [
        "This heat map is applied for the heat map and it depicts the correctly and wrongly prdicted number of samples. Most of the smaples belonging to class 8 are correctly predicted where others are not predicted. Also there are more flase postives in class 4."
      ],
      "metadata": {
        "id": "emPIBYx7EUi_"
      }
    },
    {
      "cell_type": "code",
      "source": [
        "y_pred_train_gini = clf_gini.predict(x_train)\n",
        "\n",
        "y_pred_train_gini\n",
        "print('Training-set accuracy score: {0:0.4f}'. format(accuracy_score(y_train, y_pred_train_gini)))\n",
        "\n",
        "\n",
        "print(classification_report(y_train, y_pred_train_gini))\n",
        "\n",
        "print(confusion_matrix(y_train, y_pred_train_gini))"
      ],
      "metadata": {
        "colab": {
          "base_uri": "https://localhost:8080/"
        },
        "id": "QCVG_PptBWHB",
        "outputId": "3161c67b-3c2b-4b54-b6e4-4302964ea2df"
      },
      "execution_count": null,
      "outputs": [
        {
          "output_type": "stream",
          "name": "stdout",
          "text": [
            "Training-set accuracy score: 0.7674\n",
            "              precision    recall  f1-score   support\n",
            "\n",
            "           0       0.57      0.94      0.71        17\n",
            "           1       0.00      0.00      0.00         9\n",
            "           2       0.71      0.92      0.80        24\n",
            "           3       0.00      0.00      0.00         1\n",
            "           4       0.40      0.40      0.40       141\n",
            "           5       0.00      0.00      0.00         1\n",
            "           6       0.55      0.56      0.55       106\n",
            "           7       0.00      0.00      0.00        16\n",
            "           8       0.89      0.90      0.89       674\n",
            "\n",
            "    accuracy                           0.77       989\n",
            "   macro avg       0.35      0.41      0.37       989\n",
            "weighted avg       0.75      0.77      0.76       989\n",
            "\n",
            "[[ 16   0   1   0   0   0   0   0   0]\n",
            " [  5   0   4   0   0   0   0   0   0]\n",
            " [  2   0  22   0   0   0   0   0   0]\n",
            " [  0   0   1   0   0   0   0   0   0]\n",
            " [  1   0   0   0  56   0  36   0  48]\n",
            " [  0   0   0   0   1   0   0   0   0]\n",
            " [  0   0   0   0  29   0  59   0  18]\n",
            " [  0   0   0   0   2   0   4   0  10]\n",
            " [  4   0   3   0  52   0   9   0 606]]\n"
          ]
        }
      ]
    },
    {
      "cell_type": "code",
      "source": [
        "print('Training set score: {:.4f}'.format(clf_gini.score(x_train, y_train)))\n",
        "\n",
        "print('Test set score: {:.4f}'.format(clf_gini.score(x_test, y_test)))"
      ],
      "metadata": {
        "colab": {
          "base_uri": "https://localhost:8080/"
        },
        "id": "vGDTktpqBZUh",
        "outputId": "7ce807ef-74af-452a-c772-7f0f4dd38d43"
      },
      "execution_count": null,
      "outputs": [
        {
          "output_type": "stream",
          "name": "stdout",
          "text": [
            "Training set score: 0.7674\n",
            "Test set score: 0.7909\n"
          ]
        }
      ]
    },
    {
      "cell_type": "code",
      "source": [
        "plt.figure(figsize=(12,8))\n",
        "\n",
        "from sklearn import tree\n",
        "\n",
        "tree.plot_tree(clf_gini.fit(x_train, y_train)) \n",
        "\n",
        "#use of dt----for feature engineering---- to select the best column"
      ],
      "metadata": {
        "colab": {
          "base_uri": "https://localhost:8080/",
          "height": 740
        },
        "id": "C7AyCMSsBb8Z",
        "outputId": "9972c1ef-cefe-417c-e8db-78e1456bee6a"
      },
      "execution_count": null,
      "outputs": [
        {
          "output_type": "execute_result",
          "data": {
            "text/plain": [
              "[Text(0.5, 0.875, 'X[14] <= -0.622\\ngini = 0.503\\nsamples = 989\\nvalue = [17, 9, 24, 1, 141, 1, 106, 16, 674]'),\n",
              " Text(0.25, 0.625, 'X[14] <= -1.702\\ngini = 0.769\\nsamples = 299\\nvalue = [17, 9, 24, 1, 90, 1, 85, 6, 66]'),\n",
              " Text(0.125, 0.375, 'X[3] <= 0.301\\ngini = 0.714\\nsamples = 59\\nvalue = [17, 9, 24, 1, 1, 0, 0, 0, 7]'),\n",
              " Text(0.0625, 0.125, 'gini = 0.615\\nsamples = 28\\nvalue = [16, 5, 2, 0, 1, 0, 0, 0, 4]'),\n",
              " Text(0.1875, 0.125, 'gini = 0.468\\nsamples = 31\\nvalue = [1, 4, 22, 1, 0, 0, 0, 0, 3]'),\n",
              " Text(0.375, 0.375, 'X[3] <= 0.511\\ngini = 0.676\\nsamples = 240\\nvalue = [0, 0, 0, 0, 89, 1, 85, 6, 59]'),\n",
              " Text(0.3125, 0.125, 'gini = 0.662\\nsamples = 135\\nvalue = [0, 0, 0, 0, 53, 1, 29, 2, 50]'),\n",
              " Text(0.4375, 0.125, 'gini = 0.589\\nsamples = 105\\nvalue = [0, 0, 0, 0, 36, 0, 56, 4, 9]'),\n",
              " Text(0.75, 0.625, 'X[7] <= 0.556\\ngini = 0.217\\nsamples = 690\\nvalue = [0, 0, 0, 0, 51, 0, 21, 10, 608]'),\n",
              " Text(0.625, 0.375, 'X[5] <= -2.599\\ngini = 0.141\\nsamples = 606\\nvalue = [0, 0, 0, 0, 26, 0, 11, 8, 561]'),\n",
              " Text(0.5625, 0.125, 'gini = 0.48\\nsamples = 5\\nvalue = [0, 0, 0, 0, 3, 0, 0, 0, 2]'),\n",
              " Text(0.6875, 0.125, 'gini = 0.133\\nsamples = 601\\nvalue = [0, 0, 0, 0, 23, 0, 11, 8, 559]'),\n",
              " Text(0.875, 0.375, 'X[3] <= 1.144\\ngini = 0.584\\nsamples = 84\\nvalue = [0, 0, 0, 0, 25, 0, 10, 2, 47]'),\n",
              " Text(0.8125, 0.125, 'gini = 0.56\\nsamples = 81\\nvalue = [0, 0, 0, 0, 25, 0, 7, 2, 47]'),\n",
              " Text(0.9375, 0.125, 'gini = 0.0\\nsamples = 3\\nvalue = [0, 0, 0, 0, 0, 0, 3, 0, 0]')]"
            ]
          },
          "metadata": {},
          "execution_count": 415
        },
        {
          "output_type": "display_data",
          "data": {
            "text/plain": [
              "<Figure size 864x576 with 1 Axes>"
            ],
            "image/png": "[encoded data removed]"
          },
          "metadata": {
            "needs_background": "light"
          }
        }
      ]
    },
    {
      "cell_type": "markdown",
      "source": [
        "We can see from the tree that 15th column is taken as root node hence the class attribute has more dependency on the 15th column."
      ],
      "metadata": {
        "id": "Y8WBPg92EEQv"
      }
    },
    {
      "cell_type": "code",
      "source": [
        "acc_score = accuracy_score(y_pred_gini,y_test) \n",
        "print(\"Accuracy score\",acc_score)\n",
        "acc_dict['DecisionTree']=round(acc_score,3)\n",
        "print(acc_dict)"
      ],
      "metadata": {
        "colab": {
          "base_uri": "https://localhost:8080/"
        },
        "id": "DLXBV2vGL6FX",
        "outputId": "7c841953-86bb-4d00-e7b3-aa7ce4ee02e8"
      },
      "execution_count": null,
      "outputs": [
        {
          "output_type": "stream",
          "name": "stdout",
          "text": [
            "Accuracy score 0.7909090909090909\n",
            "{'KNN': 0.752, 'Naive bayes': 0.748, 'Kmeans': 0.066, 'Hierarchial': 0.008, 'DecisionTree': 0.791, 'LinearRegression': 0, 'LogisticRegression': 0, 'SVM': 0, 'MLP': 0}\n"
          ]
        }
      ]
    },
    {
      "cell_type": "markdown",
      "source": [
        "linear regression\n",
        "<br>\n",
        "It is a statistical method that is used for predictive analysis. Linear regression makes predictions for continuous/real or numeric variables"
      ],
      "metadata": {
        "id": "-2we-JLwNXeW"
      }
    },
    {
      "cell_type": "code",
      "source": [
        "from sklearn import linear_model\n",
        "\n",
        "x = num_df.drop('Events',axis=1) #independant variables\n",
        "y = num_df['Events'] #dependant\n",
        "\n",
        "x_train, x_test, y_train, y_test= train_test_split(x, y, test_size= 0.25)  \n",
        "lm = linear_model.LinearRegression()\n",
        "model = lm.fit(x_train,y_train)\n",
        "pred = lm.predict(x_train)\n",
        "\n",
        "#checking accuracy:\n",
        "from sklearn.metrics import r2_score\n",
        "predd = lm.predict(x_test)\n",
        "acc_score = r2_score(y_test, predd)\n",
        "acc_dict['LinearRegression']=round(acc_score,3)\n",
        "print(acc_dict)"
      ],
      "metadata": {
        "colab": {
          "base_uri": "https://localhost:8080/"
        },
        "id": "fTDIhZUpMlOK",
        "outputId": "f7916ca2-a277-4fdd-a2e6-46117c59845f"
      },
      "execution_count": null,
      "outputs": [
        {
          "output_type": "stream",
          "name": "stdout",
          "text": [
            "{'KNN': 0.752, 'Naive bayes': 0.748, 'Kmeans': 0.066, 'Hierarchial': 0.008, 'DecisionTree': 0.791, 'LinearRegression': 0.526, 'LogisticRegression': 0, 'SVM': 0, 'MLP': 0}\n"
          ]
        }
      ]
    },
    {
      "cell_type": "markdown",
      "source": [
        "**lab7 ------------------------------------------------------- Logistic Regression -----------------------------------------------------------------------**"
      ],
      "metadata": {
        "id": "-KbD44XMCq2s"
      }
    },
    {
      "cell_type": "code",
      "source": [
        "x = num_df.drop('Events',axis=1) #independant variables\n",
        "y = num_df['Events'] #dependant\n",
        "\n",
        "x_train, x_test, y_train, y_test= train_test_split(x, y, test_size= 0.25)  \n",
        "\n",
        "#Fitting Logistic Regression to the training set  \n",
        "from sklearn.linear_model import LogisticRegression  \n",
        "classifier= LogisticRegression(random_state=0)  \n",
        "classifier.fit(x_train, y_train)"
      ],
      "metadata": {
        "colab": {
          "base_uri": "https://localhost:8080/"
        },
        "id": "FUWR-oy7EciW",
        "outputId": "59f488d0-47f8-460b-a7fa-2d63ffea5da2"
      },
      "execution_count": null,
      "outputs": [
        {
          "output_type": "execute_result",
          "data": {
            "text/plain": [
              "LogisticRegression(random_state=0)"
            ]
          },
          "metadata": {},
          "execution_count": 418
        }
      ]
    },
    {
      "cell_type": "code",
      "source": [
        "#Predicting the test set result  \n",
        "y_pred= classifier.predict(x_test)  \n",
        "\n",
        "#Creating the Confusion matrix  \n",
        "from sklearn.metrics import confusion_matrix  \n",
        "cm= confusion_matrix(y_test, y_pred)  \n",
        "cm"
      ],
      "metadata": {
        "colab": {
          "base_uri": "https://localhost:8080/"
        },
        "id": "8EDpWcH_EgXc",
        "outputId": "8185ae66-31a8-4fca-ab9f-6dc5555ee297"
      },
      "execution_count": null,
      "outputs": [
        {
          "output_type": "execute_result",
          "data": {
            "text/plain": [
              "array([[  1,   0,   0,   0,   2,   0,   2,   0,   2],\n",
              "       [  0,   0,   0,   0,   2,   0,   3,   0,   0],\n",
              "       [  0,   0,   4,   0,   0,   0,   1,   0,   0],\n",
              "       [  0,   0,   0,   0,   0,   0,   0,   0,   1],\n",
              "       [  0,   0,   0,   0,  15,   0,   9,   0,  11],\n",
              "       [  0,   0,   0,   0,   0,   0,   0,   0,   1],\n",
              "       [  0,   0,   1,   0,   9,   0,  14,   0,   7],\n",
              "       [  0,   0,   0,   0,   1,   0,   0,   0,   5],\n",
              "       [  0,   0,   0,   0,   8,   0,   2,   1, 228]])"
            ]
          },
          "metadata": {},
          "execution_count": 419
        }
      ]
    },
    {
      "cell_type": "code",
      "source": [
        "from sklearn.metrics import plot_confusion_matrix\n",
        "plot_confusion_matrix(classifier, x_test, y_test)  "
      ],
      "metadata": {
        "colab": {
          "base_uri": "https://localhost:8080/",
          "height": 297
        },
        "id": "3A_mb15eEtDL",
        "outputId": "b38084ec-a45d-4443-959f-4cec539b5934"
      },
      "execution_count": null,
      "outputs": [
        {
          "output_type": "execute_result",
          "data": {
            "text/plain": [
              "<sklearn.metrics._plot.confusion_matrix.ConfusionMatrixDisplay at 0x7f60a1e4aa50>"
            ]
          },
          "metadata": {},
          "execution_count": 420
        },
        {
          "output_type": "display_data",
          "data": {
            "text/plain": [
              "<Figure size 432x288 with 2 Axes>"
            ],
            "image/png": "[encoded data removed]"
          },
          "metadata": {
            "needs_background": "light"
          }
        }
      ]
    },
    {
      "cell_type": "markdown",
      "source": [
        "This heat map is applied for the heat map and it depicts the correctly and wrongly prdicted number of samples. Most of the smaples belonging to class 8 are correctly predicted where others are not predicted. Also there are more flase postives in class 4."
      ],
      "metadata": {
        "id": "ulIMB9suD_wP"
      }
    },
    {
      "cell_type": "code",
      "source": [
        "print('Accuracy of logistic regression classifier on test set: {:.2f}'.format(classifier.score(x_test, y_test)))"
      ],
      "metadata": {
        "colab": {
          "base_uri": "https://localhost:8080/"
        },
        "id": "vpce9etrEuum",
        "outputId": "fc9ef8dd-ac04-46b0-bf2d-9cb86523f0f5"
      },
      "execution_count": null,
      "outputs": [
        {
          "output_type": "stream",
          "name": "stdout",
          "text": [
            "Accuracy of logistic regression classifier on test set: 0.79\n"
          ]
        }
      ]
    },
    {
      "cell_type": "code",
      "source": [
        "from sklearn.metrics import classification_report\n",
        "print(classification_report(y_test, y_pred))"
      ],
      "metadata": {
        "colab": {
          "base_uri": "https://localhost:8080/"
        },
        "id": "WRtaX1zdEyoN",
        "outputId": "5ae0409d-0c2e-48d3-baaf-84f858945c3c"
      },
      "execution_count": null,
      "outputs": [
        {
          "output_type": "stream",
          "name": "stdout",
          "text": [
            "              precision    recall  f1-score   support\n",
            "\n",
            "           0       1.00      0.14      0.25         7\n",
            "           1       0.00      0.00      0.00         5\n",
            "           2       0.80      0.80      0.80         5\n",
            "           3       0.00      0.00      0.00         1\n",
            "           4       0.41      0.43      0.42        35\n",
            "           5       0.00      0.00      0.00         1\n",
            "           6       0.45      0.45      0.45        31\n",
            "           7       0.00      0.00      0.00         6\n",
            "           8       0.89      0.95      0.92       239\n",
            "\n",
            "    accuracy                           0.79       330\n",
            "   macro avg       0.39      0.31      0.32       330\n",
            "weighted avg       0.77      0.79      0.77       330\n",
            "\n"
          ]
        }
      ]
    },
    {
      "cell_type": "code",
      "source": [
        "tested_x = classifier.predict(x_test)"
      ],
      "metadata": {
        "id": "154AW5jRE0Lg"
      },
      "execution_count": null,
      "outputs": []
    },
    {
      "cell_type": "code",
      "source": [
        "from sklearn import metrics\n",
        "log_regression = LogisticRegression()\n",
        "\n",
        "log_regression.fit(x_train,y_train)\n",
        "#define metrics\n",
        "y_pred_proba = log_regression.predict_proba(x_test)[::,1]\n",
        "fpr, tpr, _ = metrics.roc_curve(y_test,  y_pred_proba, pos_label=0)\n",
        "\n",
        "#create ROC curve\n",
        "plt.plot(fpr,tpr ,color=\"navy\")\n",
        "plt.ylabel('True Positive Rate')\n",
        "plt.xlabel('False Positive Rate')\n",
        "plt.show()"
      ],
      "metadata": {
        "colab": {
          "base_uri": "https://localhost:8080/",
          "height": 279
        },
        "id": "GeOVkpC3E2Cr",
        "outputId": "40fb5ccd-d14d-4ad9-b799-b25fef3140ea"
      },
      "execution_count": null,
      "outputs": [
        {
          "output_type": "display_data",
          "data": {
            "text/plain": [
              "<Figure size 432x288 with 1 Axes>"
            ],
            "image/png": "[encoded data removed]"
          },
          "metadata": {
            "needs_background": "light"
          }
        }
      ]
    },
    {
      "cell_type": "markdown",
      "source": [
        "The graph shows the ROC curve and since the curve is left dominant, we can see that the classifer is able to classify correctly."
      ],
      "metadata": {
        "id": "F3N88zfPDqVp"
      }
    },
    {
      "cell_type": "code",
      "source": [
        "acc_score = accuracy_score(y_test, y_pred) \n",
        "print(\"Accuracy score\",acc_score)\n",
        "acc_dict['LogisticRegression']=round(acc_score,3)\n",
        "print(acc_dict)"
      ],
      "metadata": {
        "id": "q_xHKU7ZN6Mi",
        "colab": {
          "base_uri": "https://localhost:8080/"
        },
        "outputId": "42ce81b1-dc73-40be-9d48-6932d1839a80"
      },
      "execution_count": null,
      "outputs": [
        {
          "output_type": "stream",
          "name": "stdout",
          "text": [
            "Accuracy score 0.793939393939394\n",
            "{'KNN': 0.752, 'Naive bayes': 0.748, 'Kmeans': 0.066, 'Hierarchial': 0.008, 'DecisionTree': 0.791, 'LinearRegression': 0.526, 'LogisticRegression': 0.794, 'SVM': 0, 'MLP': 0}\n"
          ]
        }
      ]
    },
    {
      "cell_type": "markdown",
      "source": [
        "**lab8 -----------------------------------------------------SVM -----------------------------------------------------------------------**"
      ],
      "metadata": {
        "id": "Y0mJ04VGFWe8"
      }
    },
    {
      "cell_type": "code",
      "source": [
        "x = num_df.drop('Events',axis=1) #independant variables\n",
        "y = num_df['Events'] #dependant\n",
        "\n",
        "x_train, x_test, y_train, y_test= train_test_split(x, y, test_size= 0.25)  \n",
        "\n",
        "from sklearn import svm\n",
        "#create a classifier\n",
        "svm_cls = svm.SVC(kernel=\"linear\")\n",
        "#train the model\n",
        "svm_cls.fit(x_train,y_train)\n",
        "#predict the response\n",
        "pred = svm_cls.predict(x_test)"
      ],
      "metadata": {
        "id": "Yh3s9QGiFowp"
      },
      "execution_count": null,
      "outputs": []
    },
    {
      "cell_type": "code",
      "source": [
        "from sklearn import metrics\n",
        "#accuracy\n",
        "y_pred=pred\n",
        "print(\"acuracy:\", metrics.accuracy_score(y_test,y_pred=pred))\n",
        "print(\"Precision Score : \",  metrics.precision_score(y_test,y_pred,pos_label='positive', average='micro'))\n",
        "print(\"Recall Score :\" ,  metrics.recall_score(y_test, y_pred, pos_label='positive', average='micro') )\n",
        "print(metrics.classification_report(y_test, y_pred=pred))"
      ],
      "metadata": {
        "colab": {
          "base_uri": "https://localhost:8080/"
        },
        "id": "xritbGKSFu02",
        "outputId": "34c63e74-44ef-4ffc-f192-e79e4554404b"
      },
      "execution_count": null,
      "outputs": [
        {
          "output_type": "stream",
          "name": "stdout",
          "text": [
            "acuracy: 0.7636363636363637\n",
            "Precision Score :  0.7636363636363637\n",
            "Recall Score : 0.7636363636363637\n",
            "              precision    recall  f1-score   support\n",
            "\n",
            "           0       0.67      0.80      0.73         5\n",
            "           1       0.60      1.00      0.75         3\n",
            "           2       1.00      0.80      0.89        10\n",
            "           3       0.00      0.00      0.00         1\n",
            "           4       0.37      0.38      0.37        45\n",
            "           6       0.62      0.42      0.50        36\n",
            "           7       0.00      0.00      0.00         6\n",
            "           8       0.85      0.92      0.88       224\n",
            "\n",
            "    accuracy                           0.76       330\n",
            "   macro avg       0.51      0.54      0.52       330\n",
            "weighted avg       0.74      0.76      0.75       330\n",
            "\n"
          ]
        }
      ]
    },
    {
      "cell_type": "code",
      "source": [
        "#Creating the Confusion matrix  \n",
        "from sklearn.metrics import confusion_matrix  \n",
        "cm= confusion_matrix(y_test, y_pred)  \n",
        "cm"
      ],
      "metadata": {
        "colab": {
          "base_uri": "https://localhost:8080/"
        },
        "id": "fpgPlC8UFwzb",
        "outputId": "82639540-b18e-44a5-d4cd-57fdba2bd974"
      },
      "execution_count": null,
      "outputs": [
        {
          "output_type": "execute_result",
          "data": {
            "text/plain": [
              "array([[  4,   1,   0,   0,   0,   0,   0,   0],\n",
              "       [  0,   3,   0,   0,   0,   0,   0,   0],\n",
              "       [  1,   1,   8,   0,   0,   0,   0,   0],\n",
              "       [  1,   0,   0,   0,   0,   0,   0,   0],\n",
              "       [  0,   0,   0,   0,  17,   4,   0,  24],\n",
              "       [  0,   0,   0,   0,  14,  15,   0,   7],\n",
              "       [  0,   0,   0,   0,   1,   1,   0,   4],\n",
              "       [  0,   0,   0,   0,  14,   4,   1, 205]])"
            ]
          },
          "metadata": {},
          "execution_count": 428
        }
      ]
    },
    {
      "cell_type": "code",
      "source": [
        "from sklearn.metrics import plot_confusion_matrix\n",
        "plot_confusion_matrix(svm_cls, x_test, y_test)  "
      ],
      "metadata": {
        "colab": {
          "base_uri": "https://localhost:8080/",
          "height": 297
        },
        "id": "kc2QUZZiFy65",
        "outputId": "6e384149-2c44-4b12-f230-ac28650351e3"
      },
      "execution_count": null,
      "outputs": [
        {
          "output_type": "execute_result",
          "data": {
            "text/plain": [
              "<sklearn.metrics._plot.confusion_matrix.ConfusionMatrixDisplay at 0x7f60a04fed10>"
            ]
          },
          "metadata": {},
          "execution_count": 429
        },
        {
          "output_type": "display_data",
          "data": {
            "text/plain": [
              "<Figure size 432x288 with 2 Axes>"
            ],
            "image/png": "[encoded data removed]"
          },
          "metadata": {
            "needs_background": "light"
          }
        }
      ]
    },
    {
      "cell_type": "markdown",
      "source": [
        "This heat map is applied for the heat map and it depicts the correctly and wrongly prdicted number of samples. Most of the smaples belonging to class 8 are correctly predicted where others are not predicted. Also there are more flase postives in class 4."
      ],
      "metadata": {
        "id": "qwyLyrmRDV_z"
      }
    },
    {
      "cell_type": "code",
      "source": [
        "acc_score = accuracy_score(y_test, y_pred) \n",
        "print(\"Accuracy score\",acc_score)\n",
        "acc_dict['SVM']=round(acc_score,3)\n",
        "print(acc_dict)"
      ],
      "metadata": {
        "colab": {
          "base_uri": "https://localhost:8080/"
        },
        "id": "R6yYmbgEQ6I2",
        "outputId": "e605e3ff-6f30-4f78-9516-85cf4024f2ac"
      },
      "execution_count": null,
      "outputs": [
        {
          "output_type": "stream",
          "name": "stdout",
          "text": [
            "Accuracy score 0.7636363636363637\n",
            "{'KNN': 0.752, 'Naive bayes': 0.748, 'Kmeans': 0.066, 'Hierarchial': 0.008, 'DecisionTree': 0.791, 'LinearRegression': 0.526, 'LogisticRegression': 0.794, 'SVM': 0.764, 'MLP': 0}\n"
          ]
        }
      ]
    },
    {
      "cell_type": "markdown",
      "source": [
        "**lab9 -------------------------------------------------MLP-----------------------------------------------------------------------**"
      ],
      "metadata": {
        "id": "ik7lNm-KF_E_"
      }
    },
    {
      "cell_type": "code",
      "source": [
        "x = num_df.drop('Events',axis=1) #independant variables\n",
        "y = num_df['Events'] #dependant\n",
        "\n",
        "x_train, x_test, y_train, y_test= train_test_split(x, y, test_size= 0.25)  \n",
        "sc=StandardScaler()\n",
        "\n",
        "scaler = sc.fit(x_train)\n",
        "trainX_scaled = scaler.transform(x_train)\n",
        "testX_scaled = scaler.transform(x_test)"
      ],
      "metadata": {
        "id": "mgtk_xinGMj_"
      },
      "execution_count": null,
      "outputs": []
    },
    {
      "cell_type": "code",
      "source": [
        "from sklearn.neural_network import MLPClassifier\n",
        "clf = MLPClassifier(random_state=1, max_iter=300).fit(x_train, y_train)"
      ],
      "metadata": {
        "id": "piIKjvtHGQz8"
      },
      "execution_count": null,
      "outputs": []
    },
    {
      "cell_type": "code",
      "source": [
        "clf.predict_proba(x_test)\n",
        "clf.score(x_test, y_test)"
      ],
      "metadata": {
        "colab": {
          "base_uri": "https://localhost:8080/"
        },
        "id": "yVKq9SBVGTo-",
        "outputId": "7944c823-99a7-4db0-e301-f29a09ed11fe"
      },
      "execution_count": null,
      "outputs": [
        {
          "output_type": "execute_result",
          "data": {
            "text/plain": [
              "0.793939393939394"
            ]
          },
          "metadata": {},
          "execution_count": 433
        }
      ]
    },
    {
      "cell_type": "code",
      "source": [
        "pred = clf.score(x_train,y_train)\n",
        "pred"
      ],
      "metadata": {
        "colab": {
          "base_uri": "https://localhost:8080/"
        },
        "id": "pF4FnPBAGV2K",
        "outputId": "f0f57220-9003-480f-b9fd-79c832e7b857"
      },
      "execution_count": null,
      "outputs": [
        {
          "output_type": "execute_result",
          "data": {
            "text/plain": [
              "0.7937310414560161"
            ]
          },
          "metadata": {},
          "execution_count": 434
        }
      ]
    },
    {
      "cell_type": "code",
      "source": [
        "activationList = [\"relu\", \"identity\", \"logistic\", \"tanh\"]\n",
        "for i in range(0,4):\n",
        "  clf = MLPClassifier(activation = activationList[i]);\n",
        "  clf.fit(x_train, y_train);\n",
        "  tempscore = clf.score(x_train, y_train)\n",
        "  print(\"Activation function -\",activationList[i],\"- Accuracy : \",tempscore)"
      ],
      "metadata": {
        "colab": {
          "base_uri": "https://localhost:8080/"
        },
        "id": "OYkecKQDGXxO",
        "outputId": "d268aaa7-af9f-493d-fc52-c411481352d7"
      },
      "execution_count": null,
      "outputs": [
        {
          "output_type": "stream",
          "name": "stdout",
          "text": [
            "Activation function - relu - Accuracy :  0.7553083923154702\n",
            "Activation function - identity - Accuracy :  0.7573306370070778\n",
            "Activation function - logistic - Accuracy :  0.80788675429727\n",
            "Activation function - tanh - Accuracy :  0.8159757330637007\n"
          ]
        }
      ]
    },
    {
      "cell_type": "code",
      "source": [
        "y_pred = clf.predict(testX_scaled)\n",
        "\n",
        "print('Accuracy: {:.2f}'.format(accuracy_score(y_test, y_pred)))"
      ],
      "metadata": {
        "colab": {
          "base_uri": "https://localhost:8080/"
        },
        "id": "Va5TDf6HGaOE",
        "outputId": "a5e688c4-f8cc-467c-cb4b-557c4c1ca387"
      },
      "execution_count": null,
      "outputs": [
        {
          "output_type": "stream",
          "name": "stdout",
          "text": [
            "Accuracy: 0.54\n"
          ]
        }
      ]
    },
    {
      "cell_type": "code",
      "source": [
        "from sklearn.metrics import confusion_matrix, ConfusionMatrixDisplay\n",
        "\n",
        "#Get the confusion matrix\n",
        "cf_matrix = confusion_matrix(y_test, y_pred)\n",
        "print(cf_matrix)"
      ],
      "metadata": {
        "colab": {
          "base_uri": "https://localhost:8080/"
        },
        "id": "glSpL131Gc3u",
        "outputId": "8489b770-49d8-4d51-e70e-8c8fc685d39e"
      },
      "execution_count": null,
      "outputs": [
        {
          "output_type": "stream",
          "name": "stdout",
          "text": [
            "[[  1   0   7   0   0   0   0   0]\n",
            " [  0   1   4   0   0   0   0   0]\n",
            " [  0   0   4   0   0   0   0   0]\n",
            " [  0   0   0   0   0   0   0   0]\n",
            " [  1   8  28   0   0   0   0  11]\n",
            " [  0   5  30   0   0   0   0   5]\n",
            " [  1   1   3   0   0   0   0   2]\n",
            " [  7  10  15   7   0   1   5 173]]\n"
          ]
        }
      ]
    },
    {
      "cell_type": "code",
      "source": [
        "sns.heatmap(cf_matrix, annot=True)"
      ],
      "metadata": {
        "colab": {
          "base_uri": "https://localhost:8080/",
          "height": 283
        },
        "id": "CIicurWGGfSL",
        "outputId": "e24a6bdc-586d-4828-bec4-351b245c42d6"
      },
      "execution_count": null,
      "outputs": [
        {
          "output_type": "execute_result",
          "data": {
            "text/plain": [
              "<matplotlib.axes._subplots.AxesSubplot at 0x7f60a03b6210>"
            ]
          },
          "metadata": {},
          "execution_count": 438
        },
        {
          "output_type": "display_data",
          "data": {
            "text/plain": [
              "<Figure size 432x288 with 2 Axes>"
            ],
            "image/png": "[encoded data removed]"
          },
          "metadata": {
            "needs_background": "light"
          }
        }
      ]
    },
    {
      "cell_type": "markdown",
      "source": [
        "This heat map is applied for the heat map and it depicts the correctly and wrongly prdicted number of samples. Most of the smaples belonging to class 7 are correctly predicted where others are not predicted."
      ],
      "metadata": {
        "id": "_MiCEdcAC-d3"
      }
    },
    {
      "cell_type": "code",
      "source": [
        "acc_score = accuracy_score(y_test, y_pred) \n",
        "print(\"Accuracy score\",acc_score)\n",
        "acc_dict['MLP']=round(acc_score,3)\n",
        "print(acc_dict)"
      ],
      "metadata": {
        "colab": {
          "base_uri": "https://localhost:8080/"
        },
        "id": "Z671s6MHRA2V",
        "outputId": "ee40bc92-a71f-4b7a-de13-7a106b4a6033"
      },
      "execution_count": null,
      "outputs": [
        {
          "output_type": "stream",
          "name": "stdout",
          "text": [
            "Accuracy score 0.5424242424242425\n",
            "{'KNN': 0.752, 'Naive bayes': 0.748, 'Kmeans': 0.066, 'Hierarchial': 0.008, 'DecisionTree': 0.791, 'LinearRegression': 0.526, 'LogisticRegression': 0.794, 'SVM': 0.764, 'MLP': 0.542}\n"
          ]
        }
      ]
    },
    {
      "cell_type": "markdown",
      "source": [
        "**lab10 -------------------------------------------BPN---------------------------------------------------------------------**"
      ],
      "metadata": {
        "id": "kTkL5DnpIMwG"
      }
    },
    {
      "cell_type": "code",
      "source": [
        "from sklearn.metrics import roc_auc_score\n",
        "\n",
        "# getting the x(dataset excluding the class attribute) and y(class attribute) dataset from class data set\n",
        "X = num_df.drop('Events',axis=1)\n",
        "y = num_df['Events']\n",
        "\n",
        "X=X.values\n",
        "y=y.values\n",
        "y = pd.get_dummies(y).values\n",
        "\n",
        "#Split data into train and test data\n",
        "X_train, X_test, y_train, y_test = train_test_split(X, y, test_size=20, random_state=4)"
      ],
      "metadata": {
        "id": "SFlYqDJWH13T"
      },
      "execution_count": null,
      "outputs": []
    },
    {
      "cell_type": "code",
      "source": [
        "clf = MLPClassifier(hidden_layer_sizes=(100,),random_state=1, max_iter=300).fit(X_train, y_train)\n",
        "clf.fit(X_train,y_train)\n",
        "y_pred = clf.predict_proba(X_train)\n",
        "print('Overall AUC:', roc_auc_score(y_train, clf.predict_proba(X_train),multi_class=\"ovr\"))"
      ],
      "metadata": {
        "colab": {
          "base_uri": "https://localhost:8080/"
        },
        "id": "RxsJaj7aGij-",
        "outputId": "7c0e5457-bac9-4904-9023-d8ae92ba2614"
      },
      "execution_count": null,
      "outputs": [
        {
          "output_type": "stream",
          "name": "stdout",
          "text": [
            "Overall AUC: 0.9200155927809333\n"
          ]
        }
      ]
    },
    {
      "cell_type": "code",
      "source": [
        "# Initialize variables\n",
        "learning_rate = 0.1\n",
        "iterations = 500\n",
        "N = y_train.size\n",
        "\n",
        "# number of input features\n",
        "input_size = 19 #number of other columns(independent)\n",
        "\n",
        "# number of hidden layers neurons\n",
        "hidden_size = 2 \n",
        "\n",
        "# number of neurons at the output layer\n",
        "output_size = 9 #number of classesin class attribute  \n",
        "\n",
        "results = pd.DataFrame(columns=[\"mse\", \"accuracy\"])"
      ],
      "metadata": {
        "id": "y-VHOEeYHPsi"
      },
      "execution_count": null,
      "outputs": []
    },
    {
      "cell_type": "code",
      "source": [
        "# Initialize weights\n",
        "np.random.seed(10)\n",
        "\n",
        "# initializing weight for the hidden layer\n",
        "W1 = np.random.normal(scale=0.5, size=(input_size, hidden_size))   \n",
        "\n",
        "# initializing weight for the output layer\n",
        "W2 = np.random.normal(scale=0.5, size=(hidden_size , output_size)) "
      ],
      "metadata": {
        "id": "SXAJdLepHWuG"
      },
      "execution_count": null,
      "outputs": []
    },
    {
      "cell_type": "code",
      "source": [
        "def sigmoid(x):\n",
        "    return 1 / (1 + np.exp(-x))\n",
        "\n",
        "def mean_squared_error(y_pred, y_true):\n",
        "    return ((y_pred - y_true)**2).sum() / (2*y_pred.size)\n",
        "    \n",
        "def accuracy(y_pred, y_true):\n",
        "    acc = y_pred.argmax(axis=1) == y_true.argmax(axis=1)\n",
        "    return acc.mean()"
      ],
      "metadata": {
        "id": "cDOz7Uo1HZFV"
      },
      "execution_count": null,
      "outputs": []
    },
    {
      "cell_type": "code",
      "source": [
        "for itr in range(iterations):    \n",
        "    \n",
        "    # feedforward propagation\n",
        "    # on hidden layer\n",
        "    Z1 = np.dot(X_train, W1)\n",
        "    A1 = sigmoid(Z1)\n",
        "\n",
        "    # on output layer\n",
        "    Z2 = np.dot(A1, W2)\n",
        "    A2 = sigmoid(Z2)\n",
        "    \n",
        "    \n",
        "    # Calculating error\n",
        "    mse = mean_squared_error(A2, y_train)\n",
        "    acc = accuracy(A2, y_train)\n",
        "    results=results.append({\"mse\":mse, \"accuracy\":acc},ignore_index=True )\n",
        "    \n",
        "    # backpropagation\n",
        "    E1 = A2 - y_train\n",
        "    dW1 = E1 * A2 * (1 - A2)\n",
        "\n",
        "    E2 = np.dot(dW1, W2.T)\n",
        "    dW2 = E2 * A1 * (1 - A1)\n",
        "\n",
        "    \n",
        "    # weight updates\n",
        "    W2_update = np.dot(A1.T, dW1) / N\n",
        "    W1_update = np.dot(X_train.T, dW2) / N\n",
        "\n",
        "    W2 = W2 - learning_rate * W2_update\n",
        "    W1 = W1 - learning_rate * W1_update"
      ],
      "metadata": {
        "id": "VzyEZfzdHbV3"
      },
      "execution_count": null,
      "outputs": []
    },
    {
      "cell_type": "code",
      "source": [
        "results.mse.plot(title=\"Mean Squared Error\")"
      ],
      "metadata": {
        "colab": {
          "base_uri": "https://localhost:8080/",
          "height": 299
        },
        "id": "jTjXoMvtHgCN",
        "outputId": "846029a9-921a-46ca-9dfc-ac197dc2d1db"
      },
      "execution_count": null,
      "outputs": [
        {
          "output_type": "execute_result",
          "data": {
            "text/plain": [
              "<matplotlib.axes._subplots.AxesSubplot at 0x7f60a23eb150>"
            ]
          },
          "metadata": {},
          "execution_count": 446
        },
        {
          "output_type": "display_data",
          "data": {
            "text/plain": [
              "<Figure size 432x288 with 1 Axes>"
            ],
            "image/png": "[encoded data removed]"
          },
          "metadata": {
            "needs_background": "light"
          }
        }
      ]
    },
    {
      "cell_type": "markdown",
      "source": [
        "The error decreses with each iteraton. the grapgh clearly depicts number of iterations vs error rates."
      ],
      "metadata": {
        "id": "-1DhmTMwCzxZ"
      }
    },
    {
      "cell_type": "code",
      "source": [
        "results.accuracy.plot(title=\"Accuracy\")"
      ],
      "metadata": {
        "colab": {
          "base_uri": "https://localhost:8080/",
          "height": 299
        },
        "id": "G_sJtQ-8HiUI",
        "outputId": "e611b54a-274c-4b7e-ce50-11b7ed29cf6e"
      },
      "execution_count": null,
      "outputs": [
        {
          "output_type": "execute_result",
          "data": {
            "text/plain": [
              "<matplotlib.axes._subplots.AxesSubplot at 0x7f60a1508410>"
            ]
          },
          "metadata": {},
          "execution_count": 447
        },
        {
          "output_type": "display_data",
          "data": {
            "text/plain": [
              "<Figure size 432x288 with 1 Axes>"
            ],
            "image/png": "[encoded data removed]"
          },
          "metadata": {
            "needs_background": "light"
          }
        }
      ]
    },
    {
      "cell_type": "markdown",
      "source": [
        "We can see the accuracy increases after the 200 iterations\n"
      ],
      "metadata": {
        "id": "8ST-g_PNCsu9"
      }
    },
    {
      "cell_type": "code",
      "source": [
        "y_pred = clf.predict_proba(X_train)\n",
        "print('Overall AUC:', roc_auc_score(y_train,y_pred,multi_class=\"ovr\"))"
      ],
      "metadata": {
        "colab": {
          "base_uri": "https://localhost:8080/"
        },
        "id": "zUNLbIOlHj87",
        "outputId": "0645a4a9-4a81-4100-ec97-3b9de09ddd6e"
      },
      "execution_count": null,
      "outputs": [
        {
          "output_type": "stream",
          "name": "stdout",
          "text": [
            "Overall AUC: 0.9200155927809333\n"
          ]
        }
      ]
    },
    {
      "cell_type": "markdown",
      "source": [
        "**all accuracy scores** "
      ],
      "metadata": {
        "id": "wE0-6DF7UW-n"
      }
    },
    {
      "cell_type": "code",
      "source": [
        "keyList = []\n",
        "valuesList = []\n",
        "\n",
        "for key, value in acc_dict.items():\n",
        "  keyList.append(key)\n",
        "  valuesList.append(value)\n",
        "\n",
        "plt.figure(figsize=(20, 7))\n",
        "plt.title(\"Algorithms vs accuracy scores\")\n",
        "plt.plot(keyList, valuesList)\n",
        "plt.xlabel(\"ALGORITHMS\")\n",
        "plt.ylabel(\"ACCURACY SCORES\")  \n",
        "\n",
        "print(acc_dict)\n",
        "print(\"\\n \")"
      ],
      "metadata": {
        "colab": {
          "base_uri": "https://localhost:8080/",
          "height": 513
        },
        "id": "vPB9mKGMUWDU",
        "outputId": "d467cdca-61b7-4a01-f8cc-47f2b26b73bd"
      },
      "execution_count": null,
      "outputs": [
        {
          "output_type": "stream",
          "name": "stdout",
          "text": [
            "{'KNN': 0.752, 'Naive bayes': 0.748, 'Kmeans': 0.066, 'Hierarchial': 0.008, 'DecisionTree': 0.791, 'LinearRegression': 0.526, 'LogisticRegression': 0.794, 'SVM': 0.764, 'MLP': 0.542}\n",
            "\n",
            " \n"
          ]
        },
        {
          "output_type": "display_data",
          "data": {
            "text/plain": [
              "<Figure size 1440x504 with 1 Axes>"
            ],
            "image/png": "[encoded data removed]"
          },
          "metadata": {
            "needs_background": "light"
          }
        }
      ]
    },
    {
      "cell_type": "markdown",
      "source": [
        "When KNN, Naive Bayes, K means,  Hierarchial, Decision tree, Linear regression, Logistic regression, SVM and MLP algorithms were compared, the logistic regression has given more accuracy than all the algorithms. hence it is the best algorithm for the classification of austin weather dataset."
      ],
      "metadata": {
        "id": "1LAB6OuOmwfO"
      }
    }
  ],
  "metadata": {
    "colab": {
      "collapsed_sections": [],
      "provenance": []
    },
    "kernelspec": {
      "display_name": "Python 3",
      "name": "python3"
    },
    "language_info": {
      "name": "python"
    }
  },
  "nbformat": 4,
  "nbformat_minor": 0
}